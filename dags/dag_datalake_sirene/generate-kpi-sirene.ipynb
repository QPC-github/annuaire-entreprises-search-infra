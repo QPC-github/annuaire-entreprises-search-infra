{
 "cells": [
  {
   "cell_type": "code",
   "execution_count": null,
   "metadata": {},
   "outputs": [],
   "source": [
    "import pandas as pd\n",
    "import os, shutil\n",
    "from datetime import datetime\n",
    "import json"
   ]
  },
  {
   "cell_type": "code",
   "execution_count": null,
   "metadata": {},
   "outputs": [],
   "source": [
    "if \"OUTPUT_DATA_FOLDER\" not in locals():\n",
    "    OUTPUT_DATA_FOLDER = \"./output/\"\n",
    "else:\n",
    "    print(OUTPUT_DATA_FOLDER)\n",
    "\n",
    "if os.path.exists(OUTPUT_DATA_FOLDER) and os.path.isdir(OUTPUT_DATA_FOLDER):\n",
    "    shutil.rmtree(OUTPUT_DATA_FOLDER)\n",
    "os.makedirs(os.path.dirname(OUTPUT_DATA_FOLDER), exist_ok=True)"
   ]
  },
  {
   "cell_type": "code",
   "execution_count": null,
   "metadata": {},
   "outputs": [],
   "source": [
    "alldeps = [\n",
    "    *\"-0\".join(list(str(x) for x in range(0, 10))).split(\"-\")[1:],\n",
    "    *list(str(x) for x in range(10, 20)),\n",
    "    *[\"2A\", \"2B\"],\n",
    "    *list(str(x) for x in range(21, 95)),\n",
    "    *\"-7510\".join(list(str(x) for x in range(0, 10))).split(\"-\")[1:],\n",
    "    *\"-751\".join(list(str(x) for x in range(10, 21))).split(\"-\")[1:],\n",
    "    *[\"\"],\n",
    "]\n",
    "alldeps.remove(\"75\")"
   ]
  },
  {
   "cell_type": "code",
   "execution_count": null,
   "metadata": {},
   "outputs": [],
   "source": [
    "def gb_column(df, column, dep):\n",
    "    df = (\n",
    "        df.groupby(column, as_index=False)\n",
    "        .count()[[column, \"siren\"]]\n",
    "        .sort_values(by=\"siren\", ascending=False)\n",
    "    )\n",
    "    df[\"dep\"] = dep\n",
    "    return df"
   ]
  },
  {
   "cell_type": "code",
   "execution_count": null,
   "metadata": {},
   "outputs": [],
   "source": [
    "today = datetime.today().strftime(\"%Y-%m-%d\")"
   ]
  },
  {
   "cell_type": "code",
   "execution_count": null,
   "metadata": {},
   "outputs": [],
   "source": [
    "for dep in alldeps:\n",
    "    print(dep)\n",
    "    df = pd.read_csv(\n",
    "        \"https://object.files.data.gouv.fr/opendata/dag_datalake_sirene/insert-elk-sirene/\"\n",
    "        + today\n",
    "        + \"/format_sirene_notebook/output/siren_\"\n",
    "        + dep\n",
    "        + \".csv\",\n",
    "        dtype=str,\n",
    "    )\n",
    "    df = df[df[\"etat_administratif_etablissement\"] == \"A\"]\n",
    "    dfinter = gb_column(df, \"nature_juridique_entreprise\", dep)\n",
    "    dfinter.to_csv(\n",
    "        OUTPUT_DATA_FOLDER + \"/nature_juridique_entreprise_dep_\" + dep + \".csv\",\n",
    "        index=False,\n",
    "    )\n",
    "    dfinter = gb_column(df, \"activite_principale_entreprise\", dep)\n",
    "    dfinter.to_csv(\n",
    "        OUTPUT_DATA_FOLDER + \"/activite_principale_entreprise_dep_\" + dep + \".csv\",\n",
    "        index=False,\n",
    "    )"
   ]
  },
  {
   "cell_type": "code",
   "execution_count": null,
   "metadata": {},
   "outputs": [],
   "source": [
    "def gb_column(df, column, dep):\n",
    "    df = (\n",
    "        df.groupby(column, as_index=False)\n",
    "        .count()[[column, \"siren\"]]\n",
    "        .sort_values(by=\"siren\", ascending=False)\n",
    "    )\n",
    "    df[\"dep\"] = dep\n",
    "    return df"
   ]
  },
  {
   "cell_type": "code",
   "execution_count": null,
   "metadata": {},
   "outputs": [],
   "source": [
    "deps = pd.read_csv(\n",
    "    \"https://raw.githubusercontent.com/etalab/data-covid19-dashboard-widgets/master/utils/departement2021.csv\",\n",
    "    dtype=str,\n",
    ")\n",
    "deps = deps[[\"DEP\", \"REG\"]]\n",
    "deps = deps.rename(columns={\"DEP\": \"dep\", \"REG\": \"reg\"})"
   ]
  },
  {
   "cell_type": "code",
   "execution_count": null,
   "metadata": {},
   "outputs": [],
   "source": [
    "df = pd.read_csv(\n",
    "    OUTPUT_DATA_FOLDER + \"/activite_principale_entreprise_dep_\" + alldeps[0] + \".csv\",\n",
    "    dtype=str,\n",
    ")\n",
    "for dep in alldeps[1:]:\n",
    "    dfinter = pd.read_csv(\n",
    "        OUTPUT_DATA_FOLDER + \"/activite_principale_entreprise_dep_\" + dep + \".csv\",\n",
    "        dtype=str,\n",
    "    )\n",
    "    df = pd.concat([df, dfinter])"
   ]
  },
  {
   "cell_type": "code",
   "execution_count": null,
   "metadata": {},
   "outputs": [],
   "source": [
    "df[\"siren\"] = df[\"siren\"].astype(float)\n",
    "df = pd.merge(df, deps, on=\"dep\", how=\"left\")\n",
    "nafs = pd.read_csv(\n",
    "    \"https://raw.githubusercontent.com/etalab/dashboard-aides-entreprises/master/utils/naf_complet.csv\",\n",
    "    dtype=str,\n",
    ")\n",
    "catnafs = [\"code_sous_classe\", \"code_division\", \"code_section\"]\n",
    "nafs = nafs[catnafs]\n",
    "df = df.rename(columns={\"activite_principale_entreprise\": \"code_sous_classe\"})\n",
    "df = pd.merge(df, nafs, on=\"code_sous_classe\", how=\"left\")"
   ]
  },
  {
   "cell_type": "code",
   "execution_count": null,
   "metadata": {},
   "outputs": [],
   "source": [
    "def rm_and_create_folder(folder):\n",
    "    if os.path.exists(folder) and os.path.isdir(folder):\n",
    "        shutil.rmtree(folder)\n",
    "    os.makedirs(os.path.dirname(folder), exist_ok=True)"
   ]
  },
  {
   "cell_type": "code",
   "execution_count": null,
   "metadata": {},
   "outputs": [],
   "source": [
    "rm_and_create_folder(OUTPUT_DATA_FOLDER + \"naf/\")"
   ]
  },
  {
   "cell_type": "code",
   "execution_count": null,
   "metadata": {},
   "outputs": [],
   "source": [
    "for cn in catnafs:\n",
    "    print(cn)\n",
    "    rm_and_create_folder(OUTPUT_DATA_FOLDER + \"naf/\" + cn.replace(\"code_\", \"\") + \"/\")\n",
    "    for item in df[df[cn].notna()][cn].unique():\n",
    "        print(item)\n",
    "        output = {}\n",
    "        output[\"nom\"] = (\n",
    "            \"Nombre d'entreprises pour la \"\n",
    "            + cn.replace(\"code_\", \"\")\n",
    "            + \" naf \"\n",
    "            + str(item)\n",
    "        )\n",
    "        output[\"unite\"] = \"entreprises\"\n",
    "        output[\"unite_short\"] = \"entreprises\"\n",
    "        output[\"france\"] = []\n",
    "        obj = {}\n",
    "        obj[\"level\"] = \"fra\"\n",
    "        obj[\"code_level\"] = \"fra\"\n",
    "        obj[\"last_date\"] = today\n",
    "        obj[\"last_value\"] = str(df[df[cn] == item][\"siren\"].sum())\n",
    "        output[\"france\"].append(obj)\n",
    "        output[\"regions\"] = []\n",
    "        output[\"departements\"] = []\n",
    "        for reg in df[df[\"reg\"].notna()][\"reg\"].unique():\n",
    "            obj = {}\n",
    "            obj[\"level\"] = \"reg\"\n",
    "            obj[\"code_level\"] = reg\n",
    "            obj[\"last_date\"] = today\n",
    "            obj[\"last_value\"] = str(\n",
    "                df[(df[cn] == item) & (df[\"reg\"] == reg)].sum()[\"siren\"]\n",
    "            )\n",
    "            output[\"regions\"].append(obj)\n",
    "        for dep in df[df[\"dep\"].notna()][\"dep\"].unique():\n",
    "            obj = {}\n",
    "            obj[\"level\"] = \"dep\"\n",
    "            obj[\"code_level\"] = dep\n",
    "            obj[\"last_date\"] = today\n",
    "            obj[\"last_value\"] = str(\n",
    "                df[(df[cn] == item) & (df[\"dep\"] == dep)].sum()[\"siren\"]\n",
    "            )\n",
    "            output[\"departements\"].append(obj)\n",
    "        with open(\n",
    "            OUTPUT_DATA_FOLDER\n",
    "            + \"naf/\"\n",
    "            + cn.replace(\"code_\", \"\")\n",
    "            + \"/\"\n",
    "            + item\n",
    "            + \".json\",\n",
    "            \"w\",\n",
    "        ) as f:\n",
    "            json.dump(output, f)"
   ]
  }
 ],
 "metadata": {
  "interpreter": {
   "hash": "19ece5f74f8baf7d074e990d308e7c75b7ac8b98c7c6e76faedd0c3526d006f2"
  },
  "kernelspec": {
   "display_name": "Python 3",
   "language": "python",
   "name": "python3"
  },
  "language_info": {
   "codemirror_mode": {
    "name": "ipython",
    "version": 3
   },
   "file_extension": ".py",
   "mimetype": "text/x-python",
   "name": "python",
   "nbconvert_exporter": "python",
   "pygments_lexer": "ipython3",
   "version": "3.9.2"
  }
 },
 "nbformat": 4,
 "nbformat_minor": 2
}
