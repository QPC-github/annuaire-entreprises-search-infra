{
 "cells": [
  {
   "cell_type": "markdown",
   "metadata": {},
   "source": [
    "### Imports"
   ]
  },
  {
   "cell_type": "code",
   "execution_count": 1,
   "metadata": {},
   "outputs": [],
   "source": [
    "import os, shutil\n",
    "import time\n",
    "import sqlite3\n",
    "import csv\n",
    "from psutil import virtual_memory\n",
    "import pandas as pd"
   ]
  },
  {
   "cell_type": "code",
   "execution_count": 2,
   "metadata": {},
   "outputs": [],
   "source": [
    "def mem():\n",
    "    print(f'used memory : {round(virtual_memory()[3]/(1024*1024*1024)*10)/10}Go')"
   ]
  },
  {
   "cell_type": "code",
   "execution_count": 3,
   "metadata": {},
   "outputs": [],
   "source": [
    "def stats(): \n",
    "    print(\"--- %s seconds ---\" % (time.time() - start_time))\n",
    "    mem()"
   ]
  },
  {
   "cell_type": "markdown",
   "metadata": {},
   "source": [
    "### Path set-up"
   ]
  },
  {
   "cell_type": "code",
   "execution_count": 4,
   "metadata": {},
   "outputs": [],
   "source": [
    "if \"DATA_DIR\" not in locals():\n",
    "    DATA_DIR = \"./data/\"\n",
    "else:\n",
    "    print(DATA_DIR)\n",
    "\n",
    "if os.path.exists(DATA_DIR) and os.path.isdir(DATA_DIR):\n",
    "    shutil.rmtree(DATA_DIR)\n",
    "os.makedirs(os.path.dirname(DATA_DIR), exist_ok=True)"
   ]
  },
  {
   "cell_type": "code",
   "execution_count": 5,
   "metadata": {},
   "outputs": [],
   "source": [
    "if \"OUTPUT_DATA_FOLDER\" not in locals():\n",
    "    OUTPUT_DATA_FOLDER = \"./output/\"\n",
    "else:\n",
    "    print(OUTPUT_DATA_FOLDER)\n",
    "\n",
    "if os.path.exists(OUTPUT_DATA_FOLDER) and os.path.isdir(OUTPUT_DATA_FOLDER):\n",
    "    shutil.rmtree(OUTPUT_DATA_FOLDER)\n",
    "os.makedirs(os.path.dirname(OUTPUT_DATA_FOLDER), exist_ok=True)"
   ]
  },
  {
   "cell_type": "markdown",
   "metadata": {},
   "source": [
    "## SQLITE\n"
   ]
  },
  {
   "cell_type": "code",
   "execution_count": 65,
   "metadata": {},
   "outputs": [],
   "source": [
    "!rm sirene.db"
   ]
  },
  {
   "cell_type": "code",
   "execution_count": 66,
   "metadata": {},
   "outputs": [],
   "source": [
    "connection = sqlite3.connect('sirene.db')"
   ]
  },
  {
   "cell_type": "code",
   "execution_count": 67,
   "metadata": {},
   "outputs": [],
   "source": [
    "cursor = connection.cursor()"
   ]
  },
  {
   "cell_type": "markdown",
   "metadata": {},
   "source": [
    "## Unité Légale"
   ]
  },
  {
   "cell_type": "code",
   "execution_count": 68,
   "metadata": {},
   "outputs": [
    {
     "data": {
      "text/plain": [
       "<sqlite3.Cursor at 0x7f815b1bd3b0>"
      ]
     },
     "execution_count": 68,
     "metadata": {},
     "output_type": "execute_result"
    }
   ],
   "source": [
    "cursor.execute('''CREATE TABLE IF NOT EXISTS unite_legale\n",
    "               (siren,\n",
    "                date_creation_unite_legale,\n",
    "                sigle,\n",
    "                prenom,\n",
    "                identifiant_association_unite_legale,\n",
    "                tranche_effectif_salarie_unite_legale,\n",
    "                date_mise_a_jour_unite_legale,\n",
    "                categorie_entreprise,\n",
    "                etat_administratif_unite_legale,\n",
    "                nom,\n",
    "                nom_usage,\n",
    "                nom_raison_sociale,\n",
    "                nature_juridique_unite_legale,\n",
    "                activite_principale_unite_legale,\n",
    "                economie_sociale_solidaire_unite_legale)\n",
    "                ''')"
   ]
  },
  {
   "cell_type": "code",
   "execution_count": 69,
   "metadata": {},
   "outputs": [
    {
     "data": {
      "text/plain": [
       "<sqlite3.Cursor at 0x7f815b1bd3b0>"
      ]
     },
     "execution_count": 69,
     "metadata": {},
     "output_type": "execute_result"
    }
   ],
   "source": [
    "cursor.execute('''\n",
    "                CREATE UNIQUE INDEX index_siren\n",
    "                ON unite_legale (siren);\n",
    "                ''')"
   ]
  },
  {
   "cell_type": "code",
   "execution_count": 70,
   "metadata": {},
   "outputs": [],
   "source": [
    "connection.commit()"
   ]
  },
  {
   "cell_type": "code",
   "execution_count": 71,
   "metadata": {},
   "outputs": [
    {
     "name": "stdout",
     "output_type": "stream",
     "text": [
      "--- 64.81285119056702 seconds ---\n",
      "used memory : 20.8Go\n"
     ]
    }
   ],
   "source": [
    "start_time = time.time()\n",
    "\n",
    "df_unite_legale = pd.read_csv(\n",
    "    \"https://files.data.gouv.fr/insee-sirene/StockUniteLegale_utf8.zip\",\n",
    "    compression=\"zip\",\n",
    "    dtype=str,\n",
    "    usecols=[\n",
    "        \"siren\",\n",
    "        \"dateCreationUniteLegale\",\n",
    "        \"sigleUniteLegale\",\n",
    "        \"prenom1UniteLegale\",\n",
    "        \"identifiantAssociationUniteLegale\",\n",
    "        \"trancheEffectifsUniteLegale\",\n",
    "        \"dateDernierTraitementUniteLegale\",\n",
    "        \"categorieEntreprise\",\n",
    "        \"etatAdministratifUniteLegale\",\n",
    "        \"nomUniteLegale\",\n",
    "        \"nomUsageUniteLegale\",\n",
    "        \"denominationUniteLegale\",\n",
    "        \"categorieJuridiqueUniteLegale\",\n",
    "        \"activitePrincipaleUniteLegale\",\n",
    "        \"economieSocialeSolidaireUniteLegale\",\n",
    "    ],\n",
    ")\n",
    "# Rename columns\n",
    "df_unite_legale = df_unite_legale.rename(\n",
    "    columns={\n",
    "        \"dateCreationUniteLegale\": \"date_creation_unite_legale\",\n",
    "        \"sigleUniteLegale\": \"sigle\",\n",
    "        \"prenom1UniteLegale\": \"prenom\",\n",
    "        \"trancheEffectifsUniteLegale\": \"tranche_effectif_salarie_unite_legale\",\n",
    "        \"dateDernierTraitementUniteLegale\": \"date_mise_a_jour_unite_legale\",\n",
    "        \"categorieEntreprise\": \"categorie_entreprise\",\n",
    "        \"etatAdministratifUniteLegale\":\"etat_administratif_unite_legale\",\n",
    "        \"nomUniteLegale\": \"nom\",\n",
    "        \"nomUsageUniteLegale\": \"nom_usage\",\n",
    "        \"denominationUniteLegale\": \"nom_raison_sociale\",\n",
    "        \"categorieJuridiqueUniteLegale\": \"nature_juridique_unite_legale\",\n",
    "        \"activitePrincipaleUniteLegale\": \"activite_principale_unite_legale\",\n",
    "        \"economieSocialeSolidaireUniteLegale\":\"economie_sociale_solidaire_unite_legale\",\n",
    "        \"identifiantAssociationUniteLegale\":\"identifiant_association_unite_legale\",\n",
    "    }\n",
    ")\n",
    "stats()"
   ]
  },
  {
   "cell_type": "code",
   "execution_count": 72,
   "metadata": {},
   "outputs": [
    {
     "name": "stdout",
     "output_type": "stream",
     "text": [
      "--- 145.21034264564514 seconds ---\n",
      "used memory : 20.8Go\n"
     ]
    }
   ],
   "source": [
    "start_time = time.time()\n",
    "df_unite_legale.to_sql(\"unite_legale\", connection, if_exists='append', index=False)\n",
    "stats()"
   ]
  },
  {
   "cell_type": "code",
   "execution_count": 73,
   "metadata": {
    "tags": []
   },
   "outputs": [
    {
     "name": "stdout",
     "output_type": "stream",
     "text": [
      "('000325175', '2000-09-26', None, 'THIERRY', None, None, '2019-12-13T13:21:28', 'PME', 'A', 'JANOYER', None, None, '1000', '32.12Z', None)\n",
      "('001807254', '1972-05-01', None, 'JACQUES-LUCIEN', None, None, '2016-07-10T05:00:06', None, 'C', 'BRETON', None, None, '1000', '85.59A', None)\n",
      "('005410220', '1954-12-25', None, 'GEORGES', None, None, None, None, 'C', 'WATTEBLED', None, None, '1000', '22.02', None)\n",
      "('005410345', None, None, 'MICHEL', None, None, None, None, 'C', 'DEBRAY', None, None, '1000', '79.06', None)\n",
      "('005410394', '1954-12-25', None, 'ROBERT', None, None, None, None, 'C', 'DAULT', None, None, '1000', '64.42', None)\n",
      "('005410428', '1954-01-01', None, 'RENE', None, None, None, None, 'C', 'DINGEON', None, None, '1000', '70.2C', None)\n",
      "('005410436', None, None, 'MARCEL', None, None, None, None, 'C', 'CARBONNET', None, None, '1000', '57.11', None)\n",
      "('005410485', None, None, 'RENE', None, None, None, None, 'C', 'LECRIVAIN', None, None, '1000', '64.42', None)\n",
      "('005410493', '1954-12-25', None, 'PIERRE', None, None, None, None, 'C', 'GODIN', None, None, '1000', '86.06', None)\n",
      "('005410501', '1954-01-01', None, 'ANDREE', None, None, None, None, 'C', 'CARPENTIER', 'VANDAMME', None, '1000', '55.4B', None)\n"
     ]
    }
   ],
   "source": [
    "for row in cursor.execute('SELECT * FROM unite_legale LIMIT 10;'):\n",
    "    print(row)"
   ]
  },
  {
   "cell_type": "markdown",
   "metadata": {},
   "source": [
    "### Add nom_complet"
   ]
  },
  {
   "cell_type": "code",
   "execution_count": 74,
   "metadata": {},
   "outputs": [
    {
     "data": {
      "text/plain": [
       "<sqlite3.Cursor at 0x7f815b1bd3b0>"
      ]
     },
     "execution_count": 74,
     "metadata": {},
     "output_type": "execute_result"
    }
   ],
   "source": [
    "add_full_name = '''ALTER TABLE unite_legale ADD COLUMN nom_complet VARCHAR(45) GENERATED ALWAYS AS\n",
    "      (case when nature_juridique_unite_legale == '1000'\n",
    "            then (COALESCE(LOWER(prenom),'') || ' ' || COALESCE(LOWER(nom_usage), '') || ' (' || COALESCE(LOWER(nom), '') || ' ' || COALESCE(LOWER(sigle), '')|| ')')\n",
    "            else (COALESCE(LOWER(nom_raison_sociale), '') || ' ' || COALESCE(LOWER(sigle), ''))\n",
    "       end );\n",
    "       '''\n",
    "cursor.execute(add_full_name)"
   ]
  },
  {
   "cell_type": "code",
   "execution_count": 75,
   "metadata": {},
   "outputs": [],
   "source": [
    "connection.commit()"
   ]
  },
  {
   "cell_type": "code",
   "execution_count": 76,
   "metadata": {},
   "outputs": [
    {
     "name": "stdout",
     "output_type": "stream",
     "text": [
      "('000325175', '2000-09-26', None, 'THIERRY', None, None, '2019-12-13T13:21:28', 'PME', 'A', 'JANOYER', None, None, '1000', '32.12Z', None, 'thierry  (janoyer )')\n",
      "('001807254', '1972-05-01', None, 'JACQUES-LUCIEN', None, None, '2016-07-10T05:00:06', None, 'C', 'BRETON', None, None, '1000', '85.59A', None, 'jacques-lucien  (breton )')\n",
      "('005410220', '1954-12-25', None, 'GEORGES', None, None, None, None, 'C', 'WATTEBLED', None, None, '1000', '22.02', None, 'georges  (wattebled )')\n",
      "('005410345', None, None, 'MICHEL', None, None, None, None, 'C', 'DEBRAY', None, None, '1000', '79.06', None, 'michel  (debray )')\n",
      "('005410394', '1954-12-25', None, 'ROBERT', None, None, None, None, 'C', 'DAULT', None, None, '1000', '64.42', None, 'robert  (dault )')\n",
      "('005410428', '1954-01-01', None, 'RENE', None, None, None, None, 'C', 'DINGEON', None, None, '1000', '70.2C', None, 'rene  (dingeon )')\n",
      "('005410436', None, None, 'MARCEL', None, None, None, None, 'C', 'CARBONNET', None, None, '1000', '57.11', None, 'marcel  (carbonnet )')\n",
      "('005410485', None, None, 'RENE', None, None, None, None, 'C', 'LECRIVAIN', None, None, '1000', '64.42', None, 'rene  (lecrivain )')\n",
      "('005410493', '1954-12-25', None, 'PIERRE', None, None, None, None, 'C', 'GODIN', None, None, '1000', '86.06', None, 'pierre  (godin )')\n",
      "('005410501', '1954-01-01', None, 'ANDREE', None, None, None, None, 'C', 'CARPENTIER', 'VANDAMME', None, '1000', '55.4B', None, 'andree vandamme (carpentier )')\n"
     ]
    }
   ],
   "source": [
    "for row in cursor.execute('SELECT * FROM unite_legale LIMIT 10;'):\n",
    "    print(row)"
   ]
  },
  {
   "cell_type": "markdown",
   "metadata": {},
   "source": [
    "### Add entrepreneur individuel and section activité principale"
   ]
  },
  {
   "cell_type": "code",
   "execution_count": 78,
   "metadata": {},
   "outputs": [
    {
     "data": {
      "text/plain": [
       "<sqlite3.Cursor at 0x7f815b1bd3b0>"
      ]
     },
     "execution_count": 78,
     "metadata": {},
     "output_type": "execute_result"
    }
   ],
   "source": [
    "add_entre_indiv = '''ALTER TABLE unite_legale ADD COLUMN is_entrepreneur_individuel INT GENERATED ALWAYS AS\n",
    "      (case when nature_juridique_unite_legale in (\"1\", \"10\", \"1000\")\n",
    "            then 1\n",
    "            else 0\n",
    "       end );\n",
    "       '''\n",
    "cursor.execute(add_entre_indiv)"
   ]
  },
  {
   "cell_type": "code",
   "execution_count": 81,
   "metadata": {},
   "outputs": [
    {
     "name": "stdout",
     "output_type": "stream",
     "text": [
      "('000325175', '2000-09-26', None, 'THIERRY', None, None, '2019-12-13T13:21:28', 'PME', 'A', 'JANOYER', None, None, '1000', '32.12Z', None, 'thierry  (janoyer )', 1)\n",
      "('001807254', '1972-05-01', None, 'JACQUES-LUCIEN', None, None, '2016-07-10T05:00:06', None, 'C', 'BRETON', None, None, '1000', '85.59A', None, 'jacques-lucien  (breton )', 1)\n",
      "('005410220', '1954-12-25', None, 'GEORGES', None, None, None, None, 'C', 'WATTEBLED', None, None, '1000', '22.02', None, 'georges  (wattebled )', 1)\n",
      "('005410345', None, None, 'MICHEL', None, None, None, None, 'C', 'DEBRAY', None, None, '1000', '79.06', None, 'michel  (debray )', 1)\n",
      "('005410394', '1954-12-25', None, 'ROBERT', None, None, None, None, 'C', 'DAULT', None, None, '1000', '64.42', None, 'robert  (dault )', 1)\n"
     ]
    }
   ],
   "source": [
    "for row in cursor.execute('SELECT * FROM unite_legale LIMIT 5;'):\n",
    "    print(row)"
   ]
  },
  {
   "cell_type": "code",
   "execution_count": 93,
   "metadata": {},
   "outputs": [],
   "source": [
    "sections_NAF = {\n",
    "\"01\":\"A\",\"02\":\"A\",\"03\":\"A\",\"05\":\"B\",\"06\":\"B\",\"07\":\"B\",\"08\":\"B\",\"09\":\"B\",\"10\":\"C\",\"11\":\"C\",\"12\":\"C\",\"13\":\"C\",\"14\":\"C\",\n",
    " \"15\":\"C\",\"16\":\"C\",\"17\":\"C\",\"18\":\"C\",\"19\":\"C\",\"20\":\"C\",\"21\":\"C\",\"22\":\"C\",\"23\":\"C\",\"24\":\"C\",\"25\":\"C\",\"26\":\"C\",\"27\":\"C\",\n",
    " \"28\":\"C\",\"29\":\"C\",\"30\":\"C\",\"31\":\"C\",\"32\":\"C\",\"33\":\"C\",\"35\":\"D\",\"36\":\"E\",\"37\":\"E\",\"38\":\"E\",\"39\":\"E\",\"41\":\"F\",\"42\":\"F\",\n",
    " \"43\":\"F\",\"45\":\"G\",\"46\":\"G\",\"47\":\"G\",\"49\":\"H\",\"50\":\"H\",\"51\":\"H\",\"52\":\"H\",\"53\":\"H\",\"55\":\"I\",\"56\":\"I\",\"58\":\"J\",\"59\":\"J\",\n",
    " \"60\":\"J\",\"61\":\"J\",\"62\":\"J\",\"63\":\"J\",\"64\":\"K\",\"65\":\"K\",\"66\":\"K\",\"68\":\"L\",\"69\":\"M\",\"70\":\"M\",\"71\":\"M\",\"72\":\"M\",\"73\":\"M\",\n",
    " \"74\":\"M\",\"75\":\"M\",\"77\":\"N\",\"78\":\"N\",\"79\":\"N\",\"80\":\"N\",\"81\":\"N\",\"82\":\"N\",\"84\":\"O\",\"85\":\"P\",\"86\":\"Q\",\"87\":\"Q\",\"88\":\"Q\",\n",
    " \"90\":\"R\",\"91\":\"R\",\"92\":\"R\",\"93\":\"R\",\"94\":\"S\",\"95\":\"S\",\"96\":\"S\",\"97\":\"T\",\"98\":\"T\",\"99\":\"U\"\n",
    "}"
   ]
  },
  {
   "cell_type": "code",
   "execution_count": 94,
   "metadata": {},
   "outputs": [],
   "source": [
    "def create_section(activite_principale_unite_legale):\n",
    "    code_naf = activite_principale_unite_legale[:2]\n",
    "    section_activite_principale = sections_NAF[code_naf] if code_naf in sections_NAF else None\n",
    "    return section_activite_principale"
   ]
  },
  {
   "cell_type": "code",
   "execution_count": 97,
   "metadata": {},
   "outputs": [],
   "source": [
    "connection.create_function(\"add_section\", 1, create_section)"
   ]
  },
  {
   "cell_type": "code",
   "execution_count": 89,
   "metadata": {},
   "outputs": [
    {
     "data": {
      "text/plain": [
       "<sqlite3.Cursor at 0x7f815b1bd3b0>"
      ]
     },
     "execution_count": 89,
     "metadata": {},
     "output_type": "execute_result"
    }
   ],
   "source": [
    "# Add column\n",
    "create_section_column = '''ALTER TABLE unite_legale\n",
    "                        ADD COLUMN section_activite_principale\n",
    "                        ''';\n",
    "cursor.execute(create_section_column)"
   ]
  },
  {
   "cell_type": "code",
   "execution_count": 98,
   "metadata": {},
   "outputs": [
    {
     "data": {
      "text/plain": [
       "<sqlite3.Cursor at 0x7f815b1bd3b0>"
      ]
     },
     "execution_count": 98,
     "metadata": {},
     "output_type": "execute_result"
    }
   ],
   "source": [
    "# create and execute sql query\n",
    "add_section = '''\n",
    "    SELECT add_section(COALESCE(activite_principale_unite_legale,'')), siren\n",
    "    FROM unite_legale\n",
    "    WHERE true'''\n",
    "cursor.execute(add_section)"
   ]
  },
  {
   "cell_type": "code",
   "execution_count": 99,
   "metadata": {},
   "outputs": [
    {
     "name": "stdout",
     "output_type": "stream",
     "text": [
      "--- 159.06145071983337 seconds ---\n",
      "used memory : 20.8Go\n"
     ]
    }
   ],
   "source": [
    "start_time = time.time()\n",
    "cursor.executemany('''UPDATE unite_legale SET section_activite_principale = ? WHERE siren=?''', cursor.fetchall())\n",
    "stats()"
   ]
  },
  {
   "cell_type": "code",
   "execution_count": null,
   "metadata": {},
   "outputs": [],
   "source": [
    "start_time = time.time()\n",
    "cursor.executemany('''UPDATE unite_legale SET section_activite_principale = ? WHERE siren=?''', cursor.fetchall())\n",
    "stats()"
   ]
  },
  {
   "cell_type": "code",
   "execution_count": 100,
   "metadata": {},
   "outputs": [
    {
     "name": "stdout",
     "output_type": "stream",
     "text": [
      "('000325175', '2000-09-26', None, 'THIERRY', None, None, '2019-12-13T13:21:28', 'PME', 'A', 'JANOYER', None, None, '1000', '32.12Z', None, 'thierry  (janoyer )', 1, 'C')\n",
      "('001807254', '1972-05-01', None, 'JACQUES-LUCIEN', None, None, '2016-07-10T05:00:06', None, 'C', 'BRETON', None, None, '1000', '85.59A', None, 'jacques-lucien  (breton )', 1, 'P')\n",
      "('005410220', '1954-12-25', None, 'GEORGES', None, None, None, None, 'C', 'WATTEBLED', None, None, '1000', '22.02', None, 'georges  (wattebled )', 1, 'C')\n",
      "('005410345', None, None, 'MICHEL', None, None, None, None, 'C', 'DEBRAY', None, None, '1000', '79.06', None, 'michel  (debray )', 1, 'N')\n",
      "('005410394', '1954-12-25', None, 'ROBERT', None, None, None, None, 'C', 'DAULT', None, None, '1000', '64.42', None, 'robert  (dault )', 1, 'K')\n"
     ]
    }
   ],
   "source": [
    "for row in cursor.execute('SELECT * FROM unite_legale LIMIT 5;'):\n",
    "    print(row)"
   ]
  },
  {
   "cell_type": "code",
   "execution_count": 84,
   "metadata": {},
   "outputs": [
    {
     "ename": "SyntaxError",
     "evalue": "f-string: closing parenthesis '}' does not match opening parenthesis '[' (640329609.py, line 2)",
     "output_type": "error",
     "traceback": [
      "\u001b[0;36m  Input \u001b[0;32mIn [84]\u001b[0;36m\u001b[0m\n\u001b[0;31m    {sections_NAF[}substr(COALESCE(activite_principale_unite_legale),1,2){[}'''\u001b[0m\n\u001b[0m                                                                               ^\u001b[0m\n\u001b[0;31mSyntaxError\u001b[0m\u001b[0;31m:\u001b[0m f-string: closing parenthesis '}' does not match opening parenthesis '['\n"
     ]
    }
   ],
   "source": [
    "add_section = f'''ALTER TABLE unite_legale ADD COLUMN section_activite_principale GENERATED ALWAYS AS\n",
    "                  {sections_NAF}[substr(COALESCE(activite_principale_unite_legale),1,2){[}'''\n",
    "cursor.execute(add_section)"
   ]
  },
  {
   "cell_type": "code",
   "execution_count": null,
   "metadata": {},
   "outputs": [],
   "source": []
  },
  {
   "cell_type": "markdown",
   "metadata": {},
   "source": [
    "## Établissements"
   ]
  },
  {
   "cell_type": "code",
   "execution_count": 101,
   "metadata": {},
   "outputs": [],
   "source": [
    "# Create list of departement zip codes\n",
    "all_deps = [\n",
    "    *\"-0\".join(list(str(x) for x in range(0, 10))).split(\"-\")[1:],\n",
    "    *list(str(x) for x in range(10, 20)),\n",
    "    *[\"2A\", \"2B\"],\n",
    "    *list(str(x) for x in range(21, 96)),\n",
    "    *\"-7510\".join(list(str(x) for x in range(0, 10))).split(\"-\")[1:],\n",
    "    *\"-751\".join(list(str(x) for x in range(10, 21))).split(\"-\")[1:],\n",
    "    *[\"971\", \"972\", \"973\", \"974\", \"976\"],\n",
    "    *[\"\"],\n",
    "]\n",
    "# Remove Paris zip code\n",
    "all_deps.remove(\"75\")"
   ]
  },
  {
   "cell_type": "code",
   "execution_count": 30,
   "metadata": {},
   "outputs": [],
   "source": [
    "all_deps = [\"23\"]"
   ]
  },
  {
   "cell_type": "code",
   "execution_count": 102,
   "metadata": {
    "collapsed": true,
    "jupyter": {
     "outputs_hidden": true
    },
    "tags": []
   },
   "outputs": [
    {
     "name": "stdout",
     "output_type": "stream",
     "text": [
      "https://files.data.gouv.fr/geo-sirene/last/dep/geo_siret_01.csv.gz\n",
      "--- 1.8313565254211426 seconds ---\n",
      "used memory : 20.8Go\n",
      "--- 4.522620677947998 seconds ---\n",
      "used memory : 20.9Go\n",
      "https://files.data.gouv.fr/geo-sirene/last/dep/geo_siret_02.csv.gz\n",
      "--- 1.3609952926635742 seconds ---\n",
      "used memory : 20.8Go\n",
      "--- 3.1554691791534424 seconds ---\n",
      "used memory : 20.8Go\n",
      "https://files.data.gouv.fr/geo-sirene/last/dep/geo_siret_03.csv.gz\n",
      "--- 1.1623854637145996 seconds ---\n",
      "used memory : 20.8Go\n",
      "--- 2.612961769104004 seconds ---\n",
      "used memory : 20.8Go\n",
      "https://files.data.gouv.fr/geo-sirene/last/dep/geo_siret_04.csv.gz\n",
      "--- 0.8079321384429932 seconds ---\n",
      "used memory : 20.8Go\n",
      "--- 1.7960841655731201 seconds ---\n",
      "used memory : 21.1Go\n",
      "https://files.data.gouv.fr/geo-sirene/last/dep/geo_siret_05.csv.gz\n",
      "--- 0.9493556022644043 seconds ---\n",
      "used memory : 20.9Go\n",
      "--- 1.862804889678955 seconds ---\n",
      "used memory : 20.8Go\n",
      "https://files.data.gouv.fr/geo-sirene/last/dep/geo_siret_06.csv.gz\n",
      "--- 6.2082579135894775 seconds ---\n",
      "used memory : 20.8Go\n",
      "--- 15.131691932678223 seconds ---\n",
      "used memory : 20.7Go\n",
      "https://files.data.gouv.fr/geo-sirene/last/dep/geo_siret_07.csv.gz\n",
      "--- 1.3512308597564697 seconds ---\n",
      "used memory : 20.7Go\n",
      "--- 2.656290054321289 seconds ---\n",
      "used memory : 20.7Go\n",
      "https://files.data.gouv.fr/geo-sirene/last/dep/geo_siret_08.csv.gz\n",
      "--- 0.8501591682434082 seconds ---\n",
      "used memory : 20.7Go\n",
      "--- 1.8834543228149414 seconds ---\n",
      "used memory : 20.9Go\n",
      "https://files.data.gouv.fr/geo-sirene/last/dep/geo_siret_09.csv.gz\n",
      "--- 0.8148179054260254 seconds ---\n",
      "used memory : 20.9Go\n",
      "--- 1.5588526725769043 seconds ---\n",
      "used memory : 20.7Go\n",
      "https://files.data.gouv.fr/geo-sirene/last/dep/geo_siret_10.csv.gz\n",
      "--- 1.0587570667266846 seconds ---\n",
      "used memory : 20.7Go\n",
      "--- 2.311523199081421 seconds ---\n",
      "used memory : 20.7Go\n",
      "https://files.data.gouv.fr/geo-sirene/last/dep/geo_siret_11.csv.gz\n",
      "--- 1.6262032985687256 seconds ---\n",
      "used memory : 20.7Go\n",
      "--- 3.9852569103240967 seconds ---\n",
      "used memory : 20.8Go\n",
      "https://files.data.gouv.fr/geo-sirene/last/dep/geo_siret_12.csv.gz\n",
      "--- 1.1930813789367676 seconds ---\n",
      "used memory : 20.8Go\n",
      "--- 2.6331164836883545 seconds ---\n",
      "used memory : 20.7Go\n",
      "https://files.data.gouv.fr/geo-sirene/last/dep/geo_siret_13.csv.gz\n",
      "--- 8.644673585891724 seconds ---\n",
      "used memory : 21.1Go\n",
      "--- 21.192031383514404 seconds ---\n",
      "used memory : 21.2Go\n",
      "https://files.data.gouv.fr/geo-sirene/last/dep/geo_siret_14.csv.gz\n",
      "--- 2.431074857711792 seconds ---\n",
      "used memory : 20.7Go\n",
      "--- 5.641710519790649 seconds ---\n",
      "used memory : 20.7Go\n",
      "https://files.data.gouv.fr/geo-sirene/last/dep/geo_siret_15.csv.gz\n",
      "--- 0.7070655822753906 seconds ---\n",
      "used memory : 20.8Go\n",
      "--- 1.330564022064209 seconds ---\n",
      "used memory : 20.7Go\n",
      "https://files.data.gouv.fr/geo-sirene/last/dep/geo_siret_16.csv.gz\n",
      "--- 1.3126318454742432 seconds ---\n",
      "used memory : 20.7Go\n",
      "--- 2.861429452896118 seconds ---\n",
      "used memory : 20.7Go\n",
      "https://files.data.gouv.fr/geo-sirene/last/dep/geo_siret_17.csv.gz\n",
      "--- 2.70172381401062 seconds ---\n",
      "used memory : 20.7Go\n",
      "--- 6.2955482006073 seconds ---\n",
      "used memory : 20.7Go\n",
      "https://files.data.gouv.fr/geo-sirene/last/dep/geo_siret_18.csv.gz\n",
      "--- 1.0308940410614014 seconds ---\n",
      "used memory : 20.8Go\n",
      "--- 2.1894872188568115 seconds ---\n",
      "used memory : 20.7Go\n",
      "https://files.data.gouv.fr/geo-sirene/last/dep/geo_siret_19.csv.gz\n",
      "--- 1.042959451675415 seconds ---\n",
      "used memory : 20.7Go\n",
      "--- 2.1680898666381836 seconds ---\n",
      "used memory : 20.7Go\n",
      "https://files.data.gouv.fr/geo-sirene/last/dep/geo_siret_2A.csv.gz\n",
      "--- 0.7662725448608398 seconds ---\n",
      "used memory : 20.7Go\n",
      "--- 1.7809691429138184 seconds ---\n",
      "used memory : 20.7Go\n",
      "https://files.data.gouv.fr/geo-sirene/last/dep/geo_siret_2B.csv.gz\n",
      "--- 0.8059875965118408 seconds ---\n",
      "used memory : 20.7Go\n",
      "--- 1.9247219562530518 seconds ---\n",
      "used memory : 20.8Go\n",
      "https://files.data.gouv.fr/geo-sirene/last/dep/geo_siret_21.csv.gz\n",
      "--- 1.933936357498169 seconds ---\n",
      "used memory : 20.7Go\n",
      "--- 4.305829763412476 seconds ---\n",
      "used memory : 20.7Go\n",
      "https://files.data.gouv.fr/geo-sirene/last/dep/geo_siret_22.csv.gz\n",
      "--- 1.9373581409454346 seconds ---\n",
      "used memory : 20.7Go\n",
      "--- 4.64738130569458 seconds ---\n",
      "used memory : 20.7Go\n",
      "https://files.data.gouv.fr/geo-sirene/last/dep/geo_siret_23.csv.gz\n",
      "--- 0.6403787136077881 seconds ---\n",
      "used memory : 20.8Go\n",
      "--- 1.0962638854980469 seconds ---\n",
      "used memory : 20.7Go\n",
      "https://files.data.gouv.fr/geo-sirene/last/dep/geo_siret_24.csv.gz\n",
      "--- 1.6407415866851807 seconds ---\n",
      "used memory : 20.7Go\n",
      "--- 3.990182399749756 seconds ---\n",
      "used memory : 20.7Go\n",
      "https://files.data.gouv.fr/geo-sirene/last/dep/geo_siret_25.csv.gz\n",
      "--- 1.5274267196655273 seconds ---\n",
      "used memory : 20.7Go\n",
      "--- 3.812507390975952 seconds ---\n",
      "used memory : 20.7Go\n",
      "https://files.data.gouv.fr/geo-sirene/last/dep/geo_siret_26.csv.gz\n",
      "--- 2.027022123336792 seconds ---\n",
      "used memory : 20.7Go\n",
      "--- 4.817825555801392 seconds ---\n",
      "used memory : 20.7Go\n",
      "https://files.data.gouv.fr/geo-sirene/last/dep/geo_siret_27.csv.gz\n",
      "--- 1.6429152488708496 seconds ---\n",
      "used memory : 20.7Go\n",
      "--- 3.7993595600128174 seconds ---\n",
      "used memory : 20.7Go\n",
      "https://files.data.gouv.fr/geo-sirene/last/dep/geo_siret_28.csv.gz\n",
      "--- 1.285379409790039 seconds ---\n",
      "used memory : 20.7Go\n",
      "--- 2.871032953262329 seconds ---\n",
      "used memory : 20.7Go\n",
      "https://files.data.gouv.fr/geo-sirene/last/dep/geo_siret_29.csv.gz\n",
      "--- 3.2118659019470215 seconds ---\n",
      "used memory : 20.7Go\n",
      "--- 6.6334826946258545 seconds ---\n",
      "used memory : 20.7Go\n",
      "https://files.data.gouv.fr/geo-sirene/last/dep/geo_siret_30.csv.gz\n",
      "--- 3.0652658939361572 seconds ---\n",
      "used memory : 20.7Go\n",
      "--- 6.9924986362457275 seconds ---\n",
      "used memory : 20.8Go\n",
      "https://files.data.gouv.fr/geo-sirene/last/dep/geo_siret_31.csv.gz\n",
      "--- 4.8628246784210205 seconds ---\n",
      "used memory : 20.7Go\n",
      "--- 11.995254755020142 seconds ---\n",
      "used memory : 20.7Go\n",
      "https://files.data.gouv.fr/geo-sirene/last/dep/geo_siret_32.csv.gz\n",
      "--- 1.0153424739837646 seconds ---\n",
      "used memory : 20.8Go\n",
      "--- 2.0129830837249756 seconds ---\n",
      "used memory : 20.7Go\n",
      "https://files.data.gouv.fr/geo-sirene/last/dep/geo_siret_33.csv.gz\n",
      "--- 6.46134614944458 seconds ---\n",
      "used memory : 20.8Go\n",
      "--- 15.388282775878906 seconds ---\n",
      "used memory : 20.7Go\n",
      "https://files.data.gouv.fr/geo-sirene/last/dep/geo_siret_34.csv.gz\n",
      "--- 5.7050135135650635 seconds ---\n",
      "used memory : 20.7Go\n",
      "--- 12.83587121963501 seconds ---\n",
      "used memory : 20.7Go\n",
      "https://files.data.gouv.fr/geo-sirene/last/dep/geo_siret_35.csv.gz\n",
      "--- 3.8467249870300293 seconds ---\n",
      "used memory : 20.8Go\n",
      "--- 7.7980241775512695 seconds ---\n",
      "used memory : 20.7Go\n",
      "https://files.data.gouv.fr/geo-sirene/last/dep/geo_siret_36.csv.gz\n",
      "--- 0.8978817462921143 seconds ---\n",
      "used memory : 20.7Go\n",
      "--- 1.8983464241027832 seconds ---\n",
      "used memory : 20.8Go\n",
      "https://files.data.gouv.fr/geo-sirene/last/dep/geo_siret_37.csv.gz\n",
      "--- 2.141946315765381 seconds ---\n",
      "used memory : 20.7Go\n",
      "--- 4.576245546340942 seconds ---\n",
      "used memory : 20.7Go\n",
      "https://files.data.gouv.fr/geo-sirene/last/dep/geo_siret_38.csv.gz\n",
      "--- 4.5648064613342285 seconds ---\n",
      "used memory : 20.8Go\n",
      "--- 10.499089479446411 seconds ---\n",
      "used memory : 20.7Go\n",
      "https://files.data.gouv.fr/geo-sirene/last/dep/geo_siret_39.csv.gz\n",
      "--- 1.0132646560668945 seconds ---\n",
      "used memory : 20.7Go\n",
      "--- 1.9381732940673828 seconds ---\n",
      "used memory : 20.7Go\n",
      "https://files.data.gouv.fr/geo-sirene/last/dep/geo_siret_40.csv.gz\n",
      "--- 1.7033507823944092 seconds ---\n",
      "used memory : 20.7Go\n",
      "--- 4.033396244049072 seconds ---\n",
      "used memory : 20.8Go\n",
      "https://files.data.gouv.fr/geo-sirene/last/dep/geo_siret_41.csv.gz\n",
      "--- 1.2040071487426758 seconds ---\n",
      "used memory : 20.8Go\n",
      "--- 2.4293675422668457 seconds ---\n",
      "used memory : 20.7Go\n",
      "https://files.data.gouv.fr/geo-sirene/last/dep/geo_siret_42.csv.gz\n",
      "--- 2.550703763961792 seconds ---\n",
      "used memory : 20.8Go\n",
      "--- 6.017271280288696 seconds ---\n",
      "used memory : 20.7Go\n",
      "https://files.data.gouv.fr/geo-sirene/last/dep/geo_siret_43.csv.gz\n",
      "--- 0.8702821731567383 seconds ---\n",
      "used memory : 20.7Go\n",
      "--- 1.8355991840362549 seconds ---\n",
      "used memory : 20.7Go\n",
      "https://files.data.gouv.fr/geo-sirene/last/dep/geo_siret_44.csv.gz\n",
      "--- 4.502588987350464 seconds ---\n",
      "used memory : 20.7Go\n",
      "--- 10.41223406791687 seconds ---\n",
      "used memory : 20.7Go\n",
      "https://files.data.gouv.fr/geo-sirene/last/dep/geo_siret_45.csv.gz\n",
      "--- 2.3228912353515625 seconds ---\n",
      "used memory : 20.7Go\n",
      "--- 4.606440782546997 seconds ---\n",
      "used memory : 20.9Go\n",
      "https://files.data.gouv.fr/geo-sirene/last/dep/geo_siret_46.csv.gz\n",
      "--- 0.8720438480377197 seconds ---\n",
      "used memory : 20.7Go\n",
      "--- 1.7538793087005615 seconds ---\n",
      "used memory : 20.7Go\n",
      "https://files.data.gouv.fr/geo-sirene/last/dep/geo_siret_47.csv.gz\n",
      "--- 1.5379390716552734 seconds ---\n",
      "used memory : 20.8Go\n",
      "--- 3.2294750213623047 seconds ---\n",
      "used memory : 20.7Go\n",
      "https://files.data.gouv.fr/geo-sirene/last/dep/geo_siret_48.csv.gz\n",
      "--- 0.4603993892669678 seconds ---\n",
      "used memory : 20.7Go\n",
      "--- 0.8498892784118652 seconds ---\n",
      "used memory : 20.7Go\n",
      "https://files.data.gouv.fr/geo-sirene/last/dep/geo_siret_49.csv.gz\n",
      "--- 2.539860486984253 seconds ---\n",
      "used memory : 20.8Go\n",
      "--- 5.615816354751587 seconds ---\n",
      "used memory : 20.7Go\n",
      "https://files.data.gouv.fr/geo-sirene/last/dep/geo_siret_50.csv.gz\n",
      "--- 1.6583497524261475 seconds ---\n",
      "used memory : 20.7Go\n",
      "--- 3.454681158065796 seconds ---\n",
      "used memory : 20.7Go\n",
      "https://files.data.gouv.fr/geo-sirene/last/dep/geo_siret_51.csv.gz\n",
      "--- 2.2501912117004395 seconds ---\n",
      "used memory : 20.8Go\n",
      "--- 4.75495171546936 seconds ---\n",
      "used memory : 20.7Go\n",
      "https://files.data.gouv.fr/geo-sirene/last/dep/geo_siret_52.csv.gz\n",
      "--- 0.69215989112854 seconds ---\n",
      "used memory : 20.8Go\n",
      "--- 1.2485144138336182 seconds ---\n",
      "used memory : 20.8Go\n",
      "https://files.data.gouv.fr/geo-sirene/last/dep/geo_siret_53.csv.gz\n",
      "--- 1.0111398696899414 seconds ---\n",
      "used memory : 20.7Go\n",
      "--- 2.164482355117798 seconds ---\n",
      "used memory : 20.7Go\n",
      "https://files.data.gouv.fr/geo-sirene/last/dep/geo_siret_54.csv.gz\n",
      "--- 2.128038167953491 seconds ---\n",
      "used memory : 20.8Go\n",
      "--- 4.67104959487915 seconds ---\n",
      "used memory : 20.7Go\n",
      "https://files.data.gouv.fr/geo-sirene/last/dep/geo_siret_55.csv.gz\n",
      "--- 0.7136728763580322 seconds ---\n",
      "used memory : 20.8Go\n",
      "--- 1.318903923034668 seconds ---\n",
      "used memory : 20.7Go\n",
      "https://files.data.gouv.fr/geo-sirene/last/dep/geo_siret_56.csv.gz\n",
      "--- 2.5813939571380615 seconds ---\n",
      "used memory : 20.7Go\n",
      "--- 5.895444393157959 seconds ---\n",
      "used memory : 20.7Go\n",
      "https://files.data.gouv.fr/geo-sirene/last/dep/geo_siret_57.csv.gz\n",
      "--- 2.780552625656128 seconds ---\n",
      "used memory : 20.7Go\n",
      "--- 6.394849061965942 seconds ---\n",
      "used memory : 20.7Go\n",
      "https://files.data.gouv.fr/geo-sirene/last/dep/geo_siret_58.csv.gz\n",
      "--- 0.8504304885864258 seconds ---\n",
      "used memory : 20.7Go\n",
      "--- 1.6026411056518555 seconds ---\n",
      "used memory : 20.7Go\n",
      "https://files.data.gouv.fr/geo-sirene/last/dep/geo_siret_59.csv.gz\n",
      "--- 7.430692434310913 seconds ---\n",
      "used memory : 20.8Go\n",
      "--- 16.901801824569702 seconds ---\n",
      "used memory : 20.7Go\n",
      "https://files.data.gouv.fr/geo-sirene/last/dep/geo_siret_60.csv.gz\n",
      "--- 2.33292293548584 seconds ---\n",
      "used memory : 20.7Go\n",
      "--- 4.857838869094849 seconds ---\n",
      "used memory : 20.7Go\n",
      "https://files.data.gouv.fr/geo-sirene/last/dep/geo_siret_61.csv.gz\n",
      "--- 1.0594439506530762 seconds ---\n",
      "used memory : 20.7Go\n",
      "--- 2.2180886268615723 seconds ---\n",
      "used memory : 20.8Go\n",
      "https://files.data.gouv.fr/geo-sirene/last/dep/geo_siret_62.csv.gz\n",
      "--- 3.307767152786255 seconds ---\n",
      "used memory : 20.8Go\n",
      "--- 7.977247714996338 seconds ---\n",
      "used memory : 20.7Go\n",
      "https://files.data.gouv.fr/geo-sirene/last/dep/geo_siret_63.csv.gz\n",
      "--- 2.103620767593384 seconds ---\n",
      "used memory : 20.7Go\n",
      "--- 4.906884670257568 seconds ---\n",
      "used memory : 20.8Go\n",
      "https://files.data.gouv.fr/geo-sirene/last/dep/geo_siret_64.csv.gz\n",
      "--- 2.901726484298706 seconds ---\n",
      "used memory : 20.7Go\n",
      "--- 6.489819049835205 seconds ---\n",
      "used memory : 20.7Go\n",
      "https://files.data.gouv.fr/geo-sirene/last/dep/geo_siret_65.csv.gz\n",
      "--- 1.0286059379577637 seconds ---\n",
      "used memory : 20.8Go\n",
      "--- 2.3068478107452393 seconds ---\n",
      "used memory : 20.7Go\n",
      "https://files.data.gouv.fr/geo-sirene/last/dep/geo_siret_66.csv.gz\n",
      "--- 2.158383846282959 seconds ---\n",
      "used memory : 20.7Go\n",
      "--- 5.385537147521973 seconds ---\n",
      "used memory : 20.7Go\n",
      "https://files.data.gouv.fr/geo-sirene/last/dep/geo_siret_67.csv.gz\n",
      "--- 3.4449901580810547 seconds ---\n",
      "used memory : 20.7Go\n",
      "--- 8.257671117782593 seconds ---\n",
      "used memory : 20.9Go\n",
      "https://files.data.gouv.fr/geo-sirene/last/dep/geo_siret_68.csv.gz\n",
      "--- 2.3108713626861572 seconds ---\n",
      "used memory : 20.7Go\n",
      "--- 5.015612602233887 seconds ---\n",
      "used memory : 20.8Go\n",
      "https://files.data.gouv.fr/geo-sirene/last/dep/geo_siret_69.csv.gz\n",
      "--- 7.324875831604004 seconds ---\n",
      "used memory : 21.1Go\n",
      "--- 18.1120388507843 seconds ---\n",
      "used memory : 21.0Go\n",
      "https://files.data.gouv.fr/geo-sirene/last/dep/geo_siret_70.csv.gz\n",
      "--- 0.866891622543335 seconds ---\n",
      "used memory : 20.7Go\n",
      "--- 1.5344791412353516 seconds ---\n",
      "used memory : 20.7Go\n",
      "https://files.data.gouv.fr/geo-sirene/last/dep/geo_siret_71.csv.gz\n",
      "--- 1.7348723411560059 seconds ---\n",
      "used memory : 20.7Go\n",
      "--- 4.183162689208984 seconds ---\n",
      "used memory : 20.7Go\n",
      "https://files.data.gouv.fr/geo-sirene/last/dep/geo_siret_72.csv.gz\n",
      "--- 1.544856309890747 seconds ---\n",
      "used memory : 20.7Go\n",
      "--- 3.4936399459838867 seconds ---\n",
      "used memory : 20.8Go\n",
      "https://files.data.gouv.fr/geo-sirene/last/dep/geo_siret_73.csv.gz\n",
      "--- 2.230346441268921 seconds ---\n",
      "used memory : 20.7Go\n",
      "--- 5.026681661605835 seconds ---\n",
      "used memory : 20.7Go\n",
      "https://files.data.gouv.fr/geo-sirene/last/dep/geo_siret_74.csv.gz\n",
      "--- 2.9653050899505615 seconds ---\n",
      "used memory : 20.7Go\n",
      "--- 7.528432846069336 seconds ---\n",
      "used memory : 20.7Go\n",
      "https://files.data.gouv.fr/geo-sirene/last/dep/geo_siret_76.csv.gz\n",
      "--- 3.3472349643707275 seconds ---\n",
      "used memory : 20.7Go\n",
      "--- 8.001580238342285 seconds ---\n",
      "used memory : 20.7Go\n",
      "https://files.data.gouv.fr/geo-sirene/last/dep/geo_siret_77.csv.gz\n",
      "--- 4.221583843231201 seconds ---\n",
      "used memory : 20.8Go\n",
      "--- 9.32473874092102 seconds ---\n",
      "used memory : 20.7Go\n",
      "https://files.data.gouv.fr/geo-sirene/last/dep/geo_siret_78.csv.gz\n",
      "--- 4.689979791641235 seconds ---\n",
      "used memory : 20.8Go\n",
      "--- 10.359386444091797 seconds ---\n",
      "used memory : 20.8Go\n",
      "https://files.data.gouv.fr/geo-sirene/last/dep/geo_siret_79.csv.gz\n",
      "--- 1.229142665863037 seconds ---\n",
      "used memory : 20.7Go\n",
      "--- 2.572739601135254 seconds ---\n",
      "used memory : 20.7Go\n",
      "https://files.data.gouv.fr/geo-sirene/last/dep/geo_siret_80.csv.gz\n",
      "--- 1.8030195236206055 seconds ---\n",
      "used memory : 20.7Go\n",
      "--- 3.5897603034973145 seconds ---\n",
      "used memory : 20.7Go\n",
      "https://files.data.gouv.fr/geo-sirene/last/dep/geo_siret_81.csv.gz\n",
      "--- 1.4043622016906738 seconds ---\n",
      "used memory : 20.7Go\n",
      "--- 3.160046100616455 seconds ---\n",
      "used memory : 20.7Go\n",
      "https://files.data.gouv.fr/geo-sirene/last/dep/geo_siret_82.csv.gz\n",
      "--- 0.9673998355865479 seconds ---\n",
      "used memory : 20.7Go\n",
      "--- 2.142064094543457 seconds ---\n",
      "used memory : 20.7Go\n",
      "https://files.data.gouv.fr/geo-sirene/last/dep/geo_siret_83.csv.gz\n",
      "--- 5.368185520172119 seconds ---\n",
      "used memory : 20.7Go\n",
      "--- 12.13702130317688 seconds ---\n",
      "used memory : 20.7Go\n",
      "https://files.data.gouv.fr/geo-sirene/last/dep/geo_siret_84.csv.gz\n",
      "--- 2.8666844367980957 seconds ---\n",
      "used memory : 20.7Go\n",
      "--- 5.985458135604858 seconds ---\n",
      "used memory : 20.7Go\n",
      "https://files.data.gouv.fr/geo-sirene/last/dep/geo_siret_85.csv.gz\n",
      "--- 2.166072130203247 seconds ---\n",
      "used memory : 20.7Go\n",
      "--- 5.1639814376831055 seconds ---\n",
      "used memory : 20.7Go\n",
      "https://files.data.gouv.fr/geo-sirene/last/dep/geo_siret_86.csv.gz\n",
      "--- 1.55525803565979 seconds ---\n",
      "used memory : 20.7Go\n",
      "--- 3.1519224643707275 seconds ---\n",
      "used memory : 20.7Go\n",
      "https://files.data.gouv.fr/geo-sirene/last/dep/geo_siret_87.csv.gz\n",
      "--- 1.213681697845459 seconds ---\n",
      "used memory : 20.7Go\n",
      "--- 2.8301761150360107 seconds ---\n",
      "used memory : 20.9Go\n",
      "https://files.data.gouv.fr/geo-sirene/last/dep/geo_siret_88.csv.gz\n",
      "--- 1.234203577041626 seconds ---\n",
      "used memory : 20.7Go\n",
      "--- 2.669595956802368 seconds ---\n",
      "used memory : 20.7Go\n",
      "https://files.data.gouv.fr/geo-sirene/last/dep/geo_siret_89.csv.gz\n",
      "--- 1.1495444774627686 seconds ---\n",
      "used memory : 20.7Go\n",
      "--- 2.5861709117889404 seconds ---\n",
      "used memory : 20.8Go\n",
      "https://files.data.gouv.fr/geo-sirene/last/dep/geo_siret_90.csv.gz\n",
      "--- 0.5154101848602295 seconds ---\n",
      "used memory : 20.7Go\n",
      "--- 0.8740003108978271 seconds ---\n",
      "used memory : 20.7Go\n",
      "https://files.data.gouv.fr/geo-sirene/last/dep/geo_siret_91.csv.gz\n",
      "--- 3.5662636756896973 seconds ---\n",
      "used memory : 20.7Go\n",
      "--- 8.332080364227295 seconds ---\n",
      "used memory : 20.7Go\n",
      "https://files.data.gouv.fr/geo-sirene/last/dep/geo_siret_92.csv.gz\n",
      "--- 6.692016839981079 seconds ---\n",
      "used memory : 20.7Go\n",
      "--- 16.241724491119385 seconds ---\n",
      "used memory : 20.7Go\n",
      "https://files.data.gouv.fr/geo-sirene/last/dep/geo_siret_93.csv.gz\n",
      "--- 5.4117937088012695 seconds ---\n",
      "used memory : 20.7Go\n",
      "--- 13.418792963027954 seconds ---\n",
      "used memory : 20.8Go\n",
      "https://files.data.gouv.fr/geo-sirene/last/dep/geo_siret_94.csv.gz\n",
      "--- 4.522470712661743 seconds ---\n",
      "used memory : 20.8Go\n",
      "--- 10.999284267425537 seconds ---\n",
      "used memory : 20.7Go\n",
      "https://files.data.gouv.fr/geo-sirene/last/dep/geo_siret_95.csv.gz\n",
      "--- 3.468522548675537 seconds ---\n",
      "used memory : 20.7Go\n",
      "--- 8.358997583389282 seconds ---\n",
      "used memory : 20.7Go\n",
      "https://files.data.gouv.fr/geo-sirene/last/dep/geo_siret_75101.csv.gz\n",
      "--- 0.7159039974212646 seconds ---\n",
      "used memory : 20.7Go\n",
      "--- 1.6082313060760498 seconds ---\n",
      "used memory : 20.8Go\n",
      "https://files.data.gouv.fr/geo-sirene/last/dep/geo_siret_75102.csv.gz\n",
      "--- 0.7592742443084717 seconds ---\n",
      "used memory : 20.7Go\n",
      "--- 1.848114013671875 seconds ---\n",
      "used memory : 20.7Go\n",
      "https://files.data.gouv.fr/geo-sirene/last/dep/geo_siret_75103.csv.gz\n",
      "--- 0.5377230644226074 seconds ---\n",
      "used memory : 20.7Go\n",
      "--- 1.203484296798706 seconds ---\n",
      "used memory : 20.7Go\n",
      "https://files.data.gouv.fr/geo-sirene/last/dep/geo_siret_75104.csv.gz\n",
      "--- 0.4650263786315918 seconds ---\n",
      "used memory : 20.7Go\n",
      "--- 0.8726332187652588 seconds ---\n",
      "used memory : 20.7Go\n",
      "https://files.data.gouv.fr/geo-sirene/last/dep/geo_siret_75105.csv.gz\n",
      "--- 0.6009514331817627 seconds ---\n",
      "used memory : 20.7Go\n",
      "--- 1.1617357730865479 seconds ---\n",
      "used memory : 20.7Go\n",
      "https://files.data.gouv.fr/geo-sirene/last/dep/geo_siret_75106.csv.gz\n",
      "--- 0.5727221965789795 seconds ---\n",
      "used memory : 20.8Go\n",
      "--- 1.2112185955047607 seconds ---\n",
      "used memory : 20.7Go\n",
      "https://files.data.gouv.fr/geo-sirene/last/dep/geo_siret_75107.csv.gz\n",
      "--- 0.6793227195739746 seconds ---\n",
      "used memory : 20.7Go\n",
      "--- 1.4768168926239014 seconds ---\n",
      "used memory : 20.7Go\n",
      "https://files.data.gouv.fr/geo-sirene/last/dep/geo_siret_75108.csv.gz\n",
      "--- 2.1124281883239746 seconds ---\n",
      "used memory : 20.7Go\n",
      "--- 6.027688503265381 seconds ---\n",
      "used memory : 20.7Go\n",
      "https://files.data.gouv.fr/geo-sirene/last/dep/geo_siret_75109.csv.gz\n",
      "--- 1.2259769439697266 seconds ---\n",
      "used memory : 20.7Go\n",
      "--- 2.8250906467437744 seconds ---\n",
      "used memory : 20.8Go\n",
      "https://files.data.gouv.fr/geo-sirene/last/dep/geo_siret_75111.csv.gz\n",
      "--- 1.2303211688995361 seconds ---\n",
      "used memory : 20.7Go\n",
      "--- 3.2205958366394043 seconds ---\n",
      "used memory : 20.7Go\n",
      "https://files.data.gouv.fr/geo-sirene/last/dep/geo_siret_75112.csv.gz\n",
      "--- 0.9020717144012451 seconds ---\n",
      "used memory : 20.7Go\n",
      "--- 2.3348031044006348 seconds ---\n",
      "used memory : 20.7Go\n",
      "https://files.data.gouv.fr/geo-sirene/last/dep/geo_siret_75113.csv.gz\n",
      "--- 0.8065526485443115 seconds ---\n",
      "used memory : 20.7Go\n",
      "--- 1.9252631664276123 seconds ---\n",
      "used memory : 20.7Go\n",
      "https://files.data.gouv.fr/geo-sirene/last/dep/geo_siret_75114.csv.gz\n",
      "--- 0.7800319194793701 seconds ---\n",
      "used memory : 20.7Go\n",
      "--- 1.8977103233337402 seconds ---\n",
      "used memory : 20.7Go\n",
      "https://files.data.gouv.fr/geo-sirene/last/dep/geo_siret_75115.csv.gz\n",
      "--- 1.4275586605072021 seconds ---\n",
      "used memory : 20.7Go\n",
      "--- 3.2109897136688232 seconds ---\n",
      "used memory : 20.7Go\n",
      "https://files.data.gouv.fr/geo-sirene/last/dep/geo_siret_75116.csv.gz\n",
      "--- 1.5542056560516357 seconds ---\n",
      "used memory : 20.7Go\n",
      "--- 4.033546447753906 seconds ---\n",
      "used memory : 20.7Go\n",
      "https://files.data.gouv.fr/geo-sirene/last/dep/geo_siret_75117.csv.gz\n",
      "--- 1.4358649253845215 seconds ---\n",
      "used memory : 20.7Go\n",
      "--- 3.77081561088562 seconds ---\n",
      "used memory : 20.7Go\n",
      "https://files.data.gouv.fr/geo-sirene/last/dep/geo_siret_75118.csv.gz\n",
      "--- 1.2124428749084473 seconds ---\n",
      "used memory : 20.8Go\n",
      "--- 2.8123295307159424 seconds ---\n",
      "used memory : 20.7Go\n",
      "https://files.data.gouv.fr/geo-sirene/last/dep/geo_siret_75119.csv.gz\n",
      "--- 0.9658479690551758 seconds ---\n",
      "used memory : 20.7Go\n",
      "--- 2.108159065246582 seconds ---\n",
      "used memory : 20.7Go\n",
      "https://files.data.gouv.fr/geo-sirene/last/dep/geo_siret_75120.csv.gz\n",
      "--- 1.0125329494476318 seconds ---\n",
      "used memory : 20.7Go\n",
      "--- 2.5088441371917725 seconds ---\n",
      "used memory : 20.7Go\n",
      "https://files.data.gouv.fr/geo-sirene/last/dep/geo_siret_971.csv.gz\n",
      "--- 1.7635416984558105 seconds ---\n",
      "used memory : 20.7Go\n",
      "--- 4.290048837661743 seconds ---\n",
      "used memory : 20.7Go\n",
      "https://files.data.gouv.fr/geo-sirene/last/dep/geo_siret_972.csv.gz\n",
      "--- 1.6005055904388428 seconds ---\n",
      "used memory : 20.8Go\n",
      "--- 4.018079996109009 seconds ---\n",
      "used memory : 20.7Go\n",
      "https://files.data.gouv.fr/geo-sirene/last/dep/geo_siret_973.csv.gz\n",
      "--- 0.741431713104248 seconds ---\n",
      "used memory : 20.7Go\n",
      "--- 1.4142463207244873 seconds ---\n",
      "used memory : 20.7Go\n",
      "https://files.data.gouv.fr/geo-sirene/last/dep/geo_siret_974.csv.gz\n",
      "--- 2.486966848373413 seconds ---\n",
      "used memory : 20.7Go\n",
      "--- 6.215224266052246 seconds ---\n",
      "used memory : 20.8Go\n",
      "https://files.data.gouv.fr/geo-sirene/last/dep/geo_siret_976.csv.gz\n",
      "--- 0.39563488960266113 seconds ---\n",
      "used memory : 20.7Go\n",
      "--- 0.6116154193878174 seconds ---\n",
      "used memory : 20.7Go\n",
      "https://files.data.gouv.fr/geo-sirene/last/dep/geo_siret_.csv.gz\n",
      "--- 1.4064059257507324 seconds ---\n",
      "used memory : 20.7Go\n",
      "--- 4.682710647583008 seconds ---\n",
      "used memory : 20.7Go\n",
      "CPU times: user 12min 55s, sys: 14 s, total: 13min 9s\n",
      "Wall time: 13min 48s\n"
     ]
    }
   ],
   "source": [
    "%%time\n",
    "# Upload geo data by departement\n",
    "for dep in all_deps:\n",
    "    start_time = time.time()\n",
    "    url = \"https://files.data.gouv.fr/geo-sirene/last/dep/geo_siret_\" + dep + \".csv.gz\"\n",
    "    print(url)\n",
    "    df_dep = pd.read_csv(\n",
    "        url,\n",
    "        compression=\"gzip\",\n",
    "        dtype=str,\n",
    "        usecols=[\n",
    "            \"siren\",\n",
    "            \"siret\",\n",
    "            \"dateCreationEtablissement\",\n",
    "            \"trancheEffectifsEtablissement\",\n",
    "            \"activitePrincipaleRegistreMetiersEtablissement\",\n",
    "            \"etablissementSiege\",\n",
    "            \"numeroVoieEtablissement\",\n",
    "            \"libelleVoieEtablissement\",\n",
    "            \"codePostalEtablissement\",\n",
    "            \"libelleCommuneEtablissement\",\n",
    "            \"libelleCedexEtablissement\",\n",
    "            \"typeVoieEtablissement\",\n",
    "            \"codeCommuneEtablissement\",\n",
    "            \"codeCedexEtablissement\",\n",
    "            \"complementAdresseEtablissement\",\n",
    "            \"distributionSpecialeEtablissement\",\n",
    "            \"complementAdresse2Etablissement\",\n",
    "            \"indiceRepetition2Etablissement\",\n",
    "            \"libelleCedex2Etablissement\",\n",
    "            \"codeCedex2Etablissement\",\n",
    "            \"numeroVoie2Etablissement\",\n",
    "            \"typeVoie2Etablissement\",\n",
    "            \"libelleVoie2Etablissement\",\n",
    "            \"codeCommune2Etablissement\",\n",
    "            \"libelleCommune2Etablissement\",\n",
    "            \"distributionSpeciale2Etablissement\",\n",
    "            \"dateDebut\",\n",
    "            \"etatAdministratifEtablissement\",\n",
    "            \"enseigne1Etablissement\",\n",
    "            \"enseigne1Etablissement\",\n",
    "            \"enseigne2Etablissement\",\n",
    "            \"enseigne3Etablissement\",\n",
    "            \"denominationUsuelleEtablissement\",\n",
    "            \"activitePrincipaleEtablissement\",\n",
    "            \"geo_adresse\",\n",
    "            \"geo_id\",\n",
    "            \"longitude\",\n",
    "            \"latitude\",\n",
    "            \"indiceRepetitionEtablissement\",\n",
    "            \"libelleCommuneEtrangerEtablissement\",\n",
    "            \"codePaysEtrangerEtablissement\",\n",
    "            \"libellePaysEtrangerEtablissement\",\n",
    "            \"libelleCommuneEtranger2Etablissement\",\n",
    "            \"codePaysEtranger2Etablissement\",\n",
    "            \"libellePaysEtranger2Etablissement\",\n",
    "        ],\n",
    "    )\n",
    "    df_dep = df_dep.rename(\n",
    "        columns={\n",
    "            \"dateCreationEtablissement\": \"date_creation\",\n",
    "            \"trancheEffectifsEtablissement\": \"tranche_effectif_salarie\",\n",
    "            \"activitePrincipaleRegistreMetiersEtablissement\": \"activite_principale_registre_metier\",\n",
    "            \"etablissementSiege\": \"is_siege\",\n",
    "            \"numeroVoieEtablissement\": \"numero_voie\",\n",
    "            \"typeVoieEtablissement\": \"type_voie\",\n",
    "            \"libelleVoieEtablissement\": \"libelle_voie\",\n",
    "            \"codePostalEtablissement\": \"code_postal\",\n",
    "            \"libelleCedexEtablissement\": \"libelle_cedex\",\n",
    "            \"libelleCommuneEtablissement\": \"libelle_commune\",\n",
    "            \"codeCommuneEtablissement\": \"commune\",\n",
    "            \"complementAdresseEtablissement\": \"complement_adresse\",\n",
    "            \"complementAdresse2Etablissement\": \"complement_adresse_2\",\n",
    "            \"numeroVoie2Etablissement\": \"numero_voie_2\",\n",
    "            \"indiceRepetition2Etablissement\": \"indice_repetition_2\",\n",
    "            \"typeVoie2Etablissement\": \"type_voie_2\",\n",
    "            \"libelleVoie2Etablissement\": \"libelle_voie_2\",\n",
    "            \"codeCommune2Etablissement\": \"commune_2\",\n",
    "            \"libelleCommune2Etablissement\": \"libelle_commune_2\",\n",
    "            \"codeCedex2Etablissement\": \"cedex_2\",\n",
    "            \"libelleCedex2Etablissement\": \"libelle_cedex_2\",\n",
    "            \"codeCedexEtablissement\": \"cedex\",\n",
    "            \"dateDebut\": \"date_debut_activite\",\n",
    "            \"distributionSpecialeEtablissement\": \"distribution_speciale\",\n",
    "            \"distributionSpeciale2Etablissement\": \"distribution_speciale_2\",\n",
    "            \"etatAdministratifEtablissement\": \"etat_administratif_etablissement\",\n",
    "            \"enseigne1Etablissement\": \"enseigne_1\",\n",
    "            \"enseigne2Etablissement\": \"enseigne_2\",\n",
    "            \"enseigne3Etablissement\": \"enseigne_3\",\n",
    "            \"activitePrincipaleEtablissement\": \"activite_principale\",\n",
    "            \"indiceRepetitionEtablissement\": \"indice_repetition\",\n",
    "            \"denominationUsuelleEtablissement\": \"nom_commercial\",\n",
    "            \"libelleCommuneEtrangerEtablissement\": \"libelle_commune_etranger\",\n",
    "            \"codePaysEtrangerEtablissement\": \"code_pays_etranger\",\n",
    "            \"libellePaysEtrangerEtablissement\": \"libelle_pays_etranger\",\n",
    "            \"libelleCommuneEtranger2Etablissement\": \"libelle_commune_etranger_2\",\n",
    "            \"codePaysEtranger2Etablissement\": \"code_pays_etranger_2\",\n",
    "            \"libellePaysEtranger2Etablissement\": \"libelle_pays_etranger_2\",\n",
    "        }\n",
    "    )\n",
    "    stats()\n",
    "    cursor.execute(f'''DROP TABLE IF EXISTS {f\"siret_{dep}\"}''')\n",
    "    cursor.execute(f'''CREATE TABLE IF NOT EXISTS {f\"siret_{dep}\"}\n",
    "            (siren,\n",
    "            siret,\n",
    "            date_creation,\n",
    "            tranche_effectif_salarie,\n",
    "            activite_principale_registre_metier,\n",
    "            is_siege,\n",
    "            numero_voie,\n",
    "            type_voie,\n",
    "            libelle_voie,\n",
    "            code_postal,\n",
    "            libelle_cedex,\n",
    "            libelle_commune,\n",
    "            commune,\n",
    "            complement_adresse,\n",
    "            complement_adresse_2,\n",
    "            numero_voie_2,\n",
    "            indice_repetition_2,\n",
    "            type_voie_2,\n",
    "            libelle_voie_2,\n",
    "            commune_2,\n",
    "            libelle_commune_2,\n",
    "            cedex_2,\n",
    "            libelle_cedex_2,\n",
    "            cedex,\n",
    "            date_debut_activite,\n",
    "            distribution_speciale,\n",
    "            distribution_speciale_2,\n",
    "            etat_administratif_etablissement,\n",
    "            enseigne_1,\n",
    "            enseigne_2,\n",
    "            enseigne_3,\n",
    "            activite_principale,\n",
    "            indice_repetition,\n",
    "            nom_commercial,\n",
    "            libelle_commune_etranger,\n",
    "            code_pays_etranger,\n",
    "            libelle_pays_etranger,\n",
    "            libelle_commune_etranger_2,\n",
    "            code_pays_etranger_2,\n",
    "            libelle_pays_etranger_2,\n",
    "            longitude,\n",
    "            latitude,\n",
    "            geo_adresse,\n",
    "            geo_id)\n",
    "            ''')\n",
    "    \n",
    "    start_time = time.time()\n",
    "    df_dep.to_sql(f\"siret_{dep}\", connection, if_exists='append', index=False)\n",
    "    connection.commit()\n",
    "    stats()"
   ]
  },
  {
   "cell_type": "code",
   "execution_count": 103,
   "metadata": {},
   "outputs": [
    {
     "name": "stdout",
     "output_type": "stream",
     "text": [
      "('038822102', '03882210200018', '1997-12-25', None, None, 'true', None, None, None, '23460', None, 'LE MONTEIL-AU-VICOMTE', '23134', None, None, None, None, None, None, None, None, None, None, None, '2008-01-01', None, None, 'A', None, None, None, '81.10Z', None, None, None, None, None, None, None, None, None, None, None, None)\n",
      "('039016357', '03901635700012', None, None, None, 'true', None, None, None, '23700', None, 'AUZANCES', '23013', None, None, None, None, None, None, None, None, None, None, None, '1997-12-31', None, None, 'F', None, None, None, '70.3C', None, None, None, None, None, None, None, None, None, None, None, None)\n"
     ]
    }
   ],
   "source": [
    "for row in cursor.execute('SELECT * FROM siret_23 LIMIT 2;'):\n",
    "    print(row)"
   ]
  },
  {
   "cell_type": "markdown",
   "metadata": {},
   "source": [
    "### Add enseigne"
   ]
  },
  {
   "cell_type": "code",
   "execution_count": 50,
   "metadata": {
    "tags": []
   },
   "outputs": [
    {
     "name": "stdout",
     "output_type": "stream",
     "text": [
      "23\n",
      "--- 0.004804134368896484 seconds ---\n",
      "used memory : 19.5Go\n"
     ]
    }
   ],
   "source": [
    "for dep in all_deps:\n",
    "    start_time = time.time()\n",
    "    print(dep)\n",
    "    add_enseigne = f'''ALTER TABLE {f\"siret_{dep}\"} ADD COLUMN enseignes GENERATED ALWAYS AS\n",
    "               (COALESCE(enseigne_1, '') || COALESCE(enseigne_2, ' ') || COALESCE(enseigne_3, ' ') || COALESCE(nom_commercial, ''))\n",
    "               '''\n",
    "    cursor.execute(add_enseigne)\n",
    "    stats()"
   ]
  },
  {
   "cell_type": "code",
   "execution_count": 51,
   "metadata": {},
   "outputs": [
    {
     "name": "stdout",
     "output_type": "stream",
     "text": [
      "(None, None, None, None, '  ')\n",
      "(None, None, None, None, '  ')\n",
      "(None, None, None, None, '  ')\n",
      "(None, None, None, None, '  ')\n",
      "(None, None, None, None, '  ')\n",
      "('BARREIGE-REYNAUD', None, None, None, 'BARREIGE-REYNAUD  ')\n",
      "('BARREIGE-REYNAUD', None, None, None, 'BARREIGE-REYNAUD  ')\n",
      "('BARREIGE REYNAUD', None, None, None, 'BARREIGE REYNAUD  ')\n",
      "(None, None, None, None, '  ')\n",
      "('ONET SERVICES MONTLUCON GUERET', None, None, None, 'ONET SERVICES MONTLUCON GUERET  ')\n"
     ]
    }
   ],
   "source": [
    "for row in cursor.execute('SELECT enseigne_1, enseigne_2, enseigne_3, nom_commercial, enseignes FROM siret_23 LIMIT 10;'):\n",
    "    print(row)"
   ]
  },
  {
   "cell_type": "markdown",
   "metadata": {},
   "source": [
    "### Create Adresse Compléte"
   ]
  },
  {
   "cell_type": "code",
   "execution_count": 52,
   "metadata": {},
   "outputs": [],
   "source": [
    "def adresse_complete(complement_adresse, numero_voie, indice_repetition, type_voie, libelle_voie, libelle_commune, libelle_cedex, distribution_speciale, commune, cedex, libelle_commune_etranger, libelle_pays_etranger):    \n",
    "    col_list = [complement_adresse, numero_voie, indice_repetition, type_voie, libelle_voie, distribution_speciale]\n",
    "    adresse = \"\"\n",
    "    for column in col_list:\n",
    "        adresse = adresse + \" \" + column if column is not None else \"\"\n",
    "    if cedex==\"\":\n",
    "        if commune==\"\":\n",
    "            adresse =  adresse\n",
    "        else:\n",
    "            adresse = adresse + \" \" + commune + \" \" + libelle_commune\n",
    "    else:\n",
    "        adresse = adresse + \" \" + cedex + \" \" + libelle_cedex\n",
    "    etranger_list = [libelle_commune_etranger, libelle_pays_etranger]\n",
    "    for column in etranger_list:\n",
    "        adresse = adresse + \" \" + column if column is not None else \"\"\n",
    "    return adresse.strip()"
   ]
  },
  {
   "cell_type": "code",
   "execution_count": null,
   "metadata": {},
   "outputs": [],
   "source": [
    "def add_columns(commune, longitude, latitude):\n",
    "    departement = str(commune)[:3] if str(commune)[:2]== \"97\" else (None if commune is None else str(commune)[:2])\n",
    "    coordonnees = None if (longitude is None) or (atitude is None) else f\"{latitude},{longitude}\"\n",
    "    return "
   ]
  },
  {
   "cell_type": "code",
   "execution_count": 53,
   "metadata": {},
   "outputs": [],
   "source": [
    "connection.create_function(\"adresse_complete\", 12, adresse_complete)"
   ]
  },
  {
   "cell_type": "code",
   "execution_count": 55,
   "metadata": {},
   "outputs": [
    {
     "data": {
      "text/plain": [
       "<sqlite3.Cursor at 0x7f815ffaece0>"
      ]
     },
     "execution_count": 55,
     "metadata": {},
     "output_type": "execute_result"
    }
   ],
   "source": [
    "# Add column\n",
    "create_address_column = '''ALTER TABLE siret_23 \n",
    "                        ADD COLUMN adresse_complete\n",
    "                        ''';\n",
    "cursor.execute(create_address_column)"
   ]
  },
  {
   "cell_type": "code",
   "execution_count": 56,
   "metadata": {},
   "outputs": [
    {
     "data": {
      "text/plain": [
       "<sqlite3.Cursor at 0x7f815ffaece0>"
      ]
     },
     "execution_count": 56,
     "metadata": {},
     "output_type": "execute_result"
    }
   ],
   "source": [
    "# Add column\n",
    "create_address2_column = '''ALTER TABLE siret_23 \n",
    "                        ADD COLUMN adresse_complete_2''';\n",
    "cursor.execute(create_address2_column)"
   ]
  },
  {
   "cell_type": "code",
   "execution_count": 57,
   "metadata": {},
   "outputs": [],
   "source": [
    "# create and execute sql query\n",
    "add_adresse_complete = '''\n",
    "    SELECT adresse_complete(COALESCE(complement_adresse,''),COALESCE(numero_voie,''), COALESCE(indice_repetition,''), COALESCE(type_voie,''),\n",
    "    COALESCE(libelle_voie,''), COALESCE(libelle_commune,''), COALESCE(libelle_cedex,''), COALESCE(distribution_speciale,''),\n",
    "    COALESCE(commune,''), COALESCE(cedex,''), COALESCE(libelle_commune_etranger,''), COALESCE(libelle_pays_etranger,'')), \n",
    "    \n",
    "    adresse_complete(COALESCE(complement_adresse_2,''),COALESCE(numero_voie_2,''), COALESCE(indice_repetition_2,''), COALESCE(type_voie_2,''),\n",
    "    COALESCE(libelle_voie_2,''), COALESCE(libelle_commune_2,''), COALESCE(libelle_cedex_2,''), COALESCE(distribution_speciale_2,''),\n",
    "    COALESCE(commune_2,''), COALESCE(cedex_2,''), COALESCE(libelle_commune_etranger_2,''), COALESCE(libelle_pays_etranger_2,'')), \n",
    "    \n",
    "    \n",
    "    \n",
    "    \n",
    "    siret\n",
    "    FROM siret_23\n",
    "    WHERE true'''"
   ]
  },
  {
   "cell_type": "code",
   "execution_count": 58,
   "metadata": {},
   "outputs": [
    {
     "data": {
      "text/plain": [
       "<sqlite3.Cursor at 0x7f815ffaece0>"
      ]
     },
     "execution_count": 58,
     "metadata": {},
     "output_type": "execute_result"
    }
   ],
   "source": [
    "cursor.execute(add_adresse_complete)"
   ]
  },
  {
   "cell_type": "code",
   "execution_count": 59,
   "metadata": {},
   "outputs": [
    {
     "name": "stdout",
     "output_type": "stream",
     "text": [
      "--- 514.9059031009674 seconds ---\n",
      "used memory : 19.4Go\n"
     ]
    }
   ],
   "source": [
    "start_time = time.time()\n",
    "cursor.executemany('''UPDATE siret_23 SET adresse_complete = ?, adresse_complete_2 = ? WHERE siret=?''', cursor.fetchall())\n",
    "stats()"
   ]
  },
  {
   "cell_type": "code",
   "execution_count": 60,
   "metadata": {},
   "outputs": [
    {
     "name": "stdout",
     "output_type": "stream",
     "text": [
      "('038822102', '03882210200018', '1997-12-25', None, None, 'true', None, None, None, '23460', None, 'LE MONTEIL-AU-VICOMTE', '23134', None, None, None, None, None, None, None, None, None, None, None, '2008-01-01', None, None, 'A', None, None, None, '81.10Z', None, None, None, None, None, None, None, None, None, None, None, None, '  ', '23134 LE MONTEIL-AU-VICOMTE', '')\n",
      "('039016357', '03901635700012', None, None, None, 'true', None, None, None, '23700', None, 'AUZANCES', '23013', None, None, None, None, None, None, None, None, None, None, None, '1997-12-31', None, None, 'F', None, None, None, '70.3C', None, None, None, None, None, None, None, None, None, None, None, None, '  ', '23013 AUZANCES', '')\n",
      "('039027305', '03902730500018', None, None, None, 'true', None, 'RUE', 'DE L ETANG', '23190', None, 'BELLEGARDE-EN-MARCHE', '23020', None, None, None, None, None, None, None, None, None, None, None, '1997-12-31', None, None, 'F', None, None, None, '70.3C', None, None, None, None, None, None, None, None, '2.292848', '45.981419', 'Rue de l’Etang 23190 Bellegarde-en-Marche', '23020_0045', '  ', 'RUE DE L ETANG  23020 BELLEGARDE-EN-MARCHE', '')\n",
      "('039315312', '03931531200015', '1997-12-25', None, None, 'true', '23', 'GR', 'GRAND RUE', '23800', None, 'DUN-LE-PALESTEL', '23075', None, None, None, None, None, None, None, None, None, None, None, '2008-01-01', None, None, 'A', None, None, None, '81.10Z', None, None, None, None, None, None, None, None, '1.66628', '46.30549', '23 Grande Rue 23800 Dun-le-Palestel', '23075_0125_00023', '  ', '23  GR GRAND RUE  23075 DUN-LE-PALESTEL', '')\n",
      "('056810336', '05681033600091', '1990-10-16', 'NN', None, 'false', '4', 'AV', 'CHARLES DE GAULLE', '23000', None, 'GUERET', '23096', None, None, None, None, None, None, None, None, None, None, None, '1995-12-25', None, None, 'F', None, None, None, '70.1A', None, None, None, None, None, None, None, None, '1.874098', '46.168938', '4 Avenue Charles de Gaulle 23000 Guéret', '23096_0427_00004', '  ', '4  AV CHARLES DE GAULLE  23096 GUERET', '')\n",
      "('061200580', '06120058000134', '2006-01-01', 'NN', None, 'false', '6', 'RUE', 'MAURICE ROLLINAT', '23000', None, 'GUERET', '23096', None, None, None, None, None, None, None, None, None, None, None, '2007-06-05', None, None, 'F', 'BARREIGE-REYNAUD', None, None, '52.4P', None, None, None, None, None, None, None, None, '1.869143', '46.171967', '6 Rue Maurice Rollinat 23000 Guéret', '23096_1420_00006', 'BARREIGE-REYNAUD  ', '6  RUE MAURICE ROLLINAT  23096 GUERET', '')\n",
      "('061200580', '06120058000142', '2006-01-01', None, None, 'false', '4', 'AV', 'LOUIS LAROCHE', '23000', None, 'GUERET', '23096', None, None, None, None, None, None, None, None, None, None, None, '2007-06-05', None, None, 'F', 'BARREIGE-REYNAUD', None, None, '52.4P', None, None, None, None, None, None, None, None, '1.868873', '46.172173', '4 Avenue Louis Laroche 23000 Guéret', '23096_1280_00004', 'BARREIGE-REYNAUD  ', '4  AV LOUIS LAROCHE  23096 GUERET', '')\n",
      "('061200580', '06120058000159', '2007-06-05', 'NN', None, 'false', None, 'RUE', 'HENRI ROL-TANGUY', '23000', None, 'GUERET', '23096', 'ZA DE VERNET', None, None, None, None, None, None, None, None, None, None, '2015-07-31', None, None, 'F', 'BARREIGE REYNAUD', None, None, '46.90Z', None, None, None, None, None, None, None, None, '1.880452', '46.185918', 'Rue Henri Rol Tanguy 23000 Guéret', '23096_1029', 'BARREIGE REYNAUD  ', 'ZA DE VERNET   RUE HENRI ROL-TANGUY  23096 GUERET', '')\n",
      "('067800425', '06780042502188', '1987-01-01', 'NN', None, 'false', None, 'RUE', 'MARCEL BRUNET', '23000', None, 'GUERET', '23096', None, None, None, None, None, None, None, None, None, None, None, '2008-03-01', None, None, 'F', None, None, None, '81.21Z', None, None, None, None, None, None, None, None, '1.871078', '46.177336', 'Rue Marcel Brunet 23000 Guéret', '23096_1322', '  ', 'RUE MARCEL BRUNET  23096 GUERET', '')\n",
      "('067800425', '06780042503467', '2008-03-01', 'NN', None, 'false', '3', 'BD', 'CARNOT', '23000', None, 'GUERET', '23096', None, None, None, None, None, None, None, None, None, None, None, '2014-09-15', None, None, 'F', 'ONET SERVICES MONTLUCON GUERET', None, None, '81.21Z', None, None, None, None, None, None, None, None, '1.870178', '46.169271', '3 Boulevard Carnot 23000 Guéret', '23096_0360_00003', 'ONET SERVICES MONTLUCON GUERET  ', '3  BD CARNOT  23096 GUERET', '')\n"
     ]
    }
   ],
   "source": [
    "for row in cursor.execute('SELECT * FROM siret_23 LIMIT 10;'):\n",
    "    print(row)"
   ]
  },
  {
   "cell_type": "code",
   "execution_count": null,
   "metadata": {},
   "outputs": [],
   "source": []
  },
  {
   "cell_type": "code",
   "execution_count": null,
   "metadata": {},
   "outputs": [],
   "source": []
  },
  {
   "cell_type": "code",
   "execution_count": null,
   "metadata": {},
   "outputs": [],
   "source": []
  },
  {
   "cell_type": "code",
   "execution_count": null,
   "metadata": {
    "tags": []
   },
   "outputs": [],
   "source": [
    "for row in cursor.fetchall():\n",
    "    start_time = time.time()\n",
    "    print(row)\n",
    "    cursor.execute('''UPDATE siret_23 SET adresse_complete = ? WHERE siret=?''', row)\n",
    "    stats()"
   ]
  },
  {
   "cell_type": "code",
   "execution_count": null,
   "metadata": {},
   "outputs": [],
   "source": [
    "connection.commit()"
   ]
  },
  {
   "cell_type": "code",
   "execution_count": null,
   "metadata": {
    "tags": []
   },
   "outputs": [],
   "source": [
    "for row in cursor.execute('SELECT * FROM siret_94 LIMIT 10;'):\n",
    "    print(row)"
   ]
  },
  {
   "cell_type": "code",
   "execution_count": null,
   "metadata": {},
   "outputs": [],
   "source": [
    "adresse_complete(\"rue\",\"20\",\"\",\"\",\"\",\"\",\"\",\"\",\"\",\"\",\"\",\"\")"
   ]
  },
  {
   "cell_type": "code",
   "execution_count": null,
   "metadata": {},
   "outputs": [],
   "source": []
  },
  {
   "cell_type": "markdown",
   "metadata": {},
   "source": [
    "## Nombre d'établissements et nombre d'établissements ouverts"
   ]
  },
  {
   "cell_type": "code",
   "execution_count": null,
   "metadata": {},
   "outputs": [],
   "source": []
  }
 ],
 "metadata": {
  "interpreter": {
   "hash": "19ece5f74f8baf7d074e990d308e7c75b7ac8b98c7c6e76faedd0c3526d006f2"
  },
  "kernelspec": {
   "display_name": "Python 3 (ipykernel)",
   "language": "python",
   "name": "python3"
  },
  "language_info": {
   "codemirror_mode": {
    "name": "ipython",
    "version": 3
   },
   "file_extension": ".py",
   "mimetype": "text/x-python",
   "name": "python",
   "nbconvert_exporter": "python",
   "pygments_lexer": "ipython3",
   "version": "3.9.7"
  }
 },
 "nbformat": 4,
 "nbformat_minor": 4
}
