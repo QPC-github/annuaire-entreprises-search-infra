{
 "cells": [
  {
   "cell_type": "markdown",
   "metadata": {},
   "source": [
    "# Imports"
   ]
  },
  {
   "cell_type": "code",
   "execution_count": 1,
   "metadata": {},
   "outputs": [],
   "source": [
    "import os, shutil\n",
    "import time\n",
    "import sqlite3\n",
    "import csv\n",
    "import json\n",
    "import logging\n",
    "from psutil import virtual_memory\n",
    "import pandas as pd\n",
    "import requests\n",
    "from pprint import pprint\n",
    "from elasticsearch_dsl import Index, connections\n",
    "from elasticsearch import helpers\n",
    "import logging"
   ]
  },
  {
   "cell_type": "code",
   "execution_count": 2,
   "metadata": {},
   "outputs": [],
   "source": [
    "logger = logging.getLogger()\n",
    "logger.setLevel(logging.INFO)"
   ]
  },
  {
   "cell_type": "code",
   "execution_count": null,
   "metadata": {},
   "outputs": [],
   "source": [
    "def mem():\n",
    "    print(f'used memory : {round(virtual_memory()[3]/(1024*1024*1024)*10)/10}Go')"
   ]
  },
  {
   "cell_type": "code",
   "execution_count": null,
   "metadata": {},
   "outputs": [],
   "source": [
    "def stats(): \n",
    "    print(\"--- %s seconds ---\" % (time.time() - start_time))\n",
    "    mem()"
   ]
  },
  {
   "cell_type": "code",
   "execution_count": null,
   "metadata": {},
   "outputs": [],
   "source": [
    "def global_stats(): \n",
    "    print(\"--- %s seconds ---\" % (time.time() - global_start_time))\n",
    "    mem()"
   ]
  },
  {
   "cell_type": "code",
   "execution_count": null,
   "metadata": {},
   "outputs": [],
   "source": [
    "def unique_list(l):\n",
    "    if l is None:\n",
    "        return None\n",
    "    ulist = []\n",
    "    [ulist.append(x) for x in l if x not in ulist]\n",
    "    return ulist\n",
    "\n",
    "def unique_string(a):\n",
    "    if a is None:\n",
    "        return a\n",
    "    return ' '.join(unique_list(a.strip().split(','))).strip()\n",
    "\n",
    "def unique_seperated_string(a):\n",
    "    if a is None:\n",
    "        return a\n",
    "    return ', '.join(unique_list(a.strip().split(','))).strip()"
   ]
  },
  {
   "cell_type": "code",
   "execution_count": null,
   "metadata": {},
   "outputs": [],
   "source": [
    "def get_string(string):\n",
    "    if string is None:\n",
    "        return \"\"\n",
    "    return string"
   ]
  },
  {
   "cell_type": "code",
   "execution_count": null,
   "metadata": {},
   "outputs": [],
   "source": [
    "mem()"
   ]
  },
  {
   "cell_type": "code",
   "execution_count": null,
   "metadata": {},
   "outputs": [],
   "source": [
    "global_start_time = time.time()"
   ]
  },
  {
   "cell_type": "code",
   "execution_count": null,
   "metadata": {},
   "outputs": [],
   "source": [
    "print('RAM memory % used:', virtual_memory()[2])"
   ]
  },
  {
   "cell_type": "markdown",
   "metadata": {},
   "source": [
    "# Path set-up"
   ]
  },
  {
   "cell_type": "code",
   "execution_count": 3,
   "metadata": {},
   "outputs": [],
   "source": [
    "if \"DATA_DIR\" not in locals():\n",
    "    DATA_DIR = \"./data/\"\n",
    "else:\n",
    "    print(DATA_DIR)\n",
    "\n",
    "if os.path.exists(DATA_DIR) and os.path.isdir(DATA_DIR):\n",
    "    shutil.rmtree(DATA_DIR)\n",
    "os.makedirs(os.path.dirname(DATA_DIR), exist_ok=True)"
   ]
  },
  {
   "cell_type": "code",
   "execution_count": 4,
   "metadata": {},
   "outputs": [],
   "source": [
    "DATA_DIR = \"./data/\""
   ]
  },
  {
   "cell_type": "code",
   "execution_count": 5,
   "metadata": {},
   "outputs": [],
   "source": [
    "if \"OUTPUT_DATA_FOLDER\" not in locals():\n",
    "    OUTPUT_DATA_FOLDER = \"./output/\"\n",
    "else:\n",
    "    print(OUTPUT_DATA_FOLDER)\n",
    "\n",
    "if os.path.exists(OUTPUT_DATA_FOLDER) and os.path.isdir(OUTPUT_DATA_FOLDER):\n",
    "    shutil.rmtree(OUTPUT_DATA_FOLDER)\n",
    "os.makedirs(os.path.dirname(OUTPUT_DATA_FOLDER), exist_ok=True)"
   ]
  },
  {
   "cell_type": "markdown",
   "metadata": {},
   "source": [
    "# Prepare Data Enrichment "
   ]
  },
  {
   "cell_type": "markdown",
   "metadata": {},
   "source": [
    "## Nom complet"
   ]
  },
  {
   "cell_type": "code",
   "execution_count": null,
   "metadata": {},
   "outputs": [],
   "source": [
    "def create_nom_complet(nature_juridique_unite_legale=None, nom=None, nom_usage=None, nom_raison_sociale=None, sigle=None, prenom=None):    \n",
    "    is_auto_entrepreneur = nature_juridique_unite_legale == \"1000\"\n",
    "    \n",
    "    if is_auto_entrepreneur:\n",
    "        formatted_nom_usage = \" \" + nom_usage if nom_usage else \"\"\n",
    "        formatted_sigle = sigle if sigle else \"\"\n",
    "        \n",
    "        if (prenom is None and nom is None):\n",
    "            return None\n",
    "        if nom_usage is None:\n",
    "            return f\"{prenom} {nom} ({formatted_sigle})\".lower()\n",
    "        else:\n",
    "            return f\"{prenom} {formatted_nom_usage}({nom}, {formatted_sigle})\".lower()\n",
    "            \n",
    "    else:\n",
    "        if nom_raison_sociale is None and sigle is None:\n",
    "            return None\n",
    "        else:\n",
    "            formatted_sigle = f\" ({sigle})\" if sigle else \"\"\n",
    "            return f\"{nom_raison_sociale}{formatted_sigle}\".lower()"
   ]
  },
  {
   "cell_type": "markdown",
   "metadata": {},
   "source": [
    "## Entrepreneur Individuel"
   ]
  },
  {
   "cell_type": "code",
   "execution_count": null,
   "metadata": {},
   "outputs": [],
   "source": [
    "def create_entrepreneur_individuel(nature_juridique_unite_legale):\n",
    "    if nature_juridique_unite_legale in [\"1\", \"10\", \"1000\"]:\n",
    "        return 'true'\n",
    "    else:\n",
    "        return 'false'"
   ]
  },
  {
   "cell_type": "markdown",
   "metadata": {},
   "source": [
    "## Section activité principale"
   ]
  },
  {
   "cell_type": "code",
   "execution_count": null,
   "metadata": {},
   "outputs": [],
   "source": [
    "sections_NAF = {\n",
    "\"01\":\"A\",\"02\":\"A\",\"03\":\"A\",\"05\":\"B\",\"06\":\"B\",\"07\":\"B\",\"08\":\"B\",\"09\":\"B\",\"10\":\"C\",\"11\":\"C\",\"12\":\"C\",\"13\":\"C\",\"14\":\"C\",\n",
    " \"15\":\"C\",\"16\":\"C\",\"17\":\"C\",\"18\":\"C\",\"19\":\"C\",\"20\":\"C\",\"21\":\"C\",\"22\":\"C\",\"23\":\"C\",\"24\":\"C\",\"25\":\"C\",\"26\":\"C\",\"27\":\"C\",\n",
    " \"28\":\"C\",\"29\":\"C\",\"30\":\"C\",\"31\":\"C\",\"32\":\"C\",\"33\":\"C\",\"35\":\"D\",\"36\":\"E\",\"37\":\"E\",\"38\":\"E\",\"39\":\"E\",\"41\":\"F\",\"42\":\"F\",\n",
    " \"43\":\"F\",\"45\":\"G\",\"46\":\"G\",\"47\":\"G\",\"49\":\"H\",\"50\":\"H\",\"51\":\"H\",\"52\":\"H\",\"53\":\"H\",\"55\":\"I\",\"56\":\"I\",\"58\":\"J\",\"59\":\"J\",\n",
    " \"60\":\"J\",\"61\":\"J\",\"62\":\"J\",\"63\":\"J\",\"64\":\"K\",\"65\":\"K\",\"66\":\"K\",\"68\":\"L\",\"69\":\"M\",\"70\":\"M\",\"71\":\"M\",\"72\":\"M\",\"73\":\"M\",\n",
    " \"74\":\"M\",\"75\":\"M\",\"77\":\"N\",\"78\":\"N\",\"79\":\"N\",\"80\":\"N\",\"81\":\"N\",\"82\":\"N\",\"84\":\"O\",\"85\":\"P\",\"86\":\"Q\",\"87\":\"Q\",\"88\":\"Q\",\n",
    " \"90\":\"R\",\"91\":\"R\",\"92\":\"R\",\"93\":\"R\",\"94\":\"S\",\"95\":\"S\",\"96\":\"S\",\"97\":\"T\",\"98\":\"T\",\"99\":\"U\"\n",
    "}"
   ]
  },
  {
   "cell_type": "code",
   "execution_count": null,
   "metadata": {},
   "outputs": [],
   "source": [
    "def create_section(activite_principale_unite_legale):\n",
    "    if activite_principale_unite_legale is not None:\n",
    "        code_naf = activite_principale_unite_legale[:2]\n",
    "        section_activite_principale = sections_NAF[code_naf] if code_naf in sections_NAF else None\n",
    "        return section_activite_principale\n",
    "    else:\n",
    "        return None"
   ]
  },
  {
   "cell_type": "markdown",
   "metadata": {},
   "source": [
    "## Adresse complète"
   ]
  },
  {
   "cell_type": "code",
   "execution_count": null,
   "metadata": {},
   "outputs": [],
   "source": [
    "def create_adresse_complete(complement_adresse, numero_voie, indice_repetition, type_voie, libelle_voie, libelle_commune, libelle_cedex, distribution_speciale, commune, cedex, libelle_commune_etranger, libelle_pays_etranger):    \n",
    "    col_list = [complement_adresse, numero_voie, indice_repetition, type_voie, libelle_voie, distribution_speciale]\n",
    "    adresse = \"\"\n",
    "    for column in col_list:\n",
    "        if(column !=''):\n",
    "            adresse = adresse + \" \" + column if column is not None else \"\"\n",
    "    if cedex == \"\":\n",
    "        if commune == \"\":\n",
    "            adresse =  adresse\n",
    "        else:\n",
    "            adresse = adresse + \" \" + commune + \" \" + libelle_commune\n",
    "    else:\n",
    "        adresse = adresse + \" \" + cedex + \" \" + libelle_cedex\n",
    "    etranger_list = [libelle_commune_etranger, libelle_pays_etranger]\n",
    "    for column in etranger_list:\n",
    "        if(column != \"\"):\n",
    "            adresse = adresse + \" \" + column if column != \"\" else \"\"\n",
    "    return adresse.strip()"
   ]
  },
  {
   "cell_type": "markdown",
   "metadata": {},
   "source": [
    "## Département"
   ]
  },
  {
   "cell_type": "code",
   "execution_count": null,
   "metadata": {},
   "outputs": [],
   "source": [
    "def create_departement(commune):\n",
    "    departement = str(commune)[:3] if str(commune)[:2]==\"97\" else (None if commune is None else str(commune)[:2])\n",
    "    return departement"
   ]
  },
  {
   "cell_type": "markdown",
   "metadata": {},
   "source": [
    "## Coordonnées"
   ]
  },
  {
   "cell_type": "code",
   "execution_count": null,
   "metadata": {},
   "outputs": [],
   "source": [
    "def create_coordonnees(longitude, latitude):\n",
    "    coordonnees = None if (longitude is None) or (latitude is None) else f\"{latitude},{longitude}\"\n",
    "    return coordonnees"
   ]
  },
  {
   "cell_type": "markdown",
   "metadata": {},
   "source": [
    "## Liste enseigne"
   ]
  },
  {
   "cell_type": "code",
   "execution_count": null,
   "metadata": {},
   "outputs": [],
   "source": [
    "def create_list_enseignes(enseigne_1=None, enseigne_2=None, enseigne_3=None, nom_commercial=None):\n",
    "    return list(filter(None,set([enseigne_1, enseigne_2, enseigne_3, nom_commercial])))"
   ]
  },
  {
   "cell_type": "markdown",
   "metadata": {},
   "source": [
    "# SQLITE\n"
   ]
  },
  {
   "cell_type": "markdown",
   "metadata": {},
   "source": [
    "## Set-up"
   ]
  },
  {
   "cell_type": "markdown",
   "metadata": {},
   "source": [
    "## Do this in workflow Airflow......."
   ]
  },
  {
   "cell_type": "code",
   "execution_count": null,
   "metadata": {},
   "outputs": [],
   "source": [
    "if os.path.exists(DATA_DIR+'sirene.db'):\n",
    "    os.remove(DATA_DIR+'sirene.db')"
   ]
  },
  {
   "cell_type": "code",
   "execution_count": null,
   "metadata": {},
   "outputs": [],
   "source": [
    "connection = sqlite3.connect(DATA_DIR+'sirene.db')\n",
    "cursor = connection.cursor()"
   ]
  },
  {
   "cell_type": "markdown",
   "metadata": {},
   "source": [
    "## Unité Légale"
   ]
  },
  {
   "cell_type": "code",
   "execution_count": null,
   "metadata": {},
   "outputs": [],
   "source": [
    "cursor.execute(f'''DROP TABLE IF EXISTS unite_legale''')\n",
    "cursor.execute('''\n",
    "    CREATE TABLE IF NOT EXISTS unite_legale\n",
    "    (\n",
    "        siren,\n",
    "        date_creation_unite_legale,\n",
    "        sigle,\n",
    "        prenom,\n",
    "        identifiant_association_unite_legale,\n",
    "        tranche_effectif_salarie_unite_legale,\n",
    "        date_mise_a_jour_unite_legale,\n",
    "        categorie_entreprise,\n",
    "        etat_administratif_unite_legale,\n",
    "        nom,\n",
    "        nom_usage,\n",
    "        nom_raison_sociale,\n",
    "        nature_juridique_unite_legale,\n",
    "        activite_principale_unite_legale,\n",
    "        economie_sociale_solidaire_unite_legale\n",
    "    )\n",
    "''')"
   ]
  },
  {
   "cell_type": "code",
   "execution_count": null,
   "metadata": {},
   "outputs": [],
   "source": [
    "cursor.execute('''\n",
    "                CREATE UNIQUE INDEX index_siren\n",
    "                ON unite_legale (siren);\n",
    "                ''')"
   ]
  },
  {
   "cell_type": "code",
   "execution_count": null,
   "metadata": {},
   "outputs": [],
   "source": [
    "connection.commit()"
   ]
  },
  {
   "cell_type": "code",
   "execution_count": null,
   "metadata": {},
   "outputs": [],
   "source": [
    "start_time = time.time()\n",
    "url = 'https://files.data.gouv.fr/insee-sirene/StockUniteLegale_utf8.zip'\n",
    "r = requests.get(url, allow_redirects=True)\n",
    "open(DATA_DIR+'StockUniteLegale_utf8.zip', 'wb').write(r.content)\n",
    "shutil.unpack_archive(DATA_DIR+'StockUniteLegale_utf8.zip', DATA_DIR)\n",
    "stats()"
   ]
  },
  {
   "cell_type": "code",
   "execution_count": null,
   "metadata": {},
   "outputs": [],
   "source": [
    "df_iterator = pd.read_csv(\n",
    "    DATA_DIR+'StockUniteLegale_utf8.csv', \n",
    "    chunksize=100000,\n",
    "    dtype=str)"
   ]
  },
  {
   "cell_type": "code",
   "execution_count": null,
   "metadata": {},
   "outputs": [],
   "source": [
    "start_time = time.time()\n",
    "\n",
    "for i, df_unite_legale in enumerate(df_iterator):\n",
    "    df_unite_legale = df_unite_legale[[\n",
    "            \"siren\",\n",
    "            \"dateCreationUniteLegale\",\n",
    "            \"sigleUniteLegale\",\n",
    "            \"prenom1UniteLegale\",\n",
    "            \"identifiantAssociationUniteLegale\",\n",
    "            \"trancheEffectifsUniteLegale\",\n",
    "            \"dateDernierTraitementUniteLegale\",\n",
    "            \"categorieEntreprise\",\n",
    "            \"etatAdministratifUniteLegale\",\n",
    "            \"nomUniteLegale\",\n",
    "            \"nomUsageUniteLegale\",\n",
    "            \"denominationUniteLegale\",\n",
    "            \"categorieJuridiqueUniteLegale\",\n",
    "            \"activitePrincipaleUniteLegale\",\n",
    "            \"economieSocialeSolidaireUniteLegale\",\n",
    "        ]]\n",
    "    # Rename columns\n",
    "    df_unite_legale = df_unite_legale.rename(\n",
    "        columns={\n",
    "            \"dateCreationUniteLegale\": \"date_creation_unite_legale\",\n",
    "            \"sigleUniteLegale\": \"sigle\",\n",
    "            \"prenom1UniteLegale\": \"prenom\",\n",
    "            \"trancheEffectifsUniteLegale\": \"tranche_effectif_salarie_unite_legale\",\n",
    "            \"dateDernierTraitementUniteLegale\": \"date_mise_a_jour_unite_legale\",\n",
    "            \"categorieEntreprise\": \"categorie_entreprise\",\n",
    "            \"etatAdministratifUniteLegale\":\"etat_administratif_unite_legale\",\n",
    "            \"nomUniteLegale\": \"nom\",\n",
    "            \"nomUsageUniteLegale\": \"nom_usage\",\n",
    "            \"denominationUniteLegale\": \"nom_raison_sociale\",\n",
    "            \"categorieJuridiqueUniteLegale\": \"nature_juridique_unite_legale\",\n",
    "            \"activitePrincipaleUniteLegale\": \"activite_principale_unite_legale\",\n",
    "            \"economieSocialeSolidaireUniteLegale\":\"economie_sociale_solidaire_unite_legale\",\n",
    "            \"identifiantAssociationUniteLegale\":\"identifiant_association_unite_legale\",\n",
    "        }\n",
    "    )    \n",
    "    df_unite_legale.to_sql(\"unite_legale\", connection, if_exists='append', index=False)\n",
    "\n",
    "stats()\n",
    "del df_unite_legale"
   ]
  },
  {
   "cell_type": "code",
   "execution_count": null,
   "metadata": {},
   "outputs": [],
   "source": [
    "connection.commit()"
   ]
  },
  {
   "cell_type": "code",
   "execution_count": null,
   "metadata": {
    "tags": []
   },
   "outputs": [],
   "source": [
    "for row in cursor.execute(\"select count() from unite_legale\"):\n",
    "    print(row)"
   ]
  },
  {
   "cell_type": "code",
   "execution_count": null,
   "metadata": {
    "tags": []
   },
   "outputs": [],
   "source": [
    "for item in cursor.execute('PRAGMA table_info(unite_legale)'):\n",
    "    print (item)"
   ]
  },
  {
   "cell_type": "code",
   "execution_count": null,
   "metadata": {},
   "outputs": [],
   "source": [
    "for row in cursor.execute(\"SELECT * FROM unite_legale WHERE siren='965706690' LIMIT 10;\"):\n",
    "    print(row)"
   ]
  },
  {
   "cell_type": "code",
   "execution_count": null,
   "metadata": {},
   "outputs": [],
   "source": [
    "cursor.execute('SELECT * FROM unite_legale LIMIT 1')\n",
    "names = [description[0] for description in cursor.description]\n",
    "rows = cursor.fetchall()\n",
    "for row in rows:\n",
    "    for name,val in zip(names,row):\n",
    "        print(f\"{name}: {val}\")"
   ]
  },
  {
   "cell_type": "markdown",
   "metadata": {},
   "source": [
    "## Établissements"
   ]
  },
  {
   "cell_type": "code",
   "execution_count": null,
   "metadata": {},
   "outputs": [],
   "source": [
    "# Create list of departement zip codes\n",
    "all_deps = [\n",
    "    *\"-0\".join(list(str(x) for x in range(0, 10))).split(\"-\")[1:],\n",
    "    *list(str(x) for x in range(10, 20)),\n",
    "    *[\"2A\", \"2B\"],\n",
    "    *list(str(x) for x in range(21, 96)),\n",
    "    *\"-7510\".join(list(str(x) for x in range(0, 10))).split(\"-\")[1:],\n",
    "    *\"-751\".join(list(str(x) for x in range(10, 21))).split(\"-\")[1:],\n",
    "    *[\"971\", \"972\", \"973\", \"974\", \"976\"],\n",
    "    *[\"\"],\n",
    "]\n",
    "# Remove Paris zip code\n",
    "all_deps.remove(\"75\")"
   ]
  },
  {
   "cell_type": "code",
   "execution_count": null,
   "metadata": {},
   "outputs": [],
   "source": [
    "cursor.execute(f'''DROP TABLE IF EXISTS siret''')\n",
    "cursor.execute(f'''CREATE TABLE IF NOT EXISTS siret\n",
    "        (\n",
    "        id INTEGER NOT NULL PRIMARY KEY,\n",
    "        siren,\n",
    "        siret,\n",
    "        date_creation,\n",
    "        tranche_effectif_salarie,\n",
    "        activite_principale_registre_metier,\n",
    "        is_siege,\n",
    "        numero_voie,\n",
    "        type_voie,\n",
    "        libelle_voie,\n",
    "        code_postal,\n",
    "        libelle_cedex,\n",
    "        libelle_commune,\n",
    "        commune,\n",
    "        complement_adresse,\n",
    "        complement_adresse_2,\n",
    "        numero_voie_2,\n",
    "        indice_repetition_2,\n",
    "        type_voie_2,\n",
    "        libelle_voie_2,\n",
    "        commune_2,\n",
    "        libelle_commune_2,\n",
    "        cedex_2,\n",
    "        libelle_cedex_2,\n",
    "        cedex,\n",
    "        date_debut_activite,\n",
    "        distribution_speciale,\n",
    "        distribution_speciale_2,\n",
    "        etat_administratif_etablissement,\n",
    "        enseigne_1,\n",
    "        enseigne_2,\n",
    "        enseigne_3,\n",
    "        activite_principale,\n",
    "        indice_repetition,\n",
    "        nom_commercial,\n",
    "        libelle_commune_etranger,\n",
    "        code_pays_etranger,\n",
    "        libelle_pays_etranger,\n",
    "        libelle_commune_etranger_2,\n",
    "        code_pays_etranger_2,\n",
    "        libelle_pays_etranger_2,\n",
    "        longitude,\n",
    "        latitude,\n",
    "        geo_adresse,\n",
    "        geo_id)\n",
    "        ''')"
   ]
  },
  {
   "cell_type": "code",
   "execution_count": null,
   "metadata": {
    "tags": []
   },
   "outputs": [],
   "source": [
    "%%time\n",
    "# Upload geo data by departement\n",
    "for dep in all_deps:\n",
    "    start_time = time.time()\n",
    "    url = \"https://files.data.gouv.fr/geo-sirene/last/dep/geo_siret_\" + dep + \".csv.gz\"\n",
    "    print(url)\n",
    "    df_dep = pd.read_csv(\n",
    "        url,\n",
    "        compression=\"gzip\",\n",
    "        dtype=str,\n",
    "        usecols=[\n",
    "            \"siren\",\n",
    "            \"siret\",\n",
    "            \"dateCreationEtablissement\",\n",
    "            \"trancheEffectifsEtablissement\",\n",
    "            \"activitePrincipaleRegistreMetiersEtablissement\",\n",
    "            \"etablissementSiege\",\n",
    "            \"numeroVoieEtablissement\",\n",
    "            \"libelleVoieEtablissement\",\n",
    "            \"codePostalEtablissement\",\n",
    "            \"libelleCommuneEtablissement\",\n",
    "            \"libelleCedexEtablissement\",\n",
    "            \"typeVoieEtablissement\",\n",
    "            \"codeCommuneEtablissement\",\n",
    "            \"codeCedexEtablissement\",\n",
    "            \"complementAdresseEtablissement\",\n",
    "            \"distributionSpecialeEtablissement\",\n",
    "            \"complementAdresse2Etablissement\",\n",
    "            \"indiceRepetition2Etablissement\",\n",
    "            \"libelleCedex2Etablissement\",\n",
    "            \"codeCedex2Etablissement\",\n",
    "            \"numeroVoie2Etablissement\",\n",
    "            \"typeVoie2Etablissement\",\n",
    "            \"libelleVoie2Etablissement\",\n",
    "            \"codeCommune2Etablissement\",\n",
    "            \"libelleCommune2Etablissement\",\n",
    "            \"distributionSpeciale2Etablissement\",\n",
    "            \"dateDebut\",\n",
    "            \"etatAdministratifEtablissement\",\n",
    "            \"enseigne1Etablissement\",\n",
    "            \"enseigne1Etablissement\",\n",
    "            \"enseigne2Etablissement\",\n",
    "            \"enseigne3Etablissement\",\n",
    "            \"denominationUsuelleEtablissement\",\n",
    "            \"activitePrincipaleEtablissement\",\n",
    "            \"geo_adresse\",\n",
    "            \"geo_id\",\n",
    "            \"longitude\",\n",
    "            \"latitude\",\n",
    "            \"indiceRepetitionEtablissement\",\n",
    "            \"libelleCommuneEtrangerEtablissement\",\n",
    "            \"codePaysEtrangerEtablissement\",\n",
    "            \"libellePaysEtrangerEtablissement\",\n",
    "            \"libelleCommuneEtranger2Etablissement\",\n",
    "            \"codePaysEtranger2Etablissement\",\n",
    "            \"libellePaysEtranger2Etablissement\",\n",
    "        ],\n",
    "    )\n",
    "    df_dep = df_dep.rename(\n",
    "        columns={\n",
    "            \"dateCreationEtablissement\": \"date_creation\",\n",
    "            \"trancheEffectifsEtablissement\": \"tranche_effectif_salarie\",\n",
    "            \"activitePrincipaleRegistreMetiersEtablissement\": \"activite_principale_registre_metier\",\n",
    "            \"etablissementSiege\": \"is_siege\",\n",
    "            \"numeroVoieEtablissement\": \"numero_voie\",\n",
    "            \"typeVoieEtablissement\": \"type_voie\",\n",
    "            \"libelleVoieEtablissement\": \"libelle_voie\",\n",
    "            \"codePostalEtablissement\": \"code_postal\",\n",
    "            \"libelleCedexEtablissement\": \"libelle_cedex\",\n",
    "            \"libelleCommuneEtablissement\": \"libelle_commune\",\n",
    "            \"codeCommuneEtablissement\": \"commune\",\n",
    "            \"complementAdresseEtablissement\": \"complement_adresse\",\n",
    "            \"complementAdresse2Etablissement\": \"complement_adresse_2\",\n",
    "            \"numeroVoie2Etablissement\": \"numero_voie_2\",\n",
    "            \"indiceRepetition2Etablissement\": \"indice_repetition_2\",\n",
    "            \"typeVoie2Etablissement\": \"type_voie_2\",\n",
    "            \"libelleVoie2Etablissement\": \"libelle_voie_2\",\n",
    "            \"codeCommune2Etablissement\": \"commune_2\",\n",
    "            \"libelleCommune2Etablissement\": \"libelle_commune_2\",\n",
    "            \"codeCedex2Etablissement\": \"cedex_2\",\n",
    "            \"libelleCedex2Etablissement\": \"libelle_cedex_2\",\n",
    "            \"codeCedexEtablissement\": \"cedex\",\n",
    "            \"dateDebut\": \"date_debut_activite\",\n",
    "            \"distributionSpecialeEtablissement\": \"distribution_speciale\",\n",
    "            \"distributionSpeciale2Etablissement\": \"distribution_speciale_2\",\n",
    "            \"etatAdministratifEtablissement\": \"etat_administratif_etablissement\",\n",
    "            \"enseigne1Etablissement\": \"enseigne_1\",\n",
    "            \"enseigne2Etablissement\": \"enseigne_2\",\n",
    "            \"enseigne3Etablissement\": \"enseigne_3\",\n",
    "            \"activitePrincipaleEtablissement\": \"activite_principale\",\n",
    "            \"indiceRepetitionEtablissement\": \"indice_repetition\",\n",
    "            \"denominationUsuelleEtablissement\": \"nom_commercial\",\n",
    "            \"libelleCommuneEtrangerEtablissement\": \"libelle_commune_etranger\",\n",
    "            \"codePaysEtrangerEtablissement\": \"code_pays_etranger\",\n",
    "            \"libellePaysEtrangerEtablissement\": \"libelle_pays_etranger\",\n",
    "            \"libelleCommuneEtranger2Etablissement\": \"libelle_commune_etranger_2\",\n",
    "            \"codePaysEtranger2Etablissement\": \"code_pays_etranger_2\",\n",
    "            \"libellePaysEtranger2Etablissement\": \"libelle_pays_etranger_2\",\n",
    "        }\n",
    "    )\n",
    "    stats()\n",
    "    start_time = time.time()\n",
    "    df_dep.to_sql(\"siret\", connection, if_exists='append', index=False)\n",
    "    connection.commit()\n",
    "    stats()\n",
    "del df_dep"
   ]
  },
  {
   "cell_type": "code",
   "execution_count": null,
   "metadata": {},
   "outputs": [],
   "source": [
    "for row in cursor.execute(\"select count() from siret\"):\n",
    "    print(row)"
   ]
  },
  {
   "cell_type": "code",
   "execution_count": null,
   "metadata": {},
   "outputs": [],
   "source": [
    "for row in cursor.execute('SELECT * FROM siret LIMIT 2;'):\n",
    "    print(row)"
   ]
  },
  {
   "cell_type": "code",
   "execution_count": null,
   "metadata": {
    "tags": []
   },
   "outputs": [],
   "source": [
    "cursor.execute('SELECT * FROM siret LIMIT 1')\n",
    "names = [description[0] for description in cursor.description]\n",
    "rows = cursor.fetchall()\n",
    "for row in rows:\n",
    "    for name,val in zip(names,row):\n",
    "        print(f\"{name}: {val}\")"
   ]
  },
  {
   "cell_type": "code",
   "execution_count": null,
   "metadata": {},
   "outputs": [],
   "source": [
    "connection.commit()"
   ]
  },
  {
   "cell_type": "markdown",
   "metadata": {},
   "source": [
    "### Nombre d'établissements"
   ]
  },
  {
   "cell_type": "code",
   "execution_count": null,
   "metadata": {},
   "outputs": [],
   "source": [
    "# create a count table\n",
    "cursor.execute(f'''DROP TABLE IF EXISTS count_etab''')\n",
    "cursor.execute('''CREATE TABLE count_etab (siren VARCHAR(10), count INTEGER)''')\n",
    "# create index\n",
    "cursor.execute('''\n",
    "                CREATE UNIQUE INDEX index_count_siren\n",
    "                ON count_etab (siren);\n",
    "                ''')\n",
    "connection.commit()"
   ]
  },
  {
   "cell_type": "code",
   "execution_count": null,
   "metadata": {},
   "outputs": [],
   "source": [
    "start_time = time.time()\n",
    "# Add etab count\n",
    "cursor.execute('''INSERT INTO count_etab (siren, count) SELECT siren, count(*) as count FROM siret GROUP BY siren;''')\n",
    "stats()"
   ]
  },
  {
   "cell_type": "code",
   "execution_count": null,
   "metadata": {},
   "outputs": [],
   "source": [
    "for row in cursor.execute(\"select count() from count_etab\"):\n",
    "    print(row)"
   ]
  },
  {
   "cell_type": "code",
   "execution_count": null,
   "metadata": {},
   "outputs": [],
   "source": [
    "for row in cursor.execute('SELECT * FROM count_etab LIMIT 5;'):\n",
    "    print(row)"
   ]
  },
  {
   "cell_type": "markdown",
   "metadata": {},
   "source": [
    "### Nombre d'établissements ouverts"
   ]
  },
  {
   "cell_type": "code",
   "execution_count": null,
   "metadata": {},
   "outputs": [],
   "source": [
    "cursor.execute(f'''DROP TABLE IF EXISTS count_etab_ouvert''')\n",
    "cursor.execute('''CREATE TABLE count_etab_ouvert (siren VARCHAR(10), count INTEGER)''')\n",
    "cursor.execute('''\n",
    "                CREATE UNIQUE INDEX index_count_ouvert_siren\n",
    "                ON count_etab_ouvert (siren);\n",
    "                ''')\n",
    "connection.commit()"
   ]
  },
  {
   "cell_type": "code",
   "execution_count": null,
   "metadata": {},
   "outputs": [],
   "source": [
    "start_time = time.time()\n",
    "# Add etab count\n",
    "cursor.execute('''INSERT INTO count_etab_ouvert (siren, count) SELECT siren, count(*) as count FROM siret WHERE etat_administratif_etablissement = 'A' GROUP BY siren;''')\n",
    "stats()"
   ]
  },
  {
   "cell_type": "code",
   "execution_count": null,
   "metadata": {},
   "outputs": [],
   "source": [
    "for row in cursor.execute(\"select count() from count_etab_ouvert\"):\n",
    "    print(row)"
   ]
  },
  {
   "cell_type": "code",
   "execution_count": null,
   "metadata": {},
   "outputs": [],
   "source": [
    "for row in cursor.execute('SELECT * FROM count_etab_ouvert LIMIT 5;'):\n",
    "    print(row)"
   ]
  },
  {
   "cell_type": "markdown",
   "metadata": {},
   "source": [
    "### Liste d'enseignes"
   ]
  },
  {
   "cell_type": "code",
   "execution_count": null,
   "metadata": {},
   "outputs": [],
   "source": [
    "# Add liste d'enseignes for each établissement\n",
    "add_enseigne = f'''ALTER TABLE siret ADD COLUMN enseignes GENERATED ALWAYS AS\n",
    "               (COALESCE(enseigne_1, '') || COALESCE(enseigne_2, ' ') || COALESCE(enseigne_3, ' ') || COALESCE(nom_commercial, ''))\n",
    "               '''\n",
    "cursor.execute(add_enseigne)"
   ]
  },
  {
   "cell_type": "code",
   "execution_count": null,
   "metadata": {},
   "outputs": [],
   "source": [
    "# Create enseignes table with grouped lists of enseignes per siren\n",
    "cursor.execute(f'''DROP TABLE IF EXISTS enseignes''')\n",
    "cursor.execute('''CREATE TABLE enseignes (siren VARCHAR(10), liste_enseignes)''')\n",
    "cursor.execute('''\n",
    "                CREATE UNIQUE INDEX index_liste_enseignes\n",
    "                ON enseignes (siren);\n",
    "                ''')\n",
    "connection.commit()"
   ]
  },
  {
   "cell_type": "code",
   "execution_count": null,
   "metadata": {},
   "outputs": [],
   "source": [
    "start_time = time.time()\n",
    "# Add liste enseignes\n",
    "cursor.execute('''INSERT INTO enseignes (siren, liste_enseignes) SELECT siren, GROUP_CONCAT(enseignes, ',') as liste_enseignes FROM siret GROUP BY siren;''')\n",
    "stats()"
   ]
  },
  {
   "cell_type": "code",
   "execution_count": null,
   "metadata": {
    "tags": []
   },
   "outputs": [],
   "source": [
    "for row in cursor.execute('SELECT liste_enseignes FROM enseignes WHERE siren=\"345130488\" LIMIT 2;'):\n",
    "    print(row)"
   ]
  },
  {
   "cell_type": "code",
   "execution_count": null,
   "metadata": {
    "tags": []
   },
   "outputs": [],
   "source": [
    "for row in cursor.execute('SELECT enseignes FROM siret WHERE siren=\"345130488\" LIMIT 5;'):\n",
    "    print(row)"
   ]
  },
  {
   "cell_type": "markdown",
   "metadata": {},
   "source": [
    "### Liste adresses"
   ]
  },
  {
   "cell_type": "code",
   "execution_count": null,
   "metadata": {
    "tags": []
   },
   "outputs": [],
   "source": [
    "# Create SQLite function\n",
    "connection.create_function(\"add_adresse_complete\", 12, create_adresse_complete)\n",
    "# Add adresse_complete column for each établissement\n",
    "cursor.execute('ALTER TABLE siret ADD COLUMN adresse_complete;')"
   ]
  },
  {
   "cell_type": "code",
   "execution_count": null,
   "metadata": {},
   "outputs": [],
   "source": [
    "# Insert addresses into column\n",
    "start_time = time.time()\n",
    "cursor.execute(f'''UPDATE siret\n",
    "                    SET adresse_complete = (\n",
    "                                            SELECT add_adresse_complete(COALESCE(complement_adresse,''),COALESCE(numero_voie,''),\n",
    "                                                                    COALESCE(indice_repetition,''), COALESCE(type_voie,''),\n",
    "                                                                    COALESCE(libelle_voie,''), COALESCE(libelle_commune,''),\n",
    "                                                                    COALESCE(libelle_cedex,''), COALESCE(distribution_speciale,''),\n",
    "                                                                    COALESCE(commune,''), COALESCE(cedex,''), COALESCE(libelle_commune_etranger,''),\n",
    "                                                                    COALESCE(libelle_pays_etranger,'')))''')\n",
    "stats()"
   ]
  },
  {
   "cell_type": "code",
   "execution_count": null,
   "metadata": {},
   "outputs": [],
   "source": [
    "for row in cursor.execute('SELECT adresse_complete FROM siret WHERE siren=\"005520135\" LIMIT 10;'):\n",
    "    print(row)"
   ]
  },
  {
   "cell_type": "code",
   "execution_count": null,
   "metadata": {},
   "outputs": [],
   "source": [
    "# Create adresses table with grouped addresses for each siren\n",
    "cursor.execute(f'''DROP TABLE IF EXISTS adresses''')\n",
    "cursor.execute('''CREATE TABLE adresses (siren VARCHAR(10), liste_adresses)''')\n",
    "cursor.execute('''\n",
    "                CREATE UNIQUE INDEX index_liste_adresses\n",
    "                ON adresses(siren);\n",
    "                ''')\n",
    "connection.commit()"
   ]
  },
  {
   "cell_type": "code",
   "execution_count": null,
   "metadata": {},
   "outputs": [],
   "source": [
    "start_time = time.time()\n",
    "# Insert addresses into adresses table\n",
    "cursor.execute('''INSERT INTO adresses (siren, liste_adresses) SELECT siren, GROUP_CONCAT(adresse_complete, ',') as liste_adresses FROM siret GROUP BY siren;''')\n",
    "stats()"
   ]
  },
  {
   "cell_type": "code",
   "execution_count": null,
   "metadata": {},
   "outputs": [],
   "source": [
    "for row in cursor.execute('SELECT * FROM adresses WHERE siren=\"005520135\" LIMIT 10;'):\n",
    "    print(row)"
   ]
  },
  {
   "cell_type": "code",
   "execution_count": null,
   "metadata": {
    "tags": []
   },
   "outputs": [],
   "source": [
    "cursor.execute('SELECT * FROM adresses LIMIT 1')\n",
    "names = [description[0] for description in cursor.description]\n",
    "rows = cursor.fetchall()\n",
    "for row in rows:\n",
    "    for name,val in zip(names,row):\n",
    "        print(f\"{name}: {val}\")"
   ]
  },
  {
   "cell_type": "markdown",
   "metadata": {},
   "source": [
    "## Siège only"
   ]
  },
  {
   "cell_type": "code",
   "execution_count": null,
   "metadata": {},
   "outputs": [],
   "source": [
    "cursor.execute(f'''DROP TABLE IF EXISTS siretsiege''')\n",
    "cursor.execute(f'''CREATE TABLE IF NOT EXISTS siretsiege\n",
    "        (\n",
    "        id INTEGER NOT NULL PRIMARY KEY,\n",
    "        siren,\n",
    "        siret,\n",
    "        date_creation,\n",
    "        tranche_effectif_salarie,\n",
    "        activite_principale_registre_metier,\n",
    "        is_siege,\n",
    "        numero_voie,\n",
    "        type_voie,\n",
    "        libelle_voie,\n",
    "        code_postal,\n",
    "        libelle_cedex,\n",
    "        libelle_commune,\n",
    "        commune,\n",
    "        complement_adresse,\n",
    "        complement_adresse_2,\n",
    "        numero_voie_2,\n",
    "        indice_repetition_2,\n",
    "        type_voie_2,\n",
    "        libelle_voie_2,\n",
    "        commune_2,\n",
    "        libelle_commune_2,\n",
    "        cedex_2,\n",
    "        libelle_cedex_2,\n",
    "        cedex,\n",
    "        date_debut_activite,\n",
    "        distribution_speciale,\n",
    "        distribution_speciale_2,\n",
    "        etat_administratif_etablissement,\n",
    "        enseigne_1,\n",
    "        enseigne_2,\n",
    "        enseigne_3,\n",
    "        activite_principale,\n",
    "        indice_repetition,\n",
    "        nom_commercial,\n",
    "        libelle_commune_etranger,\n",
    "        code_pays_etranger,\n",
    "        libelle_pays_etranger,\n",
    "        libelle_commune_etranger_2,\n",
    "        code_pays_etranger_2,\n",
    "        libelle_pays_etranger_2,\n",
    "        longitude,\n",
    "        latitude,\n",
    "        geo_adresse,\n",
    "        geo_id,\n",
    "        adresse_complete)\n",
    "''')\n",
    "cursor.execute('''INSERT INTO siretsiege (\n",
    "        siren,\n",
    "        siret,\n",
    "        date_creation,\n",
    "        tranche_effectif_salarie,\n",
    "        activite_principale_registre_metier,\n",
    "        is_siege,\n",
    "        numero_voie,\n",
    "        type_voie,\n",
    "        libelle_voie,\n",
    "        code_postal,\n",
    "        libelle_cedex,\n",
    "        libelle_commune,\n",
    "        commune,\n",
    "        complement_adresse,\n",
    "        complement_adresse_2,\n",
    "        numero_voie_2,\n",
    "        indice_repetition_2,\n",
    "        type_voie_2,\n",
    "        libelle_voie_2,\n",
    "        commune_2,\n",
    "        libelle_commune_2,\n",
    "        cedex_2,\n",
    "        libelle_cedex_2,\n",
    "        cedex,\n",
    "        date_debut_activite,\n",
    "        distribution_speciale,\n",
    "        distribution_speciale_2,\n",
    "        etat_administratif_etablissement,\n",
    "        enseigne_1,\n",
    "        enseigne_2,\n",
    "        enseigne_3,\n",
    "        activite_principale,\n",
    "        indice_repetition,\n",
    "        nom_commercial,\n",
    "        libelle_commune_etranger,\n",
    "        code_pays_etranger,\n",
    "        libelle_pays_etranger,\n",
    "        libelle_commune_etranger_2,\n",
    "        code_pays_etranger_2,\n",
    "        libelle_pays_etranger_2,\n",
    "        longitude,\n",
    "        latitude,\n",
    "        geo_adresse,\n",
    "        geo_id,\n",
    "        adresse_complete) \n",
    "    SELECT\n",
    "        siren,\n",
    "        siret,\n",
    "        date_creation,\n",
    "        tranche_effectif_salarie,\n",
    "        activite_principale_registre_metier,\n",
    "        is_siege,\n",
    "        numero_voie,\n",
    "        type_voie,\n",
    "        libelle_voie,\n",
    "        code_postal,\n",
    "        libelle_cedex,\n",
    "        libelle_commune,\n",
    "        commune,\n",
    "        complement_adresse,\n",
    "        complement_adresse_2,\n",
    "        numero_voie_2,\n",
    "        indice_repetition_2,\n",
    "        type_voie_2,\n",
    "        libelle_voie_2,\n",
    "        commune_2,\n",
    "        libelle_commune_2,\n",
    "        cedex_2,\n",
    "        libelle_cedex_2,\n",
    "        cedex,\n",
    "        date_debut_activite,\n",
    "        distribution_speciale,\n",
    "        distribution_speciale_2,\n",
    "        etat_administratif_etablissement,\n",
    "        enseigne_1,\n",
    "        enseigne_2,\n",
    "        enseigne_3,\n",
    "        activite_principale,\n",
    "        indice_repetition,\n",
    "        nom_commercial,\n",
    "        libelle_commune_etranger,\n",
    "        code_pays_etranger,\n",
    "        libelle_pays_etranger,\n",
    "        libelle_commune_etranger_2,\n",
    "        code_pays_etranger_2,\n",
    "        libelle_pays_etranger_2,\n",
    "        longitude,\n",
    "        latitude,\n",
    "        geo_adresse,\n",
    "        geo_id,\n",
    "        adresse_complete\n",
    "    FROM siret\n",
    "    WHERE is_siege = 'true';\n",
    "''')"
   ]
  },
  {
   "cell_type": "code",
   "execution_count": null,
   "metadata": {
    "tags": []
   },
   "outputs": [],
   "source": [
    "cursor.execute('SELECT * FROM siretsiege WHERE siren=\"965706690\" LIMIT 1')\n",
    "names = [description[0] for description in cursor.description]\n",
    "rows = cursor.fetchall()\n",
    "for row in rows:\n",
    "    for name,val in zip(names,row):\n",
    "        print(f\"{name}: {val}\")"
   ]
  },
  {
   "cell_type": "code",
   "execution_count": null,
   "metadata": {
    "tags": []
   },
   "outputs": [],
   "source": [
    "cursor.execute('''\n",
    "                CREATE INDEX index_siret_siren\n",
    "                ON siretsiege (siren);\n",
    "                ''')"
   ]
  },
  {
   "cell_type": "markdown",
   "metadata": {},
   "source": [
    "## Insert INPI data"
   ]
  },
  {
   "cell_type": "code",
   "execution_count": null,
   "metadata": {},
   "outputs": [],
   "source": [
    "connection_inpi = sqlite3.connect(DATA_DIR +'inpi.db')"
   ]
  },
  {
   "cell_type": "code",
   "execution_count": null,
   "metadata": {},
   "outputs": [],
   "source": [
    "cursor_inpi = connection_inpi.cursor()"
   ]
  },
  {
   "cell_type": "markdown",
   "metadata": {
    "tags": []
   },
   "source": [
    "### Check tables"
   ]
  },
  {
   "cell_type": "code",
   "execution_count": null,
   "metadata": {
    "tags": []
   },
   "outputs": [],
   "source": [
    "cursor.execute(\"select * from SQLite_master\")\n",
    "\n",
    "tables = cursor.fetchall()\n",
    "print(\"Listing tables and indices from main database:\")\n",
    "\n",
    "for table in tables:\n",
    "\n",
    "    print(\"Type of database object: %s\"%(table[0]))\n",
    "\n",
    "    print(\"Name of the database object: %s\"%(table[1]))\n",
    "\n",
    "    print(\"Table Name: %s\"%(table[2]))\n",
    "\n",
    "    print(\"Root page: %s\"%(table[3]))\n",
    "\n",
    "    print(\"SQL statement: %s\"%(table[4]))"
   ]
  },
  {
   "cell_type": "markdown",
   "metadata": {
    "tags": []
   },
   "source": [
    "# Elasticsearch"
   ]
  },
  {
   "cell_type": "code",
   "execution_count": 6,
   "metadata": {},
   "outputs": [],
   "source": [
    "elastic_url = 'http://search.sirene.dataeng.etalab.studio:80/'\n",
    "elastic_index = 'siren-green'\n",
    "elastic_user = 'elastic'\n",
    "elastic_password = 'etalab123'\n",
    "elastic_index_shards = 1\n",
    "elastic_bulk_size=1500"
   ]
  },
  {
   "cell_type": "markdown",
   "metadata": {},
   "source": [
    "## Connection"
   ]
  },
  {
   "cell_type": "code",
   "execution_count": 7,
   "metadata": {},
   "outputs": [
    {
     "data": {
      "text/plain": [
       "<Elasticsearch([{'host': 'search.sirene.dataeng.etalab.studio', 'port': 80}])>"
      ]
     },
     "execution_count": 7,
     "metadata": {},
     "output_type": "execute_result"
    }
   ],
   "source": [
    "# initiate the default connection to elasticsearch\n",
    "connections.create_connection(\n",
    "    hosts=[elastic_url],\n",
    "    http_auth=(elastic_user, elastic_password),\n",
    "    retry_on_timeout=True,\n",
    ")"
   ]
  },
  {
   "cell_type": "markdown",
   "metadata": {},
   "source": [
    "## Mapping"
   ]
  },
  {
   "cell_type": "code",
   "execution_count": 9,
   "metadata": {},
   "outputs": [],
   "source": [
    "from elasticsearch_dsl import (\n",
    "    Boolean,\n",
    "    Date,\n",
    "    Document,\n",
    "    GeoPoint,\n",
    "    Integer,\n",
    "    Keyword,\n",
    "    Text,\n",
    "    analyzer,\n",
    "    token_filter,\n",
    "    tokenizer,\n",
    "    Object,\n",
    ")\n",
    "\n",
    "\n",
    "\n",
    "\n",
    "class ElasticsearchSireneIndex(Document):\n",
    "    \n",
    "    class Index:\n",
    "        name = elastic_index\n",
    "        settings = {\"number_of_shards\": elastic_index_shards, \"number_of_replicas\": 0, 'mapping':{'ignore_malformed':True}}"
   ]
  },
  {
   "cell_type": "markdown",
   "metadata": {},
   "source": [
    "## Create Index"
   ]
  },
  {
   "cell_type": "code",
   "execution_count": null,
   "metadata": {},
   "outputs": [],
   "source": [
    "if Index(elastic_index).exists():\n",
    "    logging.info(f\"Index  {elastic_index} already exists! Deleting...\")\n",
    "    Index(elastic_index).delete()\n",
    "    logging.info(f\"Index {elastic_index} deleted!\")\n",
    "logging.info(f\"Creating {elastic_index} index!\")\n",
    "Siren.init()"
   ]
  },
  {
   "cell_type": "code",
   "execution_count": 11,
   "metadata": {
    "tags": []
   },
   "outputs": [],
   "source": [
    "elastic_connection = connections.get_connection()\n",
    "elastic_health = elastic_connection.cluster.health()\n",
    "elastic_status = elastic_health[\"status\"]"
   ]
  },
  {
   "cell_type": "markdown",
   "metadata": {},
   "source": [
    "## Health check"
   ]
  },
  {
   "cell_type": "code",
   "execution_count": 12,
   "metadata": {},
   "outputs": [
    {
     "name": "stderr",
     "output_type": "stream",
     "text": [
      "INFO:root:Cluster status is functional: green\n"
     ]
    }
   ],
   "source": [
    "if elastic_status not in (\"green\", \"yellow\"):\n",
    "    raise Exception(\n",
    "        f\"Cluster status is {self.elastic_status}, not green nor yellow!!\"\n",
    "    )\n",
    "else:\n",
    "    logging.info(f\"Cluster status is functional: {elastic_status}\")"
   ]
  },
  {
   "cell_type": "code",
   "execution_count": 13,
   "metadata": {},
   "outputs": [
    {
     "name": "stderr",
     "output_type": "stream",
     "text": [
      "INFO:elasticsearch:GET http://search.sirene.dataeng.etalab.studio:80/siren-green/_mapping [status:200 request:0.002s]\n"
     ]
    }
   ],
   "source": [
    "elastic_mapping = ElasticsearchSireneIndex._index.get_mapping()"
   ]
  },
  {
   "cell_type": "code",
   "execution_count": 14,
   "metadata": {
    "collapsed": true,
    "jupyter": {
     "outputs_hidden": true
    },
    "tags": []
   },
   "outputs": [
    {
     "data": {
      "text/plain": [
       "{'siren-green': {'mappings': {'properties': {'activite_principale_registre_metier': {'type': 'keyword'},\n",
       "    'activite_principale_siege': {'type': 'keyword'},\n",
       "    'activite_principale_unite_legale': {'type': 'keyword'},\n",
       "    'adresse_etablissement': {'type': 'text'},\n",
       "    'adresse_etablissement_2': {'type': 'text'},\n",
       "    'categorie_entreprise': {'type': 'text'},\n",
       "    'cedex': {'type': 'keyword'},\n",
       "    'code_pays_etranger': {'type': 'text'},\n",
       "    'code_postal': {'type': 'keyword'},\n",
       "    'commune': {'type': 'keyword'},\n",
       "    'complement_adresse': {'type': 'text'},\n",
       "    'concat_enseigne_adresse': {'type': 'text',\n",
       "     'analyzer': 'annuaire_analyzer'},\n",
       "    'concat_nom_adr_siren': {'type': 'text',\n",
       "     'fields': {'keyword': {'type': 'keyword'}},\n",
       "     'analyzer': 'annuaire_analyzer'},\n",
       "    'coordonnees': {'type': 'geo_point'},\n",
       "    'date_creation_siege': {'type': 'date'},\n",
       "    'date_creation_unite_legale': {'type': 'date'},\n",
       "    'date_debut_activite_siege': {'type': 'date'},\n",
       "    'date_mise_a_jour': {'type': 'date'},\n",
       "    'departement': {'type': 'keyword'},\n",
       "    'dirigeants_pm': {'type': 'nested',\n",
       "     'properties': {'denomination': {'type': 'text',\n",
       "       'fields': {'keyword': {'type': 'keyword'}}},\n",
       "      'qualite': {'type': 'text'},\n",
       "      'siren': {'type': 'text'}}},\n",
       "    'dirigeants_pp': {'type': 'nested',\n",
       "     'properties': {'date_naissance': {'type': 'date'},\n",
       "      'noms': {'type': 'text', 'fields': {'keyword': {'type': 'keyword'}}},\n",
       "      'pays_naissance': {'type': 'text'},\n",
       "      'prenoms': {'type': 'text', 'fields': {'keyword': {'type': 'keyword'}}},\n",
       "      'qualite': {'type': 'text'},\n",
       "      'siren': {'type': 'text'},\n",
       "      'ville_naissance': {'type': 'text'}}},\n",
       "    'distribution_speciale': {'type': 'text'},\n",
       "    'economie_sociale_solidaire_unite_legale': {'type': 'keyword'},\n",
       "    'enseigne': {'type': 'text'},\n",
       "    'etat_administratif_siege': {'type': 'keyword'},\n",
       "    'etat_administratif_unite_legale': {'type': 'keyword'},\n",
       "    'geo_adresse': {'type': 'text', 'analyzer': 'annuaire_analyzer'},\n",
       "    'geo_id': {'type': 'keyword'},\n",
       "    'identifiant_association_unite_legale': {'type': 'keyword'},\n",
       "    'indice_repetition': {'type': 'text'},\n",
       "    'is_entrepreneur_individuel': {'type': 'boolean'},\n",
       "    'is_siege': {'type': 'boolean'},\n",
       "    'latitude': {'type': 'text'},\n",
       "    'libelle_cedex': {'type': 'text'},\n",
       "    'libelle_commune': {'type': 'text'},\n",
       "    'libelle_commune_etranger': {'type': 'text'},\n",
       "    'libelle_pays_etranger': {'type': 'text'},\n",
       "    'libelle_voie': {'type': 'text'},\n",
       "    'liste_adresses': {'type': 'text', 'analyzer': 'annuaire_analyzer'},\n",
       "    'liste_dirigeants': {'type': 'text'},\n",
       "    'liste_enseignes': {'type': 'text', 'analyzer': 'annuaire_analyzer'},\n",
       "    'longitude': {'type': 'text'},\n",
       "    'nature_juridique_unite_legale': {'type': 'integer'},\n",
       "    'nom': {'type': 'text'},\n",
       "    'nom_complet': {'type': 'text',\n",
       "     'fields': {'keyword': {'type': 'keyword'}},\n",
       "     'analyzer': 'annuaire_analyzer'},\n",
       "    'nom_raison_sociale': {'type': 'text'},\n",
       "    'nom_usage': {'type': 'text',\n",
       "     'fields': {'keyword': {'type': 'keyword', 'ignore_above': 256}}},\n",
       "    'nombre_etablissements': {'type': 'integer'},\n",
       "    'nombre_etablissements_ouverts': {'type': 'integer'},\n",
       "    'numero_voie': {'type': 'text'},\n",
       "    'prenom': {'type': 'keyword'},\n",
       "    'section_activite_principale': {'type': 'keyword'},\n",
       "    'sigle': {'type': 'keyword'},\n",
       "    'siren': {'type': 'keyword'},\n",
       "    'siret_siege': {'type': 'keyword'},\n",
       "    'tranche_effectif_salarie_siege': {'type': 'keyword'},\n",
       "    'tranche_effectif_salarie_unite_legale': {'type': 'keyword'},\n",
       "    'type_voie': {'type': 'text'}}}}}"
      ]
     },
     "execution_count": 14,
     "metadata": {},
     "output_type": "execute_result"
    }
   ],
   "source": [
    "elastic_mapping"
   ]
  },
  {
   "cell_type": "code",
   "execution_count": null,
   "metadata": {},
   "outputs": [],
   "source": [
    "from elasticsearch_dsl import query\n",
    "\n",
    "def search_text(index, offset: int, page_size: int, **kwargs):\n",
    "    query_terms = kwargs[\"terms\"]\n",
    "    s = index.search()\n",
    "    # Use filters to reduce search results\n",
    "    s = filter_search(s, filters_to_ignore=[\"terms\", \"min_date_nais_dirigeant\",\n",
    "                                            \"max_date_nais_dirigeant\", \"nom_dir\"],\n",
    "                      **kwargs)\n",
    "    "
   ]
  },
  {
   "cell_type": "code",
   "execution_count": null,
   "metadata": {},
   "outputs": [],
   "source": [
    "def filter_search(search, filters_to_ignore: list, **kwargs):\n",
    "    \"\"\"Use filters to reduce search results.\"\"\"\n",
    "    for key, value in kwargs.items():\n",
    "        if key == \"nom_dir\":\n",
    "            search = search.query(\"nested\", path=\"dirigeants_pp\", query=Q(\"term\",\n",
    "                                                             **{'dirigeants_pp.noms':\n",
    "                                                                   value}))\n",
    "        if value is not None and key not in filters_to_ignore:\n",
    "            search = search.filter(\"term\", **{key: value})\n",
    "            \"\"\"\n",
    "        if key == \"min_date_nais_dirigeant\":\n",
    "            search = search.filter(\"range\", **{\"dirigeants_pp.date_naissance\": {\n",
    "                'gte': value, 'lt': kwargs[\"max_date_nais_dirigeant\"]}})\n",
    "        \n",
    "        query('nested', path='user_post_id',\n",
    "              query=Q('range', eser_post_id__score={'gt': 42}))\n",
    "        \"\"\"\n",
    "\n",
    "    return search"
   ]
  },
  {
   "cell_type": "code",
   "execution_count": null,
   "metadata": {},
   "outputs": [],
   "source": [
    "search = search.filter(\"nested\", path=\"dirigeants_pp\", query=query.Q(\"term\",\n",
    "                                                             **{'dirigeants_pp.noms':\n",
    "                                                                   \"jouppe\"}))"
   ]
  },
  {
   "cell_type": "code",
   "execution_count": null,
   "metadata": {},
   "outputs": [],
   "source": [
    "search = search.filter(\"nested\", path=\"dirigeants_pp\", query=query.Q(\"term\",\n",
    "                                                             **{'dirigeants_pp.prenoms':\n",
    "                                                                   \"xavier marie\"}))"
   ]
  },
  {
   "cell_type": "code",
   "execution_count": null,
   "metadata": {},
   "outputs": [],
   "source": [
    "search = ElasticsearchSireneIndex.search()"
   ]
  },
  {
   "cell_type": "code",
   "execution_count": null,
   "metadata": {},
   "outputs": [],
   "source": [
    "search = search.filter(\"nested\", path=\"dirigeants_pp\", query=query.Q(\"term\",**{'dirigeants_pp.noms.keyword': \"arnal \"}))\n",
    "search = search.filter(\"nested\", path=\"dirigeants_pp\", query=query.Q(\"term\",**{'dirigeants_pp.prenoms.keyword': \"nicole\"}))"
   ]
  },
  {
   "cell_type": "code",
   "execution_count": null,
   "metadata": {},
   "outputs": [],
   "source": [
    "search = search.filter(\"nested\", path=\"dirigeants_pp\", query=query.Q(\"match\",**{'dirigeants_pp.noms.keyword': \"arnal\"}))\n",
    "search = search.filter(\"nested\", path=\"dirigeants_pp\", query=query.Q(\"match\",**{'dirigeants_pp.prenoms.keyword': \"nicole\"}))"
   ]
  },
  {
   "cell_type": "code",
   "execution_count": null,
   "metadata": {},
   "outputs": [],
   "source": [
    "search = search.filter(\"nested\",\n",
    "                       path= \"dirigeants_pp\",\n",
    "                       query=query.Bool(filter= [{\n",
    "                \n",
    "                  \"regexp\": {\n",
    "                \"dirigeants_pp.noms\": \"arnal* cesar\"\n",
    "              }\n",
    "            },\n",
    "            {\n",
    "              \"match\": {\n",
    "                \"dirigeants_pp.prenoms.keyword\": \"nicole\"\n",
    "                }\n",
    "              }\n",
    "          ]))\n",
    "                      "
   ]
  },
  {
   "cell_type": "code",
   "execution_count": null,
   "metadata": {},
   "outputs": [],
   "source": [
    "search = search.filter(\"nested\",\n",
    "                       path= \"dirigeants_pp\",\n",
    "                       query=query.Bool(filter= [{\n",
    "                \n",
    "                  \"regexp\": {\n",
    "                \"dirigeants_pp.noms\": \"arnal*\"\n",
    "              }\n",
    "            },\n",
    "            {\n",
    "                \n",
    "                  \"regexp\": {\n",
    "                \"dirigeants_pp.noms\": \"cesar*\"\n",
    "              }\n",
    "            },\n",
    "            {\n",
    "              \"match\": {\n",
    "                \"dirigeants_pp.prenoms.keyword\": \"nicole\"\n",
    "                }\n",
    "              }\n",
    "          ]))\n",
    "                      "
   ]
  },
  {
   "cell_type": "code",
   "execution_count": null,
   "metadata": {},
   "outputs": [],
   "source": [
    "search = search.extra(track_scores=True)\n",
    "    search = search.sort(\n",
    "        {\"_score\": {\"order\": \"desc\"}},\n",
    "        {\"etat_administratif_siege\": {\"order\": \"asc\"}},\n",
    "    )\n",
    "    search = search[offset : (offset + page_size)]"
   ]
  },
  {
   "cell_type": "code",
   "execution_count": 38,
   "metadata": {},
   "outputs": [],
   "source": [
    "search = ElasticsearchSireneIndex.search()\n",
    "offset = 0\n",
    "page_size = 20\n",
    "search = search[offset : (offset + page_size)]\n",
    "min_date_nais_dirigeant = \"1941-09-07\"\n",
    "max_date_nais_dirigeant = \"2022-01-01\"\n",
    "\n",
    "noms = \"arnal\"\n",
    "prenoms = \"nicole\"\n",
    "filters = []\n",
    "for item in noms.split(' '):\n",
    "    filters.append({\n",
    "        \"match\": {\n",
    "            \"dirigeants_pp.noms\": item\n",
    "        }\n",
    "    })\n",
    "for item in prenoms.split(' '):\n",
    "    filters.append({\n",
    "        \"match\": {\n",
    "            \"dirigeants_pp.prenoms\": item\n",
    "        }\n",
    "    })\n",
    "    \n",
    "filters.append({\n",
    "    \"range\": {\n",
    "        **{\"dirigeants_pp.date_naissance\": {\n",
    "                'gte': min_date_nais_dirigeant,\n",
    "                'lte': max_date_nais_dirigeant\n",
    "            }}}})\n",
    "\n",
    "search = search.filter(\"nested\",\n",
    "                       path= \"dirigeants_pp\",\n",
    "                       query=query.Bool(filter= filters))\n",
    "\n",
    "\n",
    "\n",
    "                      "
   ]
  },
  {
   "cell_type": "code",
   "execution_count": 53,
   "metadata": {},
   "outputs": [],
   "source": [
    "search = ElasticsearchSireneIndex.search()\n",
    "offset = 0\n",
    "page_size = 20\n",
    "search = search[offset : (offset + page_size)]\n",
    "min_date_nais_dirigeant = \"1900-01-01\"\n",
    "max_date_nais_dirigeant = \"2022-01-01\"\n",
    "\n",
    "noms = \"jouppe\"\n",
    "prenoms = \"bernard\"\n",
    "filters = []\n",
    "for item in noms.split(' '):\n",
    "    filters.append({\n",
    "        \"match\": {\n",
    "            \"dirigeants_pp.noms\": item\n",
    "        }\n",
    "    })\n",
    "for item in prenoms.split(' '):\n",
    "    filters.append({\n",
    "        \"match\": {\n",
    "            \"dirigeants_pp.prenoms\": item\n",
    "        }\n",
    "    })\n",
    "    \n",
    "filters.append({\n",
    "    \"range\": {\n",
    "        **{\"dirigeants_pp.date_naissance\": {\n",
    "                'gte': min_date_nais_dirigeant,\n",
    "                'lte': max_date_nais_dirigeant\n",
    "            }}}})\n",
    "\n",
    "search = search.filter(\"nested\",\n",
    "                       path= \"dirigeants_pp\",\n",
    "                       query=query.Bool(filter= filters))\n",
    "\n",
    "\n",
    "\n",
    "                      "
   ]
  },
  {
   "cell_type": "code",
   "execution_count": 54,
   "metadata": {
    "tags": []
   },
   "outputs": [
    {
     "name": "stderr",
     "output_type": "stream",
     "text": [
      "INFO:elasticsearch:POST http://search.sirene.dataeng.etalab.studio:80/siren-green/_search [status:200 request:0.009s]\n"
     ]
    }
   ],
   "source": [
    "results = search.execute()"
   ]
  },
  {
   "cell_type": "code",
   "execution_count": 55,
   "metadata": {},
   "outputs": [],
   "source": [
    "total_results = results.hits.total.value\n",
    "response = [\n",
    "    hit.to_dict(skip_empty=False, include_meta=False) for hit in results.hits\n",
    "]"
   ]
  },
  {
   "cell_type": "code",
   "execution_count": 56,
   "metadata": {},
   "outputs": [
    {
     "data": {
      "text/plain": [
       "5"
      ]
     },
     "execution_count": 56,
     "metadata": {},
     "output_type": "execute_result"
    }
   ],
   "source": [
    "total_results"
   ]
  },
  {
   "cell_type": "code",
   "execution_count": 57,
   "metadata": {
    "tags": []
   },
   "outputs": [
    {
     "data": {
      "text/plain": [
       "[{'siren': '421485210',\n",
       "  'siret_siege': '42148521000015',\n",
       "  'date_creation_siege': '1999-01-12',\n",
       "  'tranche_effectif_salarie_siege': 'NN',\n",
       "  'date_debut_activite_siege': '2018-12-17',\n",
       "  'etat_administratif_siege': 'F',\n",
       "  'activite_principale_siege': '68.20B',\n",
       "  'numero_voie': '15',\n",
       "  'type_voie': 'RUE',\n",
       "  'libelle_voie': 'D ENTRAIGUES',\n",
       "  'commune': '37261',\n",
       "  'libelle_commune': 'TOURS',\n",
       "  'code_postal': '37000',\n",
       "  'geo_id': '37261_1680_00015',\n",
       "  'longitude': '0.688547',\n",
       "  'latitude': '47.388091',\n",
       "  'date_creation_unite_legale': '1999-01-12',\n",
       "  'tranche_effectif_salarie_unite_legale': 'NN',\n",
       "  'date_mise_a_jour': '2019-10-04T03:50:23',\n",
       "  'etat_administratif_unite_legale': 'C',\n",
       "  'nom_raison_sociale': 'MENENTRAIGUES',\n",
       "  'nature_juridique_unite_legale': '6540',\n",
       "  'activite_principale_unite_legale': '68.20B',\n",
       "  'nombre_etablissements': 1,\n",
       "  'nombre_etablissements_ouverts': 0,\n",
       "  'is_siege': 'true',\n",
       "  'dirigeants_pp': [{'siren': '421485210',\n",
       "    'noms': 'amoudry',\n",
       "    'prenoms': 'claude hugues',\n",
       "    'date_naissance': '1953-07-08',\n",
       "    'ville_naissance': '74256 SALLANCHES (74)',\n",
       "    'pays_naissance': 'FRANCE',\n",
       "    'qualite': 'Associé indéfiniment responsable'},\n",
       "   {'siren': '421485210',\n",
       "    'noms': 'benoist',\n",
       "    'prenoms': 'jacques andre',\n",
       "    'date_naissance': '1949-04-05',\n",
       "    'ville_naissance': ' PARIS 16 ',\n",
       "    'pays_naissance': 'FRANCE',\n",
       "    'qualite': 'Associé indéfiniment responsable'},\n",
       "   {'siren': '421485210',\n",
       "    'noms': 'betheuil',\n",
       "    'prenoms': 'valerie marguerite jeanne',\n",
       "    'date_naissance': '1960-12-01',\n",
       "    'ville_naissance': ' PARIS 15 ',\n",
       "    'pays_naissance': 'FRANCE',\n",
       "    'qualite': 'Associé indéfiniment responsable'},\n",
       "   {'siren': '421485210',\n",
       "    'noms': 'born',\n",
       "    'prenoms': 'pascal julien',\n",
       "    'date_naissance': '1956-03-02',\n",
       "    'ville_naissance': ' PARIS 13 ',\n",
       "    'pays_naissance': 'FRANCE',\n",
       "    'qualite': 'Associé indéfiniment responsable'},\n",
       "   {'siren': '421485210',\n",
       "    'noms': 'dassonville',\n",
       "    'prenoms': 'jean-yves jacques marie',\n",
       "    'date_naissance': '1956-12-28',\n",
       "    'ville_naissance': ' TUNIS ',\n",
       "    'pays_naissance': 'TUNISIE',\n",
       "    'qualite': 'Associé indéfiniment responsable'},\n",
       "   {'siren': '421485210',\n",
       "    'noms': 'jacquot',\n",
       "    'prenoms': 'francois pierre andre',\n",
       "    'date_naissance': '1958-10-27',\n",
       "    'ville_naissance': ' SAINT-SYMPHORIEN ',\n",
       "    'pays_naissance': 'FRANCE',\n",
       "    'qualite': 'Associé indéfiniment responsable'},\n",
       "   {'siren': '421485210',\n",
       "    'noms': 'jouppe',\n",
       "    'prenoms': 'bernard',\n",
       "    'date_naissance': '',\n",
       "    'ville_naissance': '',\n",
       "    'pays_naissance': '',\n",
       "    'qualite': 'Liquidateur'},\n",
       "   {'siren': '421485210',\n",
       "    'noms': 'jouppe',\n",
       "    'prenoms': 'bernard',\n",
       "    'date_naissance': '1961-06-24',\n",
       "    'ville_naissance': '19275 USSEL (19)',\n",
       "    'pays_naissance': 'FRANCE',\n",
       "    'qualite': 'Gérant, Associé indéfiniment responsable'},\n",
       "   {'siren': '421485210',\n",
       "    'noms': 'lalot',\n",
       "    'prenoms': 'francois pierre maurice jean',\n",
       "    'date_naissance': '1954-07-10',\n",
       "    'ville_naissance': ' TOULOUSE ',\n",
       "    'pays_naissance': 'FRANCE',\n",
       "    'qualite': 'Gérant, Associé indéfiniment responsable'},\n",
       "   {'siren': '421485210',\n",
       "    'noms': 'moniere',\n",
       "    'prenoms': 'jacques gilbert',\n",
       "    'date_naissance': '1953-02-10',\n",
       "    'ville_naissance': ' LES SABLES D OLONNE ',\n",
       "    'pays_naissance': 'FRANCE',\n",
       "    'qualite': 'Associé indéfiniment responsable'},\n",
       "   {'siren': '421485210',\n",
       "    'noms': 'neveur',\n",
       "    'prenoms': 'claude andre',\n",
       "    'date_naissance': '1944-06-14',\n",
       "    'ville_naissance': '37261 TOURS (37)',\n",
       "    'pays_naissance': 'FRANCE',\n",
       "    'qualite': 'Associé indéfiniment responsable'},\n",
       "   {'siren': '421485210',\n",
       "    'noms': 'phan van',\n",
       "    'prenoms': 'anne marie henriette nam-lai',\n",
       "    'date_naissance': '1957-11-03',\n",
       "    'ville_naissance': ' TOULOUSE ',\n",
       "    'pays_naissance': 'FRANCE',\n",
       "    'qualite': 'Gérant, Associé indéfiniment responsable'},\n",
       "   {'siren': '421485210',\n",
       "    'noms': 'rohart de turenne',\n",
       "    'prenoms': 'caroline maryse etiennette',\n",
       "    'date_naissance': '1969-06-04',\n",
       "    'ville_naissance': '62261 CUCQ (62)',\n",
       "    'pays_naissance': 'FRANCE',\n",
       "    'qualite': 'Associé indéfiniment responsable'},\n",
       "   {'siren': '421485210',\n",
       "    'noms': 'soutif',\n",
       "    'prenoms': 'dominique jean rene',\n",
       "    'date_naissance': '1957-11-11',\n",
       "    'ville_naissance': '27016 LES ANDELYS (27)',\n",
       "    'pays_naissance': 'FRANCE',\n",
       "    'qualite': 'Associé indéfiniment responsable'},\n",
       "   {'siren': '421485210',\n",
       "    'noms': 'tanguy saudeau',\n",
       "    'prenoms': 'christine michelle',\n",
       "    'date_naissance': '1951-04-18',\n",
       "    'ville_naissance': '76540 Rouen (76)',\n",
       "    'pays_naissance': 'FRANCE',\n",
       "    'qualite': 'Associé indéfiniment responsable'},\n",
       "   {'siren': '421485210',\n",
       "    'noms': 'tauveron',\n",
       "    'prenoms': 'philippe marie andre louis',\n",
       "    'date_naissance': '1955-04-09',\n",
       "    'ville_naissance': '87085 LIMOGES (87)',\n",
       "    'pays_naissance': 'FRANCE',\n",
       "    'qualite': 'Associé indéfiniment responsable'},\n",
       "   {'siren': '421485210',\n",
       "    'noms': 'vedere',\n",
       "    'prenoms': 'valerie claudine',\n",
       "    'date_naissance': '1966-01-26',\n",
       "    'ville_naissance': ' BOURG LA REINE ',\n",
       "    'pays_naissance': 'FRANCE',\n",
       "    'qualite': 'Associé indéfiniment responsable'}],\n",
       "  'liste_adresses': ['15 RUE D ENTRAIGUES 37261 TOURS'],\n",
       "  'adresse_etablissement': '15 RUE D ENTRAIGUES 37261 TOURS',\n",
       "  'nom_complet': 'menentraigues',\n",
       "  'liste_dirigeants': ['claude hugues amoudry',\n",
       "   'jacques andre benoist',\n",
       "   'valerie marguerite jeanne betheuil',\n",
       "   'pascal julien born',\n",
       "   'jean-yves jacques marie dassonville',\n",
       "   'francois pierre andre jacquot',\n",
       "   'bernard jouppe',\n",
       "   'bernard jouppe',\n",
       "   'francois pierre maurice jean lalot',\n",
       "   'jacques gilbert moniere',\n",
       "   'claude andre neveur',\n",
       "   'anne marie henriette nam-lai phan van',\n",
       "   'caroline maryse etiennette rohart de turenne',\n",
       "   'dominique jean rene soutif',\n",
       "   'christine michelle tanguy saudeau',\n",
       "   'philippe marie andre louis tauveron',\n",
       "   'valerie claudine vedere'],\n",
       "  'is_entrepreneur_individuel': 'false',\n",
       "  'section_activite_principale': 'L',\n",
       "  'departement': '37',\n",
       "  'coordonnees': '47.388091,0.688547',\n",
       "  'concat_enseigne_adresse': ['15 RUE D ENTRAIGUES 37261 TOURS'],\n",
       "  'concat_nom_adr_siren': 'menentraigues 15 RUE D ENTRAIGUES 37261 TOURS 421485210'},\n",
       " {'siren': '489860718',\n",
       "  'siret_siege': '48986071800019',\n",
       "  'date_creation_siege': '2006-04-25',\n",
       "  'date_debut_activite_siege': '2008-01-01',\n",
       "  'etat_administratif_siege': 'A',\n",
       "  'activite_principale_siege': '68.20B',\n",
       "  'complement_adresse': '7 A 13 RUE DE LA DOLVE',\n",
       "  'numero_voie': '5',\n",
       "  'type_voie': 'PL',\n",
       "  'libelle_voie': 'JEAN JAURES',\n",
       "  'commune': '37261',\n",
       "  'libelle_commune': 'TOURS',\n",
       "  'code_postal': '37000',\n",
       "  'geo_id': '37261_2690_00005',\n",
       "  'longitude': '0.688317',\n",
       "  'latitude': '47.38975',\n",
       "  'date_creation_unite_legale': '2006-04-25',\n",
       "  'date_mise_a_jour': '2019-06-18T03:44:10',\n",
       "  'etat_administratif_unite_legale': 'A',\n",
       "  'nom_raison_sociale': 'DOLVE VITA',\n",
       "  'nature_juridique_unite_legale': '6540',\n",
       "  'activite_principale_unite_legale': '68.20B',\n",
       "  'economie_sociale_solidaire_unite_legale': 'N',\n",
       "  'nombre_etablissements': 1,\n",
       "  'nombre_etablissements_ouverts': 1,\n",
       "  'is_siege': 'true',\n",
       "  'dirigeants_pp': [{'siren': '489860718',\n",
       "    'noms': 'jouppe',\n",
       "    'prenoms': 'bernard',\n",
       "    'date_naissance': '1961-06-24',\n",
       "    'ville_naissance': '19275 USSEL (19)',\n",
       "    'pays_naissance': 'FRANCE',\n",
       "    'qualite': 'Gérant, Associé indéfiniment responsable'},\n",
       "   {'siren': '489860718',\n",
       "    'noms': 'melet',\n",
       "    'prenoms': 'julien',\n",
       "    'date_naissance': '1982-01-09',\n",
       "    'ville_naissance': '37050 Chambray-lès-Tours (37)',\n",
       "    'pays_naissance': 'FRANCE',\n",
       "    'qualite': 'Gérant, Associé indéfiniment responsable'},\n",
       "   {'siren': '489860718',\n",
       "    'noms': 'moniere',\n",
       "    'prenoms': 'jacques gilbert',\n",
       "    'date_naissance': '1953-02-10',\n",
       "    'ville_naissance': ' LES SABLES D OLONNE ',\n",
       "    'pays_naissance': 'FRANCE',\n",
       "    'qualite': 'Gérant, Associé indéfiniment responsable'},\n",
       "   {'siren': '489860718',\n",
       "    'noms': 'phan van',\n",
       "    'prenoms': 'anne marie henriette nam-lai',\n",
       "    'date_naissance': '1957-11-03',\n",
       "    'ville_naissance': ' TOULOUSE ',\n",
       "    'pays_naissance': 'FRANCE',\n",
       "    'qualite': 'Gérant, Associé indéfiniment responsable'},\n",
       "   {'siren': '489860718',\n",
       "    'noms': 'rohart',\n",
       "    'prenoms': 'caroline maryse etiennette',\n",
       "    'date_naissance': '1969-06-04',\n",
       "    'ville_naissance': '62261 CUCQ (62)',\n",
       "    'pays_naissance': 'FRANCE',\n",
       "    'qualite': 'Gérant, Associé indéfiniment responsable'},\n",
       "   {'siren': '489860718',\n",
       "    'noms': 'soutif',\n",
       "    'prenoms': 'dominique jean rene',\n",
       "    'date_naissance': '1957-11-11',\n",
       "    'ville_naissance': '27016 LES ANDELYS (27)',\n",
       "    'pays_naissance': 'FRANCE',\n",
       "    'qualite': 'Gérant, Associé indéfiniment responsable'}],\n",
       "  'liste_adresses': ['7 A 13 RUE DE LA DOLVE 5 PL JEAN JAURES 37261 TOURS'],\n",
       "  'adresse_etablissement': '7 A 13 RUE DE LA DOLVE 5 PL JEAN JAURES 37261 TOURS',\n",
       "  'nom_complet': 'dolve vita',\n",
       "  'liste_dirigeants': ['bernard jouppe',\n",
       "   'julien melet',\n",
       "   'jacques gilbert moniere',\n",
       "   'anne marie henriette nam-lai phan van',\n",
       "   'caroline maryse etiennette rohart',\n",
       "   'dominique jean rene soutif'],\n",
       "  'is_entrepreneur_individuel': 'false',\n",
       "  'section_activite_principale': 'L',\n",
       "  'departement': '37',\n",
       "  'coordonnees': '47.38975,0.688317',\n",
       "  'concat_enseigne_adresse': ['7 A 13 RUE DE LA DOLVE 5 PL JEAN JAURES 37261 TOURS'],\n",
       "  'concat_nom_adr_siren': 'dolve vita 7 A 13 RUE DE LA DOLVE 5 PL JEAN JAURES 37261 TOURS 489860718'},\n",
       " {'siren': '491603023',\n",
       "  'siret_siege': '49160302300012',\n",
       "  'date_creation_siege': '2006-08-01',\n",
       "  'tranche_effectif_salarie_siege': '02',\n",
       "  'date_debut_activite_siege': '2008-01-01',\n",
       "  'etat_administratif_siege': 'A',\n",
       "  'activite_principale_siege': '82.19Z',\n",
       "  'complement_adresse': '7 A 13 RUE DE LA DOLVE',\n",
       "  'numero_voie': '5',\n",
       "  'type_voie': 'PL',\n",
       "  'libelle_voie': 'JEAN JAURES',\n",
       "  'commune': '37261',\n",
       "  'libelle_commune': 'TOURS',\n",
       "  'code_postal': '37000',\n",
       "  'geo_id': '37261_2690_00005',\n",
       "  'longitude': '0.688317',\n",
       "  'latitude': '47.38975',\n",
       "  'date_creation_unite_legale': '2006-08-01',\n",
       "  'tranche_effectif_salarie_unite_legale': '02',\n",
       "  'date_mise_a_jour': '2021-10-27T08:29:42',\n",
       "  'categorie_entreprise': 'PME',\n",
       "  'etat_administratif_unite_legale': 'A',\n",
       "  'nom_raison_sociale': 'RHUMATODOLVE',\n",
       "  'nature_juridique_unite_legale': '6589',\n",
       "  'activite_principale_unite_legale': '82.19Z',\n",
       "  'economie_sociale_solidaire_unite_legale': 'N',\n",
       "  'nombre_etablissements': 1,\n",
       "  'nombre_etablissements_ouverts': 1,\n",
       "  'is_siege': 'true',\n",
       "  'dirigeants_pp': [{'siren': '491603023',\n",
       "    'noms': 'jouppe',\n",
       "    'prenoms': 'bernard',\n",
       "    'date_naissance': '1961-06-24',\n",
       "    'ville_naissance': '19275 Ussel (19)',\n",
       "    'pays_naissance': 'FRANCE',\n",
       "    'qualite': 'Gérant, Associé indéfiniment responsable'},\n",
       "   {'siren': '491603023',\n",
       "    'noms': 'melet',\n",
       "    'prenoms': 'julien',\n",
       "    'date_naissance': '1982-01-09',\n",
       "    'ville_naissance': '37050 Chambray-lès-Tours (37)',\n",
       "    'pays_naissance': 'FRANCE',\n",
       "    'qualite': 'Gérant, Associé indéfiniment responsable'},\n",
       "   {'siren': '491603023',\n",
       "    'noms': 'phan van',\n",
       "    'prenoms': 'anne marie henriette nam-lai',\n",
       "    'date_naissance': '1957-11-03',\n",
       "    'ville_naissance': ' TOULOUSE ',\n",
       "    'pays_naissance': 'FRANCE',\n",
       "    'qualite': 'Gérant, Associé indéfiniment responsable'},\n",
       "   {'siren': '491603023',\n",
       "    'noms': 'rohart',\n",
       "    'prenoms': 'caroline maryse etiennette',\n",
       "    'date_naissance': '1969-06-04',\n",
       "    'ville_naissance': '62261 Cucq (62)',\n",
       "    'pays_naissance': 'FRANCE',\n",
       "    'qualite': 'Gérant, Associé indéfiniment responsable'},\n",
       "   {'siren': '491603023',\n",
       "    'noms': 'soutif',\n",
       "    'prenoms': 'dominique jean rene',\n",
       "    'date_naissance': '1957-11-11',\n",
       "    'ville_naissance': '27016 Les Andelys (27)',\n",
       "    'pays_naissance': 'FRANCE',\n",
       "    'qualite': 'Gérant, Associé indéfiniment responsable'}],\n",
       "  'liste_adresses': ['7 A 13 RUE DE LA DOLVE 5 PL JEAN JAURES 37261 TOURS'],\n",
       "  'adresse_etablissement': '7 A 13 RUE DE LA DOLVE 5 PL JEAN JAURES 37261 TOURS',\n",
       "  'nom_complet': 'rhumatodolve',\n",
       "  'liste_dirigeants': ['bernard jouppe',\n",
       "   'julien melet',\n",
       "   'anne marie henriette nam-lai phan van',\n",
       "   'caroline maryse etiennette rohart',\n",
       "   'dominique jean rene soutif'],\n",
       "  'is_entrepreneur_individuel': 'false',\n",
       "  'section_activite_principale': 'N',\n",
       "  'departement': '37',\n",
       "  'coordonnees': '47.38975,0.688317',\n",
       "  'concat_enseigne_adresse': ['7 A 13 RUE DE LA DOLVE 5 PL JEAN JAURES 37261 TOURS'],\n",
       "  'concat_nom_adr_siren': 'rhumatodolve 7 A 13 RUE DE LA DOLVE 5 PL JEAN JAURES 37261 TOURS 491603023'},\n",
       " {'siren': '349570754',\n",
       "  'siret_siege': '34957075400029',\n",
       "  'date_creation_siege': '1999-04-01',\n",
       "  'tranche_effectif_salarie_siege': '01',\n",
       "  'date_debut_activite_siege': '2008-01-01',\n",
       "  'etat_administratif_siege': 'A',\n",
       "  'activite_principale_siege': '82.19Z',\n",
       "  'numero_voie': '15',\n",
       "  'type_voie': 'RUE',\n",
       "  'libelle_voie': 'D ENTRAIGUES',\n",
       "  'commune': '37261',\n",
       "  'libelle_commune': 'TOURS',\n",
       "  'code_postal': '37000',\n",
       "  'geo_id': '37261_1680_00015',\n",
       "  'longitude': '0.688547',\n",
       "  'latitude': '47.388091',\n",
       "  'date_creation_unite_legale': '1989-02-01',\n",
       "  'tranche_effectif_salarie_unite_legale': '01',\n",
       "  'date_mise_a_jour': '2021-10-27T08:39:42',\n",
       "  'categorie_entreprise': 'PME',\n",
       "  'etat_administratif_unite_legale': 'A',\n",
       "  'nom_raison_sociale': 'MENOPOROS 37',\n",
       "  'nature_juridique_unite_legale': '6589',\n",
       "  'activite_principale_unite_legale': '82.19Z',\n",
       "  'economie_sociale_solidaire_unite_legale': 'N',\n",
       "  'nombre_etablissements': 2,\n",
       "  'nombre_etablissements_ouverts': 1,\n",
       "  'is_siege': 'true',\n",
       "  'dirigeants_pp': [{'siren': '349570754',\n",
       "    'noms': 'amoudry',\n",
       "    'prenoms': 'claude hugues',\n",
       "    'date_naissance': '1953-07-08',\n",
       "    'ville_naissance': '74256 Sallanches (74)',\n",
       "    'pays_naissance': 'FRANCE',\n",
       "    'qualite': 'Gérant'},\n",
       "   {'siren': '349570754',\n",
       "    'noms': 'badaoui',\n",
       "    'prenoms': 'samir',\n",
       "    'date_naissance': '1954-07-17',\n",
       "    'ville_naissance': ' Boufarik ',\n",
       "    'pays_naissance': 'ALGERIE',\n",
       "    'qualite': 'Gérant'},\n",
       "   {'siren': '349570754',\n",
       "    'noms': 'benoist',\n",
       "    'prenoms': 'jacques andre',\n",
       "    'date_naissance': '1949-04-05',\n",
       "    'ville_naissance': '75116 Paris 16',\n",
       "    'pays_naissance': 'FRANCE',\n",
       "    'qualite': 'Gérant'},\n",
       "   {'siren': '349570754',\n",
       "    'noms': 'betheuil',\n",
       "    'prenoms': 'valerie marguerite jeanne',\n",
       "    'date_naissance': '1960-12-01',\n",
       "    'ville_naissance': '75115 Paris 15',\n",
       "    'pays_naissance': 'FRANCE',\n",
       "    'qualite': 'Gérant, Associé indéfiniment responsable'},\n",
       "   {'siren': '349570754',\n",
       "    'noms': 'dassonville',\n",
       "    'prenoms': 'jean-yves jacques marie',\n",
       "    'date_naissance': '1956-12-28',\n",
       "    'ville_naissance': ' TUNIS ',\n",
       "    'pays_naissance': 'TUNISIE',\n",
       "    'qualite': 'Gérant, Associé indéfiniment responsable'},\n",
       "   {'siren': '349570754',\n",
       "    'noms': 'erny',\n",
       "    'prenoms': 'florence',\n",
       "    'date_naissance': '1984-12-03',\n",
       "    'ville_naissance': '38185 Grenoble (38)',\n",
       "    'pays_naissance': 'FRANCE',\n",
       "    'qualite': 'Gérant, Associé indéfiniment responsable'},\n",
       "   {'siren': '349570754',\n",
       "    'noms': 'jacquot',\n",
       "    'prenoms': 'francois pierre andre',\n",
       "    'date_naissance': '1958-10-27',\n",
       "    'ville_naissance': '37261 Tours (37)',\n",
       "    'pays_naissance': 'FRANCE',\n",
       "    'qualite': 'Gérant, Associé indéfiniment responsable'},\n",
       "   {'siren': '349570754',\n",
       "    'noms': 'jouppe',\n",
       "    'prenoms': 'bernard',\n",
       "    'date_naissance': '1961-06-24',\n",
       "    'ville_naissance': '19275 Ussel (19)',\n",
       "    'pays_naissance': 'FRANCE',\n",
       "    'qualite': 'Gérant, Associé indéfiniment responsable'},\n",
       "   {'siren': '349570754',\n",
       "    'noms': 'lalot',\n",
       "    'prenoms': 'francois pierre maurice jean',\n",
       "    'date_naissance': '1954-07-10',\n",
       "    'ville_naissance': ' TOULOUSE ',\n",
       "    'pays_naissance': 'FRANCE',\n",
       "    'qualite': 'Gérant, Associé indéfiniment responsable'},\n",
       "   {'siren': '349570754',\n",
       "    'noms': 'merot',\n",
       "    'prenoms': 'oriane anne sandra',\n",
       "    'date_naissance': '1985-02-15',\n",
       "    'ville_naissance': '49007 Angers (49)',\n",
       "    'pays_naissance': 'FRANCE',\n",
       "    'qualite': 'Gérant, Associé indéfiniment responsable'},\n",
       "   {'siren': '349570754',\n",
       "    'noms': 'moniere',\n",
       "    'prenoms': 'jacques gilbert',\n",
       "    'date_naissance': '1953-02-10',\n",
       "    'ville_naissance': \"85194 Les Sables-d'Olonne (85)\",\n",
       "    'pays_naissance': 'FRANCE',\n",
       "    'qualite': 'Gérant, Associé indéfiniment responsable'},\n",
       "   {'siren': '349570754',\n",
       "    'noms': 'phan van',\n",
       "    'prenoms': 'anne marie henriette nam-lai',\n",
       "    'date_naissance': '1957-11-03',\n",
       "    'ville_naissance': '31555 Toulouse (31)',\n",
       "    'pays_naissance': 'FRANCE',\n",
       "    'qualite': 'Gérant, Associé indéfiniment responsable'},\n",
       "   {'siren': '349570754',\n",
       "    'noms': 'rohart de turenne',\n",
       "    'prenoms': 'caroline maryse etiennette',\n",
       "    'date_naissance': '1969-06-04',\n",
       "    'ville_naissance': '62261 Cucq (62)',\n",
       "    'pays_naissance': 'FRANCE',\n",
       "    'qualite': 'Gérant, Associé indéfiniment responsable'},\n",
       "   {'siren': '349570754',\n",
       "    'noms': 'soutif',\n",
       "    'prenoms': 'dominique jean rene',\n",
       "    'date_naissance': '1957-11-11',\n",
       "    'ville_naissance': '27016 Les Andelys (27)',\n",
       "    'pays_naissance': 'FRANCE',\n",
       "    'qualite': 'Gérant, Associé indéfiniment responsable'},\n",
       "   {'siren': '349570754',\n",
       "    'noms': 'tanguy saudeau',\n",
       "    'prenoms': 'christine michelle',\n",
       "    'date_naissance': '1951-04-18',\n",
       "    'ville_naissance': '76540 Rouen (76)',\n",
       "    'pays_naissance': 'FRANCE',\n",
       "    'qualite': 'Gérant'},\n",
       "   {'siren': '349570754',\n",
       "    'noms': 'tauveron',\n",
       "    'prenoms': 'philippe marie andre louis',\n",
       "    'date_naissance': '1955-04-09',\n",
       "    'ville_naissance': '87085 Limoges (87)',\n",
       "    'pays_naissance': 'FRANCE',\n",
       "    'qualite': 'Gérant, Associé indéfiniment responsable'},\n",
       "   {'siren': '349570754',\n",
       "    'noms': 'vedere',\n",
       "    'prenoms': 'valerie claudine',\n",
       "    'date_naissance': '1966-01-26',\n",
       "    'ville_naissance': '92014 Bourg-la-Reine (92)',\n",
       "    'pays_naissance': 'FRANCE',\n",
       "    'qualite': 'Gérant, Associé indéfiniment responsable'}],\n",
       "  'liste_adresses': ['14 RUE D ENTRAIGUES 37261 TOURS',\n",
       "   '15 RUE D ENTRAIGUES 37261 TOURS'],\n",
       "  'adresse_etablissement': '15 RUE D ENTRAIGUES 37261 TOURS',\n",
       "  'nom_complet': 'menoporos 37',\n",
       "  'liste_dirigeants': ['claude hugues amoudry',\n",
       "   'samir badaoui',\n",
       "   'jacques andre benoist',\n",
       "   'valerie marguerite jeanne betheuil',\n",
       "   'jean-yves jacques marie dassonville',\n",
       "   'florence erny',\n",
       "   'francois pierre andre jacquot',\n",
       "   'bernard jouppe',\n",
       "   'francois pierre maurice jean lalot',\n",
       "   'oriane anne sandra merot',\n",
       "   'jacques gilbert moniere',\n",
       "   'anne marie henriette nam-lai phan van',\n",
       "   'caroline maryse etiennette rohart de turenne',\n",
       "   'dominique jean rene soutif',\n",
       "   'christine michelle tanguy saudeau',\n",
       "   'philippe marie andre louis tauveron',\n",
       "   'valerie claudine vedere'],\n",
       "  'is_entrepreneur_individuel': 'false',\n",
       "  'section_activite_principale': 'N',\n",
       "  'departement': '37',\n",
       "  'coordonnees': '47.388091,0.688547',\n",
       "  'concat_enseigne_adresse': ['14 RUE D ENTRAIGUES 37261 TOURS',\n",
       "   '15 RUE D ENTRAIGUES 37261 TOURS'],\n",
       "  'concat_nom_adr_siren': 'menoporos 37 15 RUE D ENTRAIGUES 37261 TOURS 349570754'},\n",
       " {'siren': '523639623',\n",
       "  'siret_siege': '52363962300017',\n",
       "  'date_creation_siege': '2010-07-02',\n",
       "  'date_debut_activite_siege': '2010-07-02',\n",
       "  'etat_administratif_siege': 'A',\n",
       "  'activite_principale_siege': '68.20B',\n",
       "  'numero_voie': '74',\n",
       "  'type_voie': 'RUE',\n",
       "  'libelle_voie': 'VICTOR HUGO',\n",
       "  'commune': '37261',\n",
       "  'libelle_commune': 'TOURS',\n",
       "  'code_postal': '37000',\n",
       "  'geo_id': '37261_4950_00074',\n",
       "  'longitude': '0.683896',\n",
       "  'latitude': '47.388385',\n",
       "  'date_creation_unite_legale': '2010-07-02',\n",
       "  'date_mise_a_jour': '2017-06-30T04:45:12',\n",
       "  'etat_administratif_unite_legale': 'A',\n",
       "  'nom_raison_sociale': 'SCI DE LASLAUDIE',\n",
       "  'nature_juridique_unite_legale': '6540',\n",
       "  'activite_principale_unite_legale': '68.20B',\n",
       "  'nombre_etablissements': 1,\n",
       "  'nombre_etablissements_ouverts': 1,\n",
       "  'is_siege': 'true',\n",
       "  'dirigeants_pp': [{'siren': '523639623',\n",
       "    'noms': 'barthe jouppe',\n",
       "    'prenoms': 'marie-christine germaine odette',\n",
       "    'date_naissance': '1964-03-28',\n",
       "    'ville_naissance': '33063 Bordeaux (33)',\n",
       "    'pays_naissance': 'FRANCE',\n",
       "    'qualite': 'Gérant, Associé indéfiniment responsable'},\n",
       "   {'siren': '523639623',\n",
       "    'noms': 'jouppe',\n",
       "    'prenoms': 'bernard',\n",
       "    'date_naissance': '1961-06-24',\n",
       "    'ville_naissance': '19275 USSEL (19)',\n",
       "    'pays_naissance': 'FRANCE',\n",
       "    'qualite': 'Gérant, Associé indéfiniment responsable'},\n",
       "   {'siren': '523639623',\n",
       "    'noms': 'jouppe',\n",
       "    'prenoms': 'guillaume',\n",
       "    'date_naissance': '1988-05-27',\n",
       "    'ville_naissance': '29019 Brest (29)',\n",
       "    'pays_naissance': 'FRANCE',\n",
       "    'qualite': 'Associé indéfiniment responsable'},\n",
       "   {'siren': '523639623',\n",
       "    'noms': 'jouppe',\n",
       "    'prenoms': 'jean-brieuc',\n",
       "    'date_naissance': '1996-10-18',\n",
       "    'ville_naissance': '37050 Chambray-lès-Tours (37)',\n",
       "    'pays_naissance': 'FRANCE',\n",
       "    'qualite': 'Associé indéfiniment responsable'},\n",
       "   {'siren': '523639623',\n",
       "    'noms': 'jouppe',\n",
       "    'prenoms': 'mayeul',\n",
       "    'date_naissance': '1992-02-08',\n",
       "    'ville_naissance': '29019 Brest (29)',\n",
       "    'pays_naissance': 'FRANCE',\n",
       "    'qualite': 'Associé indéfiniment responsable'},\n",
       "   {'siren': '523639623',\n",
       "    'noms': 'jouppe',\n",
       "    'prenoms': 'sigolene',\n",
       "    'date_naissance': '1995-06-30',\n",
       "    'ville_naissance': '37050 Chambray-lès-Tours (37)',\n",
       "    'pays_naissance': 'FRANCE',\n",
       "    'qualite': 'Associé indéfiniment responsable'},\n",
       "   {'siren': '523639623',\n",
       "    'noms': 'jouppe',\n",
       "    'prenoms': 'xavier',\n",
       "    'date_naissance': '1990-02-01',\n",
       "    'ville_naissance': '29019 Brest (29)',\n",
       "    'pays_naissance': 'FRANCE',\n",
       "    'qualite': 'Associé indéfiniment responsable'}],\n",
       "  'liste_adresses': ['74 RUE VICTOR HUGO 37261 TOURS'],\n",
       "  'adresse_etablissement': '74 RUE VICTOR HUGO 37261 TOURS',\n",
       "  'nom_complet': 'sci de laslaudie',\n",
       "  'liste_dirigeants': ['marie-christine germaine odette barthe jouppe',\n",
       "   'bernard jouppe',\n",
       "   'guillaume jouppe',\n",
       "   'jean-brieuc jouppe',\n",
       "   'mayeul jouppe',\n",
       "   'sigolene jouppe',\n",
       "   'xavier jouppe'],\n",
       "  'is_entrepreneur_individuel': 'false',\n",
       "  'section_activite_principale': 'L',\n",
       "  'departement': '37',\n",
       "  'coordonnees': '47.388385,0.683896',\n",
       "  'concat_enseigne_adresse': ['74 RUE VICTOR HUGO 37261 TOURS'],\n",
       "  'concat_nom_adr_siren': 'sci de laslaudie 74 RUE VICTOR HUGO 37261 TOURS 523639623'}]"
      ]
     },
     "execution_count": 57,
     "metadata": {},
     "output_type": "execute_result"
    }
   ],
   "source": [
    "response"
   ]
  },
  {
   "cell_type": "code",
   "execution_count": 16,
   "metadata": {},
   "outputs": [],
   "source": [
    "from elasticsearch_dsl import query"
   ]
  },
  {
   "cell_type": "code",
   "execution_count": null,
   "metadata": {},
   "outputs": [],
   "source": []
  },
  {
   "cell_type": "markdown",
   "metadata": {},
   "source": [
    "## Indexing"
   ]
  },
  {
   "cell_type": "code",
   "execution_count": null,
   "metadata": {
    "tags": []
   },
   "outputs": [],
   "source": [
    "def dict_from_row(row):\n",
    "    return dict(zip(row.keys(), row))"
   ]
  },
  {
   "cell_type": "code",
   "execution_count": null,
   "metadata": {
    "tags": []
   },
   "outputs": [],
   "source": [
    "def process_res(res):\n",
    "    arr = []\n",
    "    for result in res:            \n",
    "        mydict = {}\n",
    "        # mydict['siege'] = {}\n",
    "        for item in result:\n",
    "            # clean string from spaces\n",
    "            if item in [\"liste_enseignes\", \"liste_adresses\"]:\n",
    "                mydict[item] = unique_string(result[item])\n",
    "            else:   \n",
    "                mydict[item] = result[item]\n",
    "                \n",
    "        mydict['dirigeants_pp'] = json.loads(result['dirigeants_pp'])\n",
    "        mydict['dirigeants_pm'] = json.loads(result['dirigeants_pm'])\n",
    "        mydict['conventions_collectives'] = json.loads(result['conventions_collectives'])\n",
    "                \n",
    "        mydict['liste_dirigeants'] = []\n",
    "        mydict['liste_conventions_collectives'] = []\n",
    "        \n",
    "        for dirigeant_pp in mydict['dirigeants_pp']:\n",
    "            #dirigeant = {k: None if not v else v for k, v in dirigeant.items()}\n",
    "            # dirigeant = {k: v for k, v in dirigeant.items() if v}\n",
    "            mydict['liste_dirigeants'].append(dirigeant_pp[\"prenoms\"] + \" \" + dirigeant_pp[\"noms\"])\n",
    "        for dirigeant_pm in mydict['dirigeants_pm']:\n",
    "            #dirigeant = {k: None if not v else v for k, v in dirigeant.items()}\n",
    "            # dirigeant = {k: v for k, v in dirigeant.items() if v}\n",
    "            mydict['liste_dirigeants'].append(dirigeant_pm[\"denomination\"])\n",
    "            \n",
    "        for convention in mydict['conventions_collectives']:\n",
    "            mydict['liste_conventions_collectives'].append(convention[\"idcc\"].strip())\n",
    "        \n",
    "        del mydict['conventions_collectives']\n",
    "\n",
    "        mydict['nom_complet'] = create_nom_complet(\n",
    "            result['nature_juridique_unite_legale'],\n",
    "            result['nom'],\n",
    "            result['nom_usage'],\n",
    "            result['nom_raison_sociale'],\n",
    "            result['sigle'],\n",
    "            result['prenom'],\n",
    "        )\n",
    "        mydict['is_entrepreneur_individuel'] = create_entrepreneur_individuel(\n",
    "            result['nature_juridique_unite_legale']\n",
    "        )\n",
    "        mydict['section_activite_principale'] = create_section(\n",
    "            result['activite_principale_unite_legale']\n",
    "        )\n",
    "        mydict['departement'] = create_departement(\n",
    "            result['commune']\n",
    "        )\n",
    "        mydict['coordonnees'] = create_coordonnees(\n",
    "            result['longitude'],\n",
    "            result['latitude']\n",
    "        )\n",
    "        mydict['concat_enseigne_adresse'] = (get_string(unique_string(result['liste_enseignes'])) + \" \" + get_string(unique_string(result['liste_adresses']))).strip()\n",
    "        mydict['concat_nom_adr_siren'] = (get_string(mydict['nom_complet']) + \" \" + get_string(result['adresse_complete']) + \" \" + get_string(result['siren'])).strip()\n",
    "        \n",
    "        arr.append(mydict)\n",
    "    return arr\n",
    "    "
   ]
  },
  {
   "cell_type": "code",
   "execution_count": null,
   "metadata": {},
   "outputs": [],
   "source": [
    "def doc_generator(data):\n",
    "    for index, document in enumerate(data):\n",
    "        yield Siren(meta={\"id\": document[\"siret_siege\"]}, **document).to_dict(\n",
    "            include_meta=True\n",
    "        )\n",
    "    # Serialize the instance into a dictionary so that it can be saved in elasticsearch."
   ]
  },
  {
   "cell_type": "code",
   "execution_count": null,
   "metadata": {},
   "outputs": [],
   "source": [
    "global_stats()"
   ]
  },
  {
   "cell_type": "code",
   "execution_count": null,
   "metadata": {
    "tags": []
   },
   "outputs": [],
   "source": [
    "chunk_size = 1500"
   ]
  },
  {
   "cell_type": "code",
   "execution_count": null,
   "metadata": {
    "tags": []
   },
   "outputs": [],
   "source": [
    "for row in cursor.execute('''SELECT count(*) FROM siretsiege;'''):\n",
    "    nb_iter = int(row[0]) / chunk_size + 1"
   ]
  },
  {
   "cell_type": "code",
   "execution_count": null,
   "metadata": {
    "tags": []
   },
   "outputs": [],
   "source": [
    "int(nb_iter)"
   ]
  },
  {
   "cell_type": "code",
   "execution_count": null,
   "metadata": {
    "tags": []
   },
   "outputs": [],
   "source": [
    "start_time = time.time()\n",
    "\n",
    "cursor.execute(f'''\n",
    "    SELECT \n",
    "        ul.siren,\n",
    "        st.siret as siret_siege,\n",
    "        st.date_creation as date_creation_siege,\n",
    "        st.tranche_effectif_salarie as tranche_effectif_salarie_siege,\n",
    "        st.date_debut_activite as date_debut_activite_siege,\n",
    "        st.etat_administratif_etablissement as etat_administratif_siege,\n",
    "        st.activite_principale as activite_principale_siege,\n",
    "        st.complement_adresse as complement_adresse,\n",
    "        st.numero_voie as numero_voie,\n",
    "        st.indice_repetition as ndice_repetition,\n",
    "        st.type_voie as type_voie,\n",
    "        st.libelle_voie as libelle_voie,\n",
    "        st.distribution_speciale as distribution_speciale,\n",
    "        st.cedex as cedex,\n",
    "        st.libelle_cedex as libelle_cedex,\n",
    "        st.commune as commune,\n",
    "        st.libelle_commune as libelle_commune,\n",
    "        st.code_pays_etranger as code_pays_etranger,\n",
    "        st.libelle_commune_etranger as libelle_commune_etranger,\n",
    "        st.libelle_pays_etranger as libelle_pays_etranger,\n",
    "        st.code_postal as code_postal,\n",
    "        st.geo_id as geo_id,\n",
    "        st.longitude as longitude,\n",
    "        st.latitude as latitude,\n",
    "        st.activite_principale_registre_metier as activite_principale_registre_metier,\n",
    "        st.adresse_complete as adresse_complete,\n",
    "        ul.date_creation_unite_legale as date_creation_unite_legale,\n",
    "        ul.tranche_effectif_salarie_unite_legale as tranche_effectif_salarie_unite_legale,\n",
    "        ul.date_mise_a_jour_unite_legale as date_mise_a_jour,\n",
    "        ul.categorie_entreprise as categorie_entreprise,\n",
    "        ul.etat_administratif_unite_legale as etat_administratif_unite_legale,\n",
    "        ul.nom_raison_sociale as nom_raison_sociale,\n",
    "        ul.nature_juridique_unite_legale as nature_juridique_unite_legale,\n",
    "        ul.activite_principale_unite_legale as activite_principale_unite_legale,\n",
    "        ul.economie_sociale_solidaire_unite_legale as economie_sociale_solidair_unite_legale,\n",
    "        (SELECT count FROM count_etab ce WHERE ce.siren = st.siren) as nombre_etablissements,\n",
    "        (SELECT count FROM count_etab_ouvert ceo WHERE ceo.siren = st.siren) as nombre_etablissements_ouverts,\n",
    "        (SELECT liste_enseignes FROM enseignes le WHERE le.siren = st.siren) as liste_enseignes,\n",
    "        (SELECT liste_adresses FROM adresses la WHERE la.siren = st.siren) as liste_adresses,\n",
    "        ul.sigle as sigle,\n",
    "        ul.prenom as prenom,\n",
    "        ul.nom as nom,\n",
    "        ul.nom_usage as nom_usage,\n",
    "        st.is_siege as is_siege,\n",
    "        (SELECT json_group_array(\n",
    "                json_object(\n",
    "                    'siren', siren,\n",
    "                    'noms', rep_noms,\n",
    "                    'prenoms', rep_prenoms,\n",
    "                    'date_naissance', rep_datenaissance,\n",
    "                    'ville_naissance', rep_villenaissance,\n",
    "                    'pays_naissance', rep_paysnaissance,\n",
    "                    'qualite', rep_qualite\n",
    "                    )\n",
    "                ) FROM \n",
    "                (\n",
    "                    SELECT siren, rep_noms, rep_prenoms, rep_datenaissance, rep_villenaissance, rep_paysnaissance, rep_qualite from dirigeant_pp \n",
    "                    WHERE siren = st.siren\n",
    "                )\n",
    "            ) as dirigeants_pp,\n",
    "        (SELECT json_group_array(\n",
    "                json_object(\n",
    "                    'siren', siren,\n",
    "                    'denomination', rep_denomination,\n",
    "                    'qualite', rep_qualite\n",
    "                    )\n",
    "                ) FROM \n",
    "                (\n",
    "                    SELECT siren, rep_denomination, rep_qualite from dirigeant_pm\n",
    "                    WHERE siren = st.siren\n",
    "                )\n",
    "            ) as dirigeants_pm,\n",
    "        (SELECT json_group_array(\n",
    "                json_object(\n",
    "                    'siren', siren,\n",
    "                    'idcc', idcc\n",
    "                    )\n",
    "                ) FROM \n",
    "                (\n",
    "                    SELECT siren, idcc from conventions_collectives\n",
    "                    WHERE siren = st.siren\n",
    "                )\n",
    "            ) as conventions_collectives\n",
    "        \n",
    "    FROM\n",
    "        siretsiege st\n",
    "    LEFT JOIN unite_legale ul ON ul.siren = st.siren \n",
    "    \n",
    "    \n",
    "''')\n",
    "#ld.liste_dirigeants as liste_dirigeants\n",
    "#LEFT JOIN dirigeants ld ON ul.siren = ld.siren"
   ]
  },
  {
   "cell_type": "code",
   "execution_count": null,
   "metadata": {
    "tags": []
   },
   "outputs": [],
   "source": [
    "i=0    \n",
    "res = 1\n",
    "\n",
    "while (res):\n",
    "    res = cursor.fetchmany(1500)\n",
    "    columns = tuple([x[0] for x in cursor.description])\n",
    "    res = tuple(\n",
    "        [{column: val for column, val in zip(columns, x)} for x in res]\n",
    "    )\n",
    "    res2 = process_res(res)\n",
    "    i=i+1\n",
    "    if(i%1000 == 0):\n",
    "        print(i)\n",
    "    try:\n",
    "        for success, details in helpers.parallel_bulk(elastic_connection, doc_generator(res2), chunk_size=elastic_bulk_size):\n",
    "            if not success:\n",
    "                raise Exception(f\"A file_access document failed: {details}\")\n",
    "    except Exception as e:\n",
    "        logging.error(f\"Failed to send to Elasticsearch: {e}\")\n",
    "    doc_count = elastic_connection.cat.count(\n",
    "            index=elastic_index, params={\"format\": \"json\"}\n",
    "        )[0][\"count\"]\n",
    "    print(f\"Number of documents indexed: {doc_count}\")\n",
    "stats()"
   ]
  },
  {
   "cell_type": "code",
   "execution_count": null,
   "metadata": {},
   "outputs": [],
   "source": [
    "global_stats()"
   ]
  },
  {
   "cell_type": "code",
   "execution_count": null,
   "metadata": {},
   "outputs": [],
   "source": [
    "cursor.close()"
   ]
  },
  {
   "cell_type": "code",
   "execution_count": null,
   "metadata": {},
   "outputs": [],
   "source": [
    "cursor.execute(\"SELECT * from dirigeant_pp WHERE siren='005520135' LIMIT 1000\")\n",
    "names = [description[0] for description in cursor.description]\n",
    "rows = cursor.fetchall()\n",
    "for row in rows:\n",
    "    for name,val in zip(names,row): \n",
    "        print(f\"{name}: {val}\")"
   ]
  },
  {
   "cell_type": "code",
   "execution_count": null,
   "metadata": {},
   "outputs": [],
   "source": [
    "connection.close()"
   ]
  },
  {
   "cell_type": "code",
   "execution_count": null,
   "metadata": {},
   "outputs": [],
   "source": []
  }
 ],
 "metadata": {
  "interpreter": {
   "hash": "19ece5f74f8baf7d074e990d308e7c75b7ac8b98c7c6e76faedd0c3526d006f2"
  },
  "kernelspec": {
   "display_name": "Python 3 (ipykernel)",
   "language": "python",
   "name": "python3"
  },
  "language_info": {
   "codemirror_mode": {
    "name": "ipython",
    "version": 3
   },
   "file_extension": ".py",
   "mimetype": "text/x-python",
   "name": "python",
   "nbconvert_exporter": "python",
   "pygments_lexer": "ipython3",
   "version": "3.9.7"
  }
 },
 "nbformat": 4,
 "nbformat_minor": 4
}
